{
 "cells": [
  {
   "cell_type": "markdown",
   "metadata": {},
   "source": [
    "<img src=\"images/imperial_logo.png\" width=\"275\" align=\"left\">\n",
    "\n",
    "<p style=\"text-align: right\">\n",
    "    **Created by** Amna Samar Askari<br>**Email:** asa713@ic.ac.uk<br><a>HTML Version (This will be a link)</a>\n",
    "</p>\n",
    "<br>\n",
    "\n",
    "# Biot Savart Law\n",
    "\n",
    "## Learning Objectives:\n",
    "* Understanding the vectorial representation of quantities involved in calculating the magnetic field of a current loop \n",
    "* Being able to mathematically and computationally model these vectors in order to calculate the resultant magnetic field at a **point** an arbitrary distance away from the current loop \n",
    "* Understanding the influence of changing various parameters i.e. the size of the current loop or the position of the point on the resultant magnetic field\n",
    "\n",
    "## Table of Contents: \n",
    "\n",
    "1. [The Biot Savart Law scenario](#one)\n",
    "2. [Setting up the scenario with code](#two)\n",
    "    1. [Initialisation](#initial)\n",
    "    2. [Calculations](#calc)\n",
    "3. [Visualising the results](#three)"
   ]
  },
  {
   "cell_type": "markdown",
   "metadata": {},
   "source": [
    "# 1. The Biot Savart Law Scenario <a id=\"one\"></a>\n",
    "\n",
    "Referring to **7.4** in the Electricity & Magnetism, moving charges create a magnetic field (see explanation from Special Relativity) and we can use Ampere's law to find out the magnetic influence of a current carrying wire on a point in space. \n",
    "\n",
    "We used the Biot Savart Law for the more general case with an arbitrarily shaped current loop and an arbitrarily located point P. The situation can be represented by the figure below: \n",
    "\n",
    "<img src=\"images/Arbitrarycurrentloop.png\" width=\"300\" align=\"centre\">\n",
    "\n",
    "Equation 1 below (**Biot Savart Law**) relates the infitisemal magnetic field d**B** at the point **P** to the infitisemal current d**I** within the wire, which is consistent with Ampere's law: \n",
    "\n",
    "\\\\[ d\\mathbf{B} = \\frac{{\\mu}_o}{4\\pi} \\cdot \\frac{Id\\mathbf{I} \\times \\mathbf{r}}{r^3} \\\\]\n",
    "\n",
    "<p style=\"text-align: center\">\n",
    "\n",
    "<i>(For details on how we get this expression, see 7.4.4 in the notes) </i>\n",
    "</p>\n",
    "<br>\n",
    "By the principle of superposition, the total magnetic field is at point **P** is given in Equation 2 by the integral: \n",
    "\n",
    "$$\\mathbf{B} = \\frac{{\\mu}_oI}{4\\pi}  \\int_{C}\\frac{d\\mathbf{I} \\times \\mathbf{\\hat{r}}}{r^2} $$\n",
    "\n",
    "where $\\mu_o$, the permeability of free space is a constant of value $4\\pi$ x $10^{-7}$Tm A$^{-1}$,\n",
    "<br>\n",
    "*I* is the scalar magnitude of the current in the loop/wire, \n",
    "<br>\n",
    "**r** is the displacement vector from the base of the d**I** vector to the point P, \n",
    "<br> \n",
    "r is the scalar magnitude of the vector **r** i.e. r = |**r**|, (<i>Note that this is why in the second equation, r is squared rather than cubed as the vector in the numerator is $\\hat{r}$ which is the unit vector of r</i>)\n",
    "<br>\n",
    "C refers to the geometrical representation of the current loop, which we integrate over.\n",
    "\n",
    "The figure below *(taken from 7.4.4 in the notes)* shows the equivalent geometrical representation for a circular current loop of radius a, with a point positioned on the axis of the current loop: \n",
    "\n",
    "<img src=\"images/Fig1.png\" width=\"300\" align=\"centre\">\n",
    "\n"
   ]
  },
  {
   "cell_type": "markdown",
   "metadata": {},
   "source": [
    "# 2. Setting up the scenario with code (Circular current loop) <a id=\"two\"></a>\n",
    "\n",
    "\n",
    "#### Our aim now is to recreate this system using Python so that we visualise the result of changing various parameters like the points position, the size of the current loop and which current element we pick.\n",
    "\n",
    "\n",
    "## 2.A. Initialisation <a id=\"initial\"></a>\n",
    "\n",
    "We start by importing the required modules and ensuring that the notebook can contain Plotly (package used for visualisations) graphs:\n",
    "\n"
   ]
  },
  {
   "cell_type": "code",
   "execution_count": 6,
   "metadata": {},
   "outputs": [
    {
     "data": {
      "text/html": [
       "<script>requirejs.config({paths: { 'plotly': ['https://cdn.plot.ly/plotly-latest.min']},});if(!window.Plotly) {{require(['plotly'],function(plotly) {window.Plotly=plotly;});}}</script>"
      ],
      "text/vnd.plotly.v1+html": [
       "<script>requirejs.config({paths: { 'plotly': ['https://cdn.plot.ly/plotly-latest.min']},});if(!window.Plotly) {{require(['plotly'],function(plotly) {window.Plotly=plotly;});}}</script>"
      ]
     },
     "metadata": {},
     "output_type": "display_data"
    }
   ],
   "source": [
    "import numpy as np #for mathematical operations and constants\n",
    "import itertools #\n",
    "from plotly.offline import download_plotlyjs,init_notebook_mode,plot,iplot #for visualisation \n",
    "import plotly.graph_objs as go #for visualisation\n",
    "from scipy.integrate import quad #for integration\n",
    "\n",
    "init_notebook_mode(connected=True) #to ensure that we can include live visualisations in the notebook\n",
    "\n",
    "import sys \n",
    "#Mangle/Ronnie you will need to change this path to the server path when it's ready so that the Arrows.py module is imported \n",
    "sys.path.insert(0, \"/Users/amnasaskari/Documents/Visualisations/Imperial-Visualizations/visuals_EM/BiotSavart/scripts\")"
   ]
  },
  {
   "cell_type": "markdown",
   "metadata": {},
   "source": [
    "Now, we can set up our variables and parameters. The comments in the code explain each variable in a little more detail and are enclosed with the '#' symbol"
   ]
  },
  {
   "cell_type": "code",
   "execution_count": 7,
   "metadata": {
    "collapsed": true
   },
   "outputs": [],
   "source": [
    "a = 0.35; #Radius of the circle\n",
    "\n",
    "shape = \"circle\" #Shape of current loop. Default = Circle. \n",
    "\n",
    "perm = 4*np.pi*10e-7 #Permeability of free space \n",
    "\n",
    "current = 2.; #Scalar value of current or 'I'\n",
    "\n",
    "P = np.array([0,0,1]); #The position of the point in 3D. Default = (0,0,1) i.e. the point is positioned\n",
    "                       #on the axis of the current loop like in the diagram above. \n",
    "\n",
    "phi_scal = 0 #This variable determines the point at which the current element is positioned in the circle. Default = 0. \n",
    "             #It ranges from 0 to 2pi, as it goes around the circumference of the circle. You can \n",
    "             #imagine phi_scal to be the angle subtended by a vector which starts at the origin and ends at\n",
    "             #the base of the current element at any arbitrary position.\n",
    "\n",
    "B = np.empty((0, 3)) #Setting up the vector for the magnetic field as an empty array. It is a vector in 3D therefore\n",
    "                     #it has dimensions (x,y,z)\n",
    "\n",
    "#The following variables are for plotting the circular current loop, and therefore contain the cartesian coordinates of a circle\n",
    "#of radius 'a', lying in the X-Y plane at elevation z=0. The default is using 50 points for the scatter plot, but one can use however many.\n",
    "#A circle is plotted by sweeping the radius vector through 360 degrees/2pi...\n",
    "\n",
    "theta_for_circle = np.linspace(0, 2 * np.pi, 50) #Again, this is the theta subtended by the r vector of the circle\n",
    "xc = a*np.cos(theta_for_circle); # The x coordinates of the circle would be the horizontal component of the r vector\n",
    "yc = a*np.sin(theta_for_circle); # The y coordinates of the circle would be the vertical component of the r vector\n",
    "zc = np.zeros_like(xc); #The z coordinates of all points in the circle are 0. However, if you want to put it at a certain elevation, you can do so by changing this.\n",
    "\n",
    "#The following variables are for plotting the axial line for the current loop:\n",
    "z_axial = np.linspace(0,1.1,50)\n",
    "x_axial = np.zeros_like(z_axial)\n",
    "y_axial = np.zeros_like(z_axial)"
   ]
  },
  {
   "cell_type": "markdown",
   "metadata": {},
   "source": [
    "## 2.A. Calculations <a id=\"calc\"></a>\n",
    "\n",
    "#### Defining functions: \n",
    "\n",
    "* The `create_vectors` function uses trigonometry to generate the **d**I and **r** vectors. `dI` resides in the X-Y plane at 0 elevation, and points radially outwards from the circumference of the circle. `r_vec` or **r** is the vector between the base of **d**I and the point `P`. \n",
    "\n",
    "* The `Biot_equation` function takes in the **d**I and **r** vectors generated by the `create_vectors` function above and implements them in Equation 1 to generate the **d**B vector. The permeability constant has been discluded as it would make **d**B a lot smaller than the other vectors in the plot, making it difficult to visualise. This vector is created solely for the purpose of visualisation and will not be passed over to integration calculations, as those are done over the entire current loop and this is just dependant on one current element. \n",
    "* To calculate the total magnetic field, we implement Equation (2) in the `calc_integrand` function to integrate over the entire current loop. The definitions of **d**I and **r** have been repeated in the function `calc_integrand`, using `phi` instead of `phi_scal`, as it is the variable that we need to integrate over. Hence, `result` is returned in terms of `phi`. We have specified `result[i]` as an element of a list as we need to calculate the integrand for 3 dimensions (x,y,z). \n"
   ]
  },
  {
   "cell_type": "code",
   "execution_count": 8,
   "metadata": {
    "collapsed": true
   },
   "outputs": [],
   "source": [
    "def create_vectors(shape,phi_scal,P,a):\n",
    "    if shape == \"circle\":\n",
    "        dI= np.array([-a*np.sin(phi_scal),a*np.cos(phi_scal),0])\n",
    "        r_vec = np.array([P[0]-a*np.cos(phi_scal),P[1]-a*np.sin(phi_scal),P[2]])\n",
    "        \n",
    "    return dI,r_vec \n",
    "\n",
    "def Biot_equation (current,perm,dI,r_vec):\n",
    "    xprod = np.cross(dI,r_vec)\n",
    "    dB = (current/(4*np.pi*(np.linalg.norm(r_vec)**3)))*xprod #should multiply current by perm \n",
    "    return dB\n",
    "\n",
    "def calc_integrand(phi):\n",
    "    a = 0.35;\n",
    "    dI= np.array([-a*np.sin(phi),a*np.cos(phi),0])\n",
    "    rvec = np.array([P[0]-a*np.cos(phi),P[1]-a*np.sin(phi),P[2]])\n",
    "    result =(current/(4*np.pi*(np.linalg.norm(r_vec)**3)))* np.cross(dI,rvec)\n",
    "    return result[i]"
   ]
  },
  {
   "cell_type": "markdown",
   "metadata": {},
   "source": [
    "#### We now call these functions to generate 3D variables: \n",
    "\n",
    "* The code below calls the functions described above to generate the `dI`, `r_vec` and `dB` vectors which are used for visualisation \n",
    "\n",
    "* The `calc_integrand` function is passed through to scipy's integration function `quad` within a `for` loop that repeats the code three times for each dimension (x,y,z). The `result[i]` is the ith element of the magnetic field `B`. You can find the documentation for quad function <a href=\"https://docs.scipy.org/doc/scipy/reference/generated/scipy.integrate.quad.html\">here</a>, which will make it easy to follow and edit the code below. "
   ]
  },
  {
   "cell_type": "code",
   "execution_count": 9,
   "metadata": {
    "collapsed": true
   },
   "outputs": [],
   "source": [
    "dI,r_vec = create_vectors(\"circle\",phi_scal,P,a) \n",
    "dB= Biot_equation(current,perm,dI,r_vec) \n",
    "\n",
    "for j in range(3):\n",
    "    i=j\n",
    "    result_in_one_dimension = quad(calc_integrand,0,2*np.pi)[0]\n",
    "    B = np.append(B,result_in_one_dimension,axis=None) \n"
   ]
  },
  {
   "cell_type": "markdown",
   "metadata": {},
   "source": [
    "# 3. Visualising the Results <a id=\"three\"></a>\n",
    "\n",
    "We use the package 'Plotly' to plot all the vectors that we have found. Each vector with its required plotting information comprises a `trace`. Plotly's `iplot` command (that actually generates the plot) takes in a `fig` dictionary that has an array of these traces as an argument. Each trace is a dictionary generated by Plotly's `go.Scatter3d` command and contains the following: \n",
    "\n",
    "* The nature of the plot. A scatter plot in 3D can either be a point, or a line. The vectors in this plot are plotted as lines and the point itself is plotted as a point.\n",
    "* X,Y,Z coordinates: If the plot is a line, the X,Y,Z coordinates must be specified with a start and end point. The start point is the origin of the vector and the end point is the origin + the required component of the vector. \n",
    "* The color of the plot, specified in RGB coordinates. \n",
    "\n",
    "Feel free to adjust / remove any of the traces and see the result. Also, the plot is dynamic - feel free to drag / zoom / rotate!\n",
    "\n",
    "### Note on Arrows: \n",
    "\n",
    "As we are plotting vectors and Plotly doesn't have inbuilt functionality for arrows, we need to specifically draw traces for arrows. Arrows are comprised of: \n",
    "* The **shaft**: This is the vector you are plotting \n",
    "* The **wings**: These are two vectors at a $45^{o}$ angle from the shaft that give the arrow its shape \n",
    "\n",
    "The `Arrows.py` module / python script in this directory contains a script for calculating wing traces for desired vectors. This generates the `traces` for both the **shaft** and **wings** using Plotly. For each of the vectors that we have found, namely:  **d**I, **d**B, **r**, and **B** - we generate 3D and 2D arrows accordingly. Other characeristic features of the diagram like the current loop, axis of the loop, position of the point and arrow indicating the direction of current are drawn using Plotly directly in this notebook. \n"
   ]
  },
  {
   "cell_type": "code",
   "execution_count": 10,
   "metadata": {
    "scrolled": false
   },
   "outputs": [
    {
     "data": {
      "application/vnd.plotly.v1+json": {
       "data": [
        {
         "line": {
          "color": "rgb(50,100,200)",
          "width": 6
         },
         "mode": "lines",
         "name": "dB",
         "showlegend": true,
         "type": "scatter3d",
         "x": [
          0,
          0.14051733554027218
         ],
         "y": [
          0,
          0
         ],
         "z": [
          1,
          1.0491810674390953
         ]
        },
        {
         "line": {
          "color": "rgb(50,100,200)",
          "width": 6
         },
         "mode": "lines",
         "showlegend": false,
         "type": "scatter3d",
         "x": [
          0.12760043663174928,
          0.14051733554027218,
          0.11368993011487838
         ],
         "y": [
          0,
          0,
          0
         ],
         "z": [
          1.0223536620137015,
          1.0491810674390953,
          1.0620979663476182
         ]
        },
        {
         "line": {
          "color": "rgb(255,160,75)",
          "width": 6
         },
         "mode": "lines",
         "name": "B",
         "showlegend": true,
         "type": "scatter3d",
         "x": [
          0,
          4.35983562251079e-17
         ],
         "y": [
          0,
          2.8358435479921557e-17
         ],
         "z": [
          1,
          1.4120183470996424
         ]
        },
        {
         "line": {
          "color": "rgb(255,160,75)",
          "width": 6
         },
         "mode": "lines",
         "showlegend": false,
         "type": "scatter3d",
         "x": [
          0.048844607829452005,
          4.35983562251079e-17,
          -0.048844607829452005
         ],
         "y": [
          0.031770845958542966,
          2.8358435479921557e-17,
          -0.031770845958542966
         ],
         "z": [
          1.3537501536581564,
          1.4120183470996424,
          1.3537501536581564
         ]
        },
        {
         "line": {
          "color": "rgb(250,20,0)",
          "width": 6
         },
         "mode": "lines",
         "name": "dI",
         "showlegend": true,
         "type": "scatter3d",
         "x": [
          0.35,
          0.35
         ],
         "y": [
          0,
          0.35
         ],
         "z": [
          0,
          0
         ]
        },
        {
         "line": {
          "color": "rgb(250,20,0)",
          "width": 6
         },
         "mode": "lines",
         "showlegend": false,
         "type": "scatter3d",
         "x": [
          0.3005025253169419,
          0.35,
          0.39949747468305813
         ],
         "y": [
          0.30050252531694166,
          0.35,
          0.30050252531694166
         ],
         "z": [
          0,
          0,
          0
         ]
        },
        {
         "line": {
          "color": "rgb(0,220,0)",
          "width": 6
         },
         "mode": "lines",
         "name": "R",
         "showlegend": true,
         "type": "scatter3d",
         "x": [
          0.35,
          0
         ],
         "y": [
          0,
          0
         ],
         "z": [
          0,
          1
         ]
        },
        {
         "line": {
          "color": "rgb(0,220,0)",
          "width": 6
         },
         "mode": "lines",
         "showlegend": false,
         "type": "scatter3d",
         "x": [
          -0.0459619407771249,
          0,
          0.09545941546018344
         ],
         "y": [
          4.849135233568798e-17,
          0,
          3.117223121097826e-17
         ],
         "z": [
          0.9045405845398163,
          1,
          0.9540380592228742
         ]
        },
        {
         "marker": {
          "color": "rgb(0,0,0)",
          "opacity": 1,
          "size": 2.5,
          "symbol": "circle"
         },
         "mode": "markers",
         "showlegend": false,
         "type": "scatter3d",
         "x": [
          0.35,
          0.3471265048381361,
          0.3385532020636603,
          0.32442086507110757,
          0.3049615464431863,
          0.28049476765378484,
          0.2514222725342046,
          0.21822143065055674,
          0.1814373989086838,
          0.14167417009283786,
          0.09958465532086143,
          0.05585996326168275,
          0.011218052150079365,
          -0.03360805906768854,
          -0.07788232688471002,
          -0.12087776904745762,
          -0.16188840158429227,
          -0.2002408310427593,
          -0.23530531159146073,
          -0.26650608542919696,
          -0.2933308367121441,
          -0.3153391037658466,
          -0.332169511453734,
          -0.34354570494687287,
          -0.3492808874626177,
          -0.3492808874626177,
          -0.34354570494687287,
          -0.3321695114537341,
          -0.3153391037658467,
          -0.2933308367121442,
          -0.2665060854291971,
          -0.23530531159146098,
          -0.2002408310427595,
          -0.16188840158429235,
          -0.12087776904745785,
          -0.0778823268847101,
          -0.03360805906768885,
          0.011218052150079203,
          0.05585996326168244,
          0.09958465532086119,
          0.14167417009283753,
          0.18143739890868357,
          0.21822143065055666,
          0.2514222725342045,
          0.2804947676537847,
          0.3049615464431861,
          0.32442086507110757,
          0.3385532020636602,
          0.3471265048381361,
          0.35
         ],
         "y": [
          0,
          0.0447570065895771,
          0.08877910436832756,
          0.13134345170778092,
          0.17175114320137824,
          0.20933868567192554,
          0.2434888927112202,
          0.27364101886381037,
          0.2992999670518711,
          0.3200444180555343,
          0.3355337485628312,
          0.3455136241950575,
          0.34982017567024076,
          0.34838268953221935,
          0.34122476926363826,
          0.32846394771741616,
          0.31030975723055004,
          0.2870602891089346,
          0.25909729897636047,
          0.22687993835772605,
          0.19093721542369216,
          0.15185930869114536,
          0.11028787630826728,
          0.06690552004548038,
          0.02242457699324963,
          -0.022424576993249387,
          -0.06690552004548016,
          -0.11028787630826707,
          -0.1518593086911453,
          -0.19093721542369196,
          -0.22687993835772585,
          -0.25909729897636036,
          -0.28706028910893444,
          -0.31030975723055004,
          -0.32846394771741605,
          -0.3412247692636382,
          -0.34838268953221935,
          -0.34982017567024076,
          -0.3455136241950576,
          -0.33553374856283125,
          -0.32004441805553446,
          -0.2992999670518713,
          -0.2736410188638104,
          -0.2434888927112204,
          -0.20933868567192565,
          -0.17175114320137852,
          -0.13134345170778108,
          -0.08877910436832792,
          -0.04475700658957732,
          -8.572527594031472e-17
         ],
         "z": [
          0,
          0,
          0,
          0,
          0,
          0,
          0,
          0,
          0,
          0,
          0,
          0,
          0,
          0,
          0,
          0,
          0,
          0,
          0,
          0,
          0,
          0,
          0,
          0,
          0,
          0,
          0,
          0,
          0,
          0,
          0,
          0,
          0,
          0,
          0,
          0,
          0,
          0,
          0,
          0,
          0,
          0,
          0,
          0,
          0,
          0,
          0,
          0,
          0,
          0
         ]
        },
        {
         "marker": {
          "color": "rgb(214,11,8)",
          "size": 6
         },
         "name": "Point",
         "type": "scatter3d",
         "x": [
          0
         ],
         "y": [
          0
         ],
         "z": [
          1
         ]
        },
        {
         "marker": {
          "color": "rgb(0,0,0)",
          "opacity": 1,
          "size": 1,
          "symbol": "circle"
         },
         "mode": "markers",
         "name": "axial",
         "showlegend": false,
         "type": "scatter3d",
         "x": [
          0,
          0,
          0,
          0,
          0,
          0,
          0,
          0,
          0,
          0,
          0,
          0,
          0,
          0,
          0,
          0,
          0,
          0,
          0,
          0,
          0,
          0,
          0,
          0,
          0,
          0,
          0,
          0,
          0,
          0,
          0,
          0,
          0,
          0,
          0,
          0,
          0,
          0,
          0,
          0,
          0,
          0,
          0,
          0,
          0,
          0,
          0,
          0,
          0,
          0
         ],
         "y": [
          0,
          0,
          0,
          0,
          0,
          0,
          0,
          0,
          0,
          0,
          0,
          0,
          0,
          0,
          0,
          0,
          0,
          0,
          0,
          0,
          0,
          0,
          0,
          0,
          0,
          0,
          0,
          0,
          0,
          0,
          0,
          0,
          0,
          0,
          0,
          0,
          0,
          0,
          0,
          0,
          0,
          0,
          0,
          0,
          0,
          0,
          0,
          0,
          0,
          0
         ],
         "z": [
          0,
          0.022448979591836737,
          0.04489795918367347,
          0.0673469387755102,
          0.08979591836734695,
          0.11224489795918369,
          0.1346938775510204,
          0.15714285714285717,
          0.1795918367346939,
          0.20204081632653062,
          0.22448979591836737,
          0.2469387755102041,
          0.2693877551020408,
          0.29183673469387755,
          0.31428571428571433,
          0.33673469387755106,
          0.3591836734693878,
          0.3816326530612245,
          0.40408163265306124,
          0.426530612244898,
          0.44897959183673475,
          0.4714285714285715,
          0.4938775510204082,
          0.516326530612245,
          0.5387755102040817,
          0.5612244897959184,
          0.5836734693877551,
          0.6061224489795919,
          0.6285714285714287,
          0.6510204081632653,
          0.6734693877551021,
          0.6959183673469388,
          0.7183673469387756,
          0.7408163265306124,
          0.763265306122449,
          0.7857142857142858,
          0.8081632653061225,
          0.8306122448979593,
          0.853061224489796,
          0.8755102040816327,
          0.8979591836734695,
          0.9204081632653062,
          0.942857142857143,
          0.9653061224489797,
          0.9877551020408164,
          1.0102040816326532,
          1.03265306122449,
          1.0551020408163265,
          1.0775510204081633,
          1.1
         ]
        },
        {
         "line": {
          "color": "rgb(0,0,0)",
          "width": 4
         },
         "marker": {
          "color": "rgb(0,0,0)",
          "opacity": 1,
          "size": 1,
          "symbol": "circle"
         },
         "mode": "line",
         "showlegend": false,
         "type": "scatter3d",
         "x": [
          0.24498737341529164,
          0.24748737341529164,
          0.3474873734152917
         ],
         "y": [
          0.14748737341529158,
          0.2474873734152916,
          0.2499873734152916
         ],
         "z": [
          0,
          0,
          0
         ]
        }
       ],
       "layout": {}
      },
      "text/html": [
       "<div id=\"3cb99a94-bb4e-4aac-8e08-1edaaa5614b0\" style=\"height: 525px; width: 100%;\" class=\"plotly-graph-div\"></div><script type=\"text/javascript\">require([\"plotly\"], function(Plotly) { window.PLOTLYENV=window.PLOTLYENV || {};window.PLOTLYENV.BASE_URL=\"https://plot.ly\";Plotly.newPlot(\"3cb99a94-bb4e-4aac-8e08-1edaaa5614b0\", [{\"type\": \"scatter3d\", \"x\": [0, 0.14051733554027218], \"y\": [0, 0.0], \"z\": [1, 1.0491810674390953], \"name\": \"dB\", \"showlegend\": true, \"mode\": \"lines\", \"line\": {\"width\": 6, \"color\": \"rgb(50,100,200)\"}}, {\"type\": \"scatter3d\", \"x\": [0.12760043663174928, 0.14051733554027218, 0.11368993011487838], \"y\": [0.0, 0.0, 0.0], \"z\": [1.0223536620137015, 1.0491810674390953, 1.0620979663476182], \"showlegend\": false, \"mode\": \"lines\", \"line\": {\"width\": 6, \"color\": \"rgb(50,100,200)\"}}, {\"type\": \"scatter3d\", \"x\": [0, 4.35983562251079e-17], \"y\": [0, 2.8358435479921557e-17], \"z\": [1, 1.4120183470996424], \"name\": \"B\", \"showlegend\": true, \"mode\": \"lines\", \"line\": {\"width\": 6, \"color\": \"rgb(255,160,75)\"}}, {\"type\": \"scatter3d\", \"x\": [0.048844607829452005, 4.35983562251079e-17, -0.048844607829452005], \"y\": [0.031770845958542966, 2.8358435479921557e-17, -0.031770845958542966], \"z\": [1.3537501536581564, 1.4120183470996424, 1.3537501536581564], \"showlegend\": false, \"mode\": \"lines\", \"line\": {\"width\": 6, \"color\": \"rgb(255,160,75)\"}}, {\"type\": \"scatter3d\", \"x\": [0.35, 0.35], \"y\": [0.0, 0.35], \"z\": [0, 0], \"name\": \"dI\", \"showlegend\": true, \"mode\": \"lines\", \"line\": {\"width\": 6, \"color\": \"rgb(250,20,0)\"}}, {\"type\": \"scatter3d\", \"x\": [0.3005025253169419, 0.35, 0.39949747468305813], \"y\": [0.30050252531694166, 0.35, 0.30050252531694166], \"z\": [0, 0, 0], \"showlegend\": false, \"mode\": \"lines\", \"line\": {\"width\": 6, \"color\": \"rgb(250,20,0)\"}}, {\"type\": \"scatter3d\", \"x\": [0.35, 0.0], \"y\": [0.0, 0.0], \"z\": [0, 1.0], \"name\": \"R\", \"showlegend\": true, \"mode\": \"lines\", \"line\": {\"width\": 6, \"color\": \"rgb(0,220,0)\"}}, {\"type\": \"scatter3d\", \"x\": [-0.0459619407771249, 0.0, 0.09545941546018344], \"y\": [4.849135233568798e-17, 0.0, 3.117223121097826e-17], \"z\": [0.9045405845398163, 1.0, 0.9540380592228742], \"showlegend\": false, \"mode\": \"lines\", \"line\": {\"width\": 6, \"color\": \"rgb(0,220,0)\"}}, {\"type\": \"scatter3d\", \"x\": [0.35, 0.3471265048381361, 0.3385532020636603, 0.32442086507110757, 0.3049615464431863, 0.28049476765378484, 0.2514222725342046, 0.21822143065055674, 0.1814373989086838, 0.14167417009283786, 0.09958465532086143, 0.05585996326168275, 0.011218052150079365, -0.03360805906768854, -0.07788232688471002, -0.12087776904745762, -0.16188840158429227, -0.2002408310427593, -0.23530531159146073, -0.26650608542919696, -0.2933308367121441, -0.3153391037658466, -0.332169511453734, -0.34354570494687287, -0.3492808874626177, -0.3492808874626177, -0.34354570494687287, -0.3321695114537341, -0.3153391037658467, -0.2933308367121442, -0.2665060854291971, -0.23530531159146098, -0.2002408310427595, -0.16188840158429235, -0.12087776904745785, -0.0778823268847101, -0.03360805906768885, 0.011218052150079203, 0.05585996326168244, 0.09958465532086119, 0.14167417009283753, 0.18143739890868357, 0.21822143065055666, 0.2514222725342045, 0.2804947676537847, 0.3049615464431861, 0.32442086507110757, 0.3385532020636602, 0.3471265048381361, 0.35], \"y\": [0.0, 0.0447570065895771, 0.08877910436832756, 0.13134345170778092, 0.17175114320137824, 0.20933868567192554, 0.2434888927112202, 0.27364101886381037, 0.2992999670518711, 0.3200444180555343, 0.3355337485628312, 0.3455136241950575, 0.34982017567024076, 0.34838268953221935, 0.34122476926363826, 0.32846394771741616, 0.31030975723055004, 0.2870602891089346, 0.25909729897636047, 0.22687993835772605, 0.19093721542369216, 0.15185930869114536, 0.11028787630826728, 0.06690552004548038, 0.02242457699324963, -0.022424576993249387, -0.06690552004548016, -0.11028787630826707, -0.1518593086911453, -0.19093721542369196, -0.22687993835772585, -0.25909729897636036, -0.28706028910893444, -0.31030975723055004, -0.32846394771741605, -0.3412247692636382, -0.34838268953221935, -0.34982017567024076, -0.3455136241950576, -0.33553374856283125, -0.32004441805553446, -0.2992999670518713, -0.2736410188638104, -0.2434888927112204, -0.20933868567192565, -0.17175114320137852, -0.13134345170778108, -0.08877910436832792, -0.04475700658957732, -8.572527594031472e-17], \"z\": [0.0, 0.0, 0.0, 0.0, 0.0, 0.0, 0.0, 0.0, 0.0, 0.0, 0.0, 0.0, 0.0, 0.0, 0.0, 0.0, 0.0, 0.0, 0.0, 0.0, 0.0, 0.0, 0.0, 0.0, 0.0, 0.0, 0.0, 0.0, 0.0, 0.0, 0.0, 0.0, 0.0, 0.0, 0.0, 0.0, 0.0, 0.0, 0.0, 0.0, 0.0, 0.0, 0.0, 0.0, 0.0, 0.0, 0.0, 0.0, 0.0, 0.0], \"mode\": \"markers\", \"marker\": {\"symbol\": \"circle\", \"size\": 2.5, \"opacity\": 1, \"color\": \"rgb(0,0,0)\"}, \"showlegend\": false}, {\"type\": \"scatter3d\", \"x\": [0], \"y\": [0], \"z\": [1], \"name\": \"Point\", \"marker\": {\"size\": 6, \"color\": \"rgb(214,11,8)\"}}, {\"type\": \"scatter3d\", \"x\": [0.0, 0.0, 0.0, 0.0, 0.0, 0.0, 0.0, 0.0, 0.0, 0.0, 0.0, 0.0, 0.0, 0.0, 0.0, 0.0, 0.0, 0.0, 0.0, 0.0, 0.0, 0.0, 0.0, 0.0, 0.0, 0.0, 0.0, 0.0, 0.0, 0.0, 0.0, 0.0, 0.0, 0.0, 0.0, 0.0, 0.0, 0.0, 0.0, 0.0, 0.0, 0.0, 0.0, 0.0, 0.0, 0.0, 0.0, 0.0, 0.0, 0.0], \"y\": [0.0, 0.0, 0.0, 0.0, 0.0, 0.0, 0.0, 0.0, 0.0, 0.0, 0.0, 0.0, 0.0, 0.0, 0.0, 0.0, 0.0, 0.0, 0.0, 0.0, 0.0, 0.0, 0.0, 0.0, 0.0, 0.0, 0.0, 0.0, 0.0, 0.0, 0.0, 0.0, 0.0, 0.0, 0.0, 0.0, 0.0, 0.0, 0.0, 0.0, 0.0, 0.0, 0.0, 0.0, 0.0, 0.0, 0.0, 0.0, 0.0, 0.0], \"z\": [0.0, 0.022448979591836737, 0.04489795918367347, 0.0673469387755102, 0.08979591836734695, 0.11224489795918369, 0.1346938775510204, 0.15714285714285717, 0.1795918367346939, 0.20204081632653062, 0.22448979591836737, 0.2469387755102041, 0.2693877551020408, 0.29183673469387755, 0.31428571428571433, 0.33673469387755106, 0.3591836734693878, 0.3816326530612245, 0.40408163265306124, 0.426530612244898, 0.44897959183673475, 0.4714285714285715, 0.4938775510204082, 0.516326530612245, 0.5387755102040817, 0.5612244897959184, 0.5836734693877551, 0.6061224489795919, 0.6285714285714287, 0.6510204081632653, 0.6734693877551021, 0.6959183673469388, 0.7183673469387756, 0.7408163265306124, 0.763265306122449, 0.7857142857142858, 0.8081632653061225, 0.8306122448979593, 0.853061224489796, 0.8755102040816327, 0.8979591836734695, 0.9204081632653062, 0.942857142857143, 0.9653061224489797, 0.9877551020408164, 1.0102040816326532, 1.03265306122449, 1.0551020408163265, 1.0775510204081633, 1.1], \"name\": \"axial\", \"mode\": \"markers\", \"marker\": {\"symbol\": \"circle\", \"size\": 1, \"opacity\": 1, \"color\": \"rgb(0,0,0)\"}, \"showlegend\": false}, {\"type\": \"scatter3d\", \"x\": [0.24498737341529164, 0.24748737341529164, 0.3474873734152917], \"y\": [0.14748737341529158, 0.2474873734152916, 0.2499873734152916], \"z\": [0, 0, 0], \"mode\": \"line\", \"line\": {\"width\": 4, \"color\": \"rgb(0,0,0)\"}, \"marker\": {\"symbol\": \"circle\", \"size\": 1, \"opacity\": 1, \"color\": \"rgb(0,0,0)\"}, \"showlegend\": false}], {}, {\"showLink\": true, \"linkText\": \"Export to plot.ly\"})});</script>"
      ],
      "text/vnd.plotly.v1+html": [
       "<div id=\"3cb99a94-bb4e-4aac-8e08-1edaaa5614b0\" style=\"height: 525px; width: 100%;\" class=\"plotly-graph-div\"></div><script type=\"text/javascript\">require([\"plotly\"], function(Plotly) { window.PLOTLYENV=window.PLOTLYENV || {};window.PLOTLYENV.BASE_URL=\"https://plot.ly\";Plotly.newPlot(\"3cb99a94-bb4e-4aac-8e08-1edaaa5614b0\", [{\"type\": \"scatter3d\", \"x\": [0, 0.14051733554027218], \"y\": [0, 0.0], \"z\": [1, 1.0491810674390953], \"name\": \"dB\", \"showlegend\": true, \"mode\": \"lines\", \"line\": {\"width\": 6, \"color\": \"rgb(50,100,200)\"}}, {\"type\": \"scatter3d\", \"x\": [0.12760043663174928, 0.14051733554027218, 0.11368993011487838], \"y\": [0.0, 0.0, 0.0], \"z\": [1.0223536620137015, 1.0491810674390953, 1.0620979663476182], \"showlegend\": false, \"mode\": \"lines\", \"line\": {\"width\": 6, \"color\": \"rgb(50,100,200)\"}}, {\"type\": \"scatter3d\", \"x\": [0, 4.35983562251079e-17], \"y\": [0, 2.8358435479921557e-17], \"z\": [1, 1.4120183470996424], \"name\": \"B\", \"showlegend\": true, \"mode\": \"lines\", \"line\": {\"width\": 6, \"color\": \"rgb(255,160,75)\"}}, {\"type\": \"scatter3d\", \"x\": [0.048844607829452005, 4.35983562251079e-17, -0.048844607829452005], \"y\": [0.031770845958542966, 2.8358435479921557e-17, -0.031770845958542966], \"z\": [1.3537501536581564, 1.4120183470996424, 1.3537501536581564], \"showlegend\": false, \"mode\": \"lines\", \"line\": {\"width\": 6, \"color\": \"rgb(255,160,75)\"}}, {\"type\": \"scatter3d\", \"x\": [0.35, 0.35], \"y\": [0.0, 0.35], \"z\": [0, 0], \"name\": \"dI\", \"showlegend\": true, \"mode\": \"lines\", \"line\": {\"width\": 6, \"color\": \"rgb(250,20,0)\"}}, {\"type\": \"scatter3d\", \"x\": [0.3005025253169419, 0.35, 0.39949747468305813], \"y\": [0.30050252531694166, 0.35, 0.30050252531694166], \"z\": [0, 0, 0], \"showlegend\": false, \"mode\": \"lines\", \"line\": {\"width\": 6, \"color\": \"rgb(250,20,0)\"}}, {\"type\": \"scatter3d\", \"x\": [0.35, 0.0], \"y\": [0.0, 0.0], \"z\": [0, 1.0], \"name\": \"R\", \"showlegend\": true, \"mode\": \"lines\", \"line\": {\"width\": 6, \"color\": \"rgb(0,220,0)\"}}, {\"type\": \"scatter3d\", \"x\": [-0.0459619407771249, 0.0, 0.09545941546018344], \"y\": [4.849135233568798e-17, 0.0, 3.117223121097826e-17], \"z\": [0.9045405845398163, 1.0, 0.9540380592228742], \"showlegend\": false, \"mode\": \"lines\", \"line\": {\"width\": 6, \"color\": \"rgb(0,220,0)\"}}, {\"type\": \"scatter3d\", \"x\": [0.35, 0.3471265048381361, 0.3385532020636603, 0.32442086507110757, 0.3049615464431863, 0.28049476765378484, 0.2514222725342046, 0.21822143065055674, 0.1814373989086838, 0.14167417009283786, 0.09958465532086143, 0.05585996326168275, 0.011218052150079365, -0.03360805906768854, -0.07788232688471002, -0.12087776904745762, -0.16188840158429227, -0.2002408310427593, -0.23530531159146073, -0.26650608542919696, -0.2933308367121441, -0.3153391037658466, -0.332169511453734, -0.34354570494687287, -0.3492808874626177, -0.3492808874626177, -0.34354570494687287, -0.3321695114537341, -0.3153391037658467, -0.2933308367121442, -0.2665060854291971, -0.23530531159146098, -0.2002408310427595, -0.16188840158429235, -0.12087776904745785, -0.0778823268847101, -0.03360805906768885, 0.011218052150079203, 0.05585996326168244, 0.09958465532086119, 0.14167417009283753, 0.18143739890868357, 0.21822143065055666, 0.2514222725342045, 0.2804947676537847, 0.3049615464431861, 0.32442086507110757, 0.3385532020636602, 0.3471265048381361, 0.35], \"y\": [0.0, 0.0447570065895771, 0.08877910436832756, 0.13134345170778092, 0.17175114320137824, 0.20933868567192554, 0.2434888927112202, 0.27364101886381037, 0.2992999670518711, 0.3200444180555343, 0.3355337485628312, 0.3455136241950575, 0.34982017567024076, 0.34838268953221935, 0.34122476926363826, 0.32846394771741616, 0.31030975723055004, 0.2870602891089346, 0.25909729897636047, 0.22687993835772605, 0.19093721542369216, 0.15185930869114536, 0.11028787630826728, 0.06690552004548038, 0.02242457699324963, -0.022424576993249387, -0.06690552004548016, -0.11028787630826707, -0.1518593086911453, -0.19093721542369196, -0.22687993835772585, -0.25909729897636036, -0.28706028910893444, -0.31030975723055004, -0.32846394771741605, -0.3412247692636382, -0.34838268953221935, -0.34982017567024076, -0.3455136241950576, -0.33553374856283125, -0.32004441805553446, -0.2992999670518713, -0.2736410188638104, -0.2434888927112204, -0.20933868567192565, -0.17175114320137852, -0.13134345170778108, -0.08877910436832792, -0.04475700658957732, -8.572527594031472e-17], \"z\": [0.0, 0.0, 0.0, 0.0, 0.0, 0.0, 0.0, 0.0, 0.0, 0.0, 0.0, 0.0, 0.0, 0.0, 0.0, 0.0, 0.0, 0.0, 0.0, 0.0, 0.0, 0.0, 0.0, 0.0, 0.0, 0.0, 0.0, 0.0, 0.0, 0.0, 0.0, 0.0, 0.0, 0.0, 0.0, 0.0, 0.0, 0.0, 0.0, 0.0, 0.0, 0.0, 0.0, 0.0, 0.0, 0.0, 0.0, 0.0, 0.0, 0.0], \"mode\": \"markers\", \"marker\": {\"symbol\": \"circle\", \"size\": 2.5, \"opacity\": 1, \"color\": \"rgb(0,0,0)\"}, \"showlegend\": false}, {\"type\": \"scatter3d\", \"x\": [0], \"y\": [0], \"z\": [1], \"name\": \"Point\", \"marker\": {\"size\": 6, \"color\": \"rgb(214,11,8)\"}}, {\"type\": \"scatter3d\", \"x\": [0.0, 0.0, 0.0, 0.0, 0.0, 0.0, 0.0, 0.0, 0.0, 0.0, 0.0, 0.0, 0.0, 0.0, 0.0, 0.0, 0.0, 0.0, 0.0, 0.0, 0.0, 0.0, 0.0, 0.0, 0.0, 0.0, 0.0, 0.0, 0.0, 0.0, 0.0, 0.0, 0.0, 0.0, 0.0, 0.0, 0.0, 0.0, 0.0, 0.0, 0.0, 0.0, 0.0, 0.0, 0.0, 0.0, 0.0, 0.0, 0.0, 0.0], \"y\": [0.0, 0.0, 0.0, 0.0, 0.0, 0.0, 0.0, 0.0, 0.0, 0.0, 0.0, 0.0, 0.0, 0.0, 0.0, 0.0, 0.0, 0.0, 0.0, 0.0, 0.0, 0.0, 0.0, 0.0, 0.0, 0.0, 0.0, 0.0, 0.0, 0.0, 0.0, 0.0, 0.0, 0.0, 0.0, 0.0, 0.0, 0.0, 0.0, 0.0, 0.0, 0.0, 0.0, 0.0, 0.0, 0.0, 0.0, 0.0, 0.0, 0.0], \"z\": [0.0, 0.022448979591836737, 0.04489795918367347, 0.0673469387755102, 0.08979591836734695, 0.11224489795918369, 0.1346938775510204, 0.15714285714285717, 0.1795918367346939, 0.20204081632653062, 0.22448979591836737, 0.2469387755102041, 0.2693877551020408, 0.29183673469387755, 0.31428571428571433, 0.33673469387755106, 0.3591836734693878, 0.3816326530612245, 0.40408163265306124, 0.426530612244898, 0.44897959183673475, 0.4714285714285715, 0.4938775510204082, 0.516326530612245, 0.5387755102040817, 0.5612244897959184, 0.5836734693877551, 0.6061224489795919, 0.6285714285714287, 0.6510204081632653, 0.6734693877551021, 0.6959183673469388, 0.7183673469387756, 0.7408163265306124, 0.763265306122449, 0.7857142857142858, 0.8081632653061225, 0.8306122448979593, 0.853061224489796, 0.8755102040816327, 0.8979591836734695, 0.9204081632653062, 0.942857142857143, 0.9653061224489797, 0.9877551020408164, 1.0102040816326532, 1.03265306122449, 1.0551020408163265, 1.0775510204081633, 1.1], \"name\": \"axial\", \"mode\": \"markers\", \"marker\": {\"symbol\": \"circle\", \"size\": 1, \"opacity\": 1, \"color\": \"rgb(0,0,0)\"}, \"showlegend\": false}, {\"type\": \"scatter3d\", \"x\": [0.24498737341529164, 0.24748737341529164, 0.3474873734152917], \"y\": [0.14748737341529158, 0.2474873734152916, 0.2499873734152916], \"z\": [0, 0, 0], \"mode\": \"line\", \"line\": {\"width\": 4, \"color\": \"rgb(0,0,0)\"}, \"marker\": {\"symbol\": \"circle\", \"size\": 1, \"opacity\": 1, \"color\": \"rgb(0,0,0)\"}, \"showlegend\": false}], {}, {\"showLink\": true, \"linkText\": \"Export to plot.ly\"})});</script>"
      ]
     },
     "metadata": {},
     "output_type": "display_data"
    }
   ],
   "source": [
    "import Arrows as ar\n",
    "\n",
    "dB_witharrow = ar.Arrow3D(cart_coords = dB,offset=P,width=6,color='rgb(50,100,200)',ratio=3,legend_status=True,label=\"dB\",fraction=0.2)\n",
    "dB_traces = dB_witharrow.data; \n",
    "\n",
    "B_witharrow = ar.Arrow3D(cart_coords = B,offset=P,width=6,color='rgb(255,160,75)',ratio=4,legend_status=True,label=\"B\",fraction=0.2)\n",
    "B_traces = B_witharrow.data; \n",
    "\n",
    "dI_witharrow = ar.Arrow2D(cart_coords = [dI[0],dI[1]],offset=[a*np.cos(phi_scal),a*np.sin(phi_scal)],width=6,color='rgb(250,20,0)',ratio=1,legend_status=True,label=\"dI\")\n",
    "dI_traces = dI_witharrow.data\n",
    "\n",
    "R_witharrow = ar.Arrow3D(cart_coords = r_vec,offset=[a*np.cos(phi_scal),a*np.sin(phi_scal),0],width=6,color='rgb(0,220,0)',ratio=1,legend_status=True,label=\"R\",fraction=0.1)\n",
    "R_traces = R_witharrow.data; \n",
    "\n",
    "\n",
    "Circletrace = go.Scatter3d( \n",
    "                            x =  xc ,\n",
    "                            y = yc,\n",
    "                            z = zc,\n",
    "                            mode = \"markers\",\n",
    "                            marker = dict(symbol=\"circle\",size=2.5,opacity=1,color= 'rgb(0,0,0)'),\n",
    "                            showlegend =False\n",
    "                          );\n",
    "\n",
    "\n",
    "Circle_arrow = go.Scatter3d(\n",
    "                            x = [a*np.cos(np.pi/4)-0.0025,a*np.cos(np.pi/4),a*np.cos(np.pi/4)+0.1], \n",
    "                            y = [a*np.sin(np.pi/4)-0.1,a*np.sin(np.pi/4),a*np.sin(np.pi/4)+0.0025], \n",
    "                            z = [0,0,0], \n",
    "                            mode = 'line',\n",
    "                            line = dict(width = 4,color = 'rgb(0,0,0)'),\n",
    "                            marker = dict(symbol=\"circle\",size = 1, opacity =1,color= 'rgb(0,0,0)'),\n",
    "                            showlegend = False,\n",
    "                            );\n",
    "\n",
    "Axial_line = go.Scatter3d(\n",
    "                         x = x_axial, \n",
    "                         y = y_axial,\n",
    "                         z = z_axial,\n",
    "                         name = \"axial\",\n",
    "                         mode = \"markers\",\n",
    "                         marker = dict(symbol=\"circle\",size = 1, opacity =1,color= 'rgb(0,0,0)'),\n",
    "                         showlegend = False,\n",
    "                         );\n",
    "\n",
    "Pointtrace = go.Scatter3d(\n",
    "                          x = [P[0]],\n",
    "                          y= [P[1]],\n",
    "                          z=[P[2]],\n",
    "                          name = 'Point',\n",
    "                          marker = dict(size=6, color= 'rgb(214,11,8)')\n",
    "                         )\n",
    "\n",
    "\n",
    "result= [dB_traces[0],dB_traces[1],B_traces[0],B_traces[1],dI_traces[0],dI_traces[1],R_traces[0],R_traces[1],Circletrace,Pointtrace,Axial_line,Circle_arrow]\n",
    "fig = dict(data=result)\n",
    "\n",
    "iplot(fig)\n"
   ]
  },
  {
   "cell_type": "code",
   "execution_count": 10,
   "metadata": {},
   "outputs": [],
   "source": []
  },
  {
   "cell_type": "code",
   "execution_count": null,
   "metadata": {
    "collapsed": true
   },
   "outputs": [],
   "source": []
  },
  {
   "cell_type": "code",
   "execution_count": null,
   "metadata": {
    "collapsed": true
   },
   "outputs": [],
   "source": []
  }
 ],
 "metadata": {
  "kernelspec": {
   "display_name": "Python 3",
   "language": "python",
   "name": "python3"
  },
  "language_info": {
   "codemirror_mode": {
    "name": "ipython",
    "version": 3
   },
   "file_extension": ".py",
   "mimetype": "text/x-python",
   "name": "python",
   "nbconvert_exporter": "python",
   "pygments_lexer": "ipython3",
   "version": "3.6.2"
  }
 },
 "nbformat": 4,
 "nbformat_minor": 2
}
