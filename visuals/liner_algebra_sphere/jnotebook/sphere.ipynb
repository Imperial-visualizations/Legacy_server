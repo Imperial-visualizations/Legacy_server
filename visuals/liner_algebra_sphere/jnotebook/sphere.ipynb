{
 "cells": [
  {
   "cell_type": "markdown",
   "metadata": {},
   "source": [
    "<img src=\"imperial_logo.png\" width=\"275\" align=\"left\">\n",
    "<p style=\"text-align: right\">\n",
    "    Created by Dong-Woo (Dom) Ko<br>Email: dk1713@ic.ac.uk<br><a>HTML Version (This will be a link)</a>\n",
    "</p>\n",
    "<br>\n",
    "# 3D Linear Transformation (Sphere)\n",
    "\n",
    "## Learning Objectives\n",
    "* To aid in visualisation of 3D linear transformation (Matrix transformation)\n",
    "* To show that commutation is not obvious in 3D transformation.\n",
    "\n",
    "## Table of Contents\n",
    "1. Introduction\n",
    "2. Common Features\n",
    "    1. Buttons\n",
    "    2. Equation\n",
    "    3. Python Codes\n",
    "3. Rotation in $I\\!R^3$\n",
    "4. Reflection in $I\\!R^3$"
   ]
  },
  {
   "cell_type": "markdown",
   "metadata": {},
   "source": [
    "## 1. Introduction\n",
    "We live in 3 Dimensions but that doesn't mean it is a simple matter to visualise 3D transformations. Our aim is to relieve you of that problem by providing you with this visualisation tool. We hope this will help you get a first class.\n",
    "\n",
    "By plotting a sphere, we are illustrating one of the features of orthogonal linear functions:\n",
    "     Matrix determinant = 1.\n",
    "     \n",
    "This tool is equipped with two 3D orthogonal linear transformations:\n",
    "1. Rotations and,\n",
    "2. Reflections"
   ]
  },
  {
   "cell_type": "markdown",
   "metadata": {},
   "source": [
    "## 2. Common Features"
   ]
  },
  {
   "cell_type": "markdown",
   "metadata": {},
   "source": [
    "### 2.A. Buttons\n",
    "Each tab has three buttons\n",
    "1. [Play] - \"plays\" the transformation animation,\n",
    "2. [Undo] - \"undos\" the applied transformation, and\n",
    "3. [Reset to (-2,-2,2)] - \"resets\" the visualisation."
   ]
  },
  {
   "cell_type": "markdown",
   "metadata": {},
   "source": [
    "### 2.B. Equation\n",
    "Shows Matrix equation showing initial $(x_0, y_0, z_0)$ and transformed vectors $(x, y, z)$, and Matrix of transformation.\n",
    "\n",
    "$$\n",
    "\\begin{pmatrix} x \\\\ y \\\\ z \\end{pmatrix} = \\begin{pmatrix} a & b & c \\\\ d & e & f \\\\ g & h & i\\end{pmatrix}\\begin{pmatrix} x_0 \\\\ y_0 \\\\ z_0 \\end{pmatrix}\n",
    "$$"
   ]
  },
  {
   "cell_type": "markdown",
   "metadata": {},
   "source": [
    "### 2.C. Python Code\n",
    "To illustrate the this noteboook, python code is written for you to try few transformations in the next chapter and this is preparation for that.<br> Although, do use the html link for more interactive visualisation."
   ]
  },
  {
   "cell_type": "code",
   "execution_count": null,
   "metadata": {},
   "outputs": [],
   "source": [
    "import plotly.offline as py\n",
    "import plotly.graph_objs as go\n",
    "py.init_notebook_mode(connected=True)\n",
    "import numpy as np\n",
    "import ipywidgets as widgets"
   ]
  },
  {
   "cell_type": "code",
   "execution_count": null,
   "metadata": {
    "collapsed": true
   },
   "outputs": [],
   "source": [
    "def addOpacity(string, intensity=\"0.5\"):\n",
    "    strList = list(string)\n",
    "    strList.pop()\n",
    "    string = \"\".join(strList) + \",\" + intensity +\")\"\n",
    "    return string"
   ]
  },
  {
   "cell_type": "code",
   "execution_count": null,
   "metadata": {
    "collapsed": true
   },
   "outputs": [],
   "source": [
    "def sp2c(r, theta, phi):\n",
    "    return [\n",
    "        r * np.sin(theta) * np.cos(phi),\n",
    "        r * np.sin(theta) * np.sin(phi),\n",
    "        r * np.cos(theta)\n",
    "    ]"
   ]
  },
  {
   "cell_type": "code",
   "execution_count": null,
   "metadata": {
    "collapsed": true
   },
   "outputs": [],
   "source": [
    "def c2sp(x, y, z):\n",
    "    r = 0\n",
    "    theta = 0\n",
    "    phi = 0\n",
    "    if (x*x + y*y + z*z != 0):\n",
    "        r = np.sqrt(x*x + y*y + z*z)\n",
    "        theta = np.arccos(z/r)\n",
    "        phi = np.arctan2(y,x)\n",
    "    return [r, theta, phi]"
   ]
  },
  {
   "cell_type": "markdown",
   "metadata": {},
   "source": [
    "### Objects"
   ]
  },
  {
   "cell_type": "code",
   "execution_count": null,
   "metadata": {
    "collapsed": true
   },
   "outputs": [],
   "source": [
    "class Line: \n",
    "    def __init__(self, pointList):\n",
    "        self.x = []\n",
    "        self.y = []\n",
    "        self.z = []\n",
    "        \n",
    "        for i in range(len(pointList)):\n",
    "            self.x.append(pointList[i][0])\n",
    "            self.y.append(pointList[i][1])\n",
    "            self.z.append(pointList[i][2])\n",
    "        \n",
    "    def gObject(self, color=\"rgb(210,64,0)\"):\n",
    "        lineObject = go.Scatter3d(mode=\"lines\",\n",
    "                                  x=self.x,\n",
    "                                  y=self.y,\n",
    "                                  z=self.z,\n",
    "                                  line=dict(color=(color),\n",
    "                                            width=7)\n",
    "                                 )\n",
    "        return lineObject\n",
    "    \n",
    "    def arrowHead(self, color, width=7, wingLen=0.1, dash=\"solid\"):\n",
    "        lastElm = len(self.x) - 1\n",
    "        [r, theta, phi] = c2sp(self.x[lastElm]-self.x[0], self.y[lastElm]-self.y[0], self.z[lastElm]-self.z[0])\n",
    "        offset = [self.x[0], self.y[0], self.z[0]]\n",
    "        frac = wingLen*r\n",
    "        sin45 = np.sin(np.pi/4)\n",
    "        d = r - frac * sin45\n",
    "        wingLength = np.sqrt(np.power(frac*sin45,2) + d*d)\n",
    "        wingAngle = np.arccos(d/wingLength)\n",
    "        \n",
    "        wings_xyz = [\n",
    "            np.add(sp2c(wingLength, theta + wingAngle, phi), offset),\n",
    "            np.add(sp2c(wingLength, theta - wingAngle, phi), offset)\n",
    "        ]\n",
    "\n",
    "        wings = {\n",
    "            \"type\": \"scatter3d\",\n",
    "            \"mode\": \"lines\",\n",
    "            \"x\": [wings_xyz[0][0], self.x[lastElm], wings_xyz[1][0]],\n",
    "            \"y\": [wings_xyz[0][1], self.y[lastElm], wings_xyz[1][1]],\n",
    "            \"z\": [wings_xyz[0][2], self.z[lastElm], wings_xyz[1][2]],\n",
    "            \"line\": dict(color=color, width=width)\n",
    "        }\n",
    "\n",
    "        return wings"
   ]
  },
  {
   "cell_type": "code",
   "execution_count": null,
   "metadata": {
    "collapsed": true
   },
   "outputs": [],
   "source": [
    "class Sphere:\n",
    "    def __init__(self, radius=5, center=[0, 0, 0]):\n",
    "        self.radius = radius\n",
    "        self.center = center\n",
    "        meshSize = 20\n",
    "        theta = np.linspace(0,2*np.pi,meshSize)\n",
    "        phi = np.linspace(0,np.pi,meshSize)\n",
    "        self.x = radius*np.outer(np.cos(theta),np.sin(phi)) + center[0]\n",
    "        self.y = radius*np.outer(np.sin(theta),np.sin(phi)) + center[1]\n",
    "        self.z = radius*np.outer(np.ones(meshSize),np.cos(phi)) + center[2]\n",
    "        \n",
    "    def gObject(self, color=[[0.0, \"rgb(0,62,116)\"], [1.0, \"rgb(255,255,255)\"]]):\n",
    "        sphere = go.Surface(x=self.x.tolist(),\n",
    "                            y=self.y.tolist(),\n",
    "                            z=self.z.tolist(),\n",
    "                            showscale=False,\n",
    "                            opacity=0.7,\n",
    "                            colorscale=color\n",
    "                           )       \n",
    "        return sphere"
   ]
  },
  {
   "cell_type": "markdown",
   "metadata": {},
   "source": [
    "### Frames computation:"
   ]
  },
  {
   "cell_type": "code",
   "execution_count": null,
   "metadata": {
    "collapsed": true
   },
   "outputs": [],
   "source": [
    "def computeFrames(rotation, theta, point, frames):\n",
    "    vecPoint = np.matrix([[point[0]],\n",
    "                          [point[1]],\n",
    "                          [point[2]]\n",
    "                         ])\n",
    "    t = np.linspace(0, theta, frames)\n",
    "    \n",
    "    lineList = [point]\n",
    "    output = []\n",
    "    for i in t:\n",
    "        newPoint = rotation(i)*vecPoint\n",
    "        ptList = np.reshape(newPoint,(1,3)).tolist()[0]\n",
    "        lineList.append(ptList)\n",
    "        newVec = Line([[0,0,0], ptList])\n",
    "        output.append(dict(data = [\n",
    "            newVec.gObject(\"rgb(0,0,0)\"),\n",
    "            newVec.arrowHead(\"rgb(0,0,0)\"),\n",
    "            Line(lineList).gObject(\"rgb(219,209,0)\")])\n",
    "        )\n",
    "    return output"
   ]
  },
  {
   "cell_type": "markdown",
   "metadata": {},
   "source": [
    "## 3. Rotation in $I\\!R^3$\n",
    "\n",
    "This tab explores the rotations about the three cartesian coordinate axes. Note that this visualisation will not go over the complete theory of rotation in $I\\!R^3$. But, this will help you to see the fundamental difference between rotations in $I\\!R^3$ and $I\\!R^2$."
   ]
  },
  {
   "cell_type": "markdown",
   "metadata": {},
   "source": [
    "### Rotational Matrices:\n",
    "$$\n",
    "    R_1(\\theta) = \\begin{pmatrix} 1 & 0 & 0 \\\\ 0 & \\cos\\theta & -\\sin\\theta \\\\ 0 & \\sin\\theta & \\cos\\theta \\end{pmatrix}, \\quad\n",
    "    R_2(\\theta) = \\begin{pmatrix} \\cos\\theta & 0 & \\sin\\theta \\\\ 0 & 1 & 0 \\\\ -\\sin\\theta & 0 & \\cos\\theta \\end{pmatrix}, \\quad\n",
    "    R_3(\\theta) = \\begin{pmatrix} \\cos\\theta & -\\sin\\theta & 0 \\\\ \\sin\\theta & \\cos\\theta & 0 \\\\ 0 & 0 & 1\\end{pmatrix}.\n",
    "$$ \n",
    "&emsp; $\\theta $ is the angle of rotation, <br>\n",
    "&emsp; $R_1(\\theta)$ is rotational matrix about x-axis, <br>\n",
    "&emsp; $R_2(\\theta)$ is rotational matrix about y-axis, <br>\n",
    "&emsp; $R_3(\\theta)$ is rotational matrix about z-axis."
   ]
  },
  {
   "cell_type": "markdown",
   "metadata": {},
   "source": [
    "### Python Code for rotational Matrices:"
   ]
  },
  {
   "cell_type": "code",
   "execution_count": null,
   "metadata": {
    "collapsed": true
   },
   "outputs": [],
   "source": [
    "def roXaxis(theta):\n",
    "    M = np.matrix([[1, 0, 0],\n",
    "                   [0, np.cos(theta), -np.sin(theta)], \n",
    "                   [0, np.sin(theta), np.cos(theta)]\n",
    "                  ])\n",
    "    return M\n",
    "\n",
    "def roYaxis(theta):\n",
    "    M = np.matrix([[np.cos(theta), 0, np.sin(theta)],\n",
    "                   [0, 1, 0],\n",
    "                   [-np.sin(theta), 0, np.cos(theta)]\n",
    "                  ])\n",
    "    return M\n",
    "\n",
    "def roZaxis(theta):\n",
    "    M = np.matrix([[np.cos(theta), -np.sin(theta), 0],\n",
    "                   [np.sin(theta), np.cos(theta), 0],\n",
    "                   [0, 0 ,1]\n",
    "                  ])\n",
    "    return M"
   ]
  },
  {
   "cell_type": "markdown",
   "metadata": {},
   "source": [
    "### Frame Parameters:"
   ]
  },
  {
   "cell_type": "code",
   "execution_count": null,
   "metadata": {
    "collapsed": true
   },
   "outputs": [],
   "source": [
    "frameSize = 24\n",
    "initialPoint = [-2., -2., 2.]"
   ]
  },
  {
   "cell_type": "code",
   "execution_count": null,
   "metadata": {
    "collapsed": true
   },
   "outputs": [],
   "source": [
    "data = []\n",
    "for i in range(3):\n",
    "    data.append({\"type\": \"scatter3d\"})\n",
    "        \n",
    "radius = 2*np.sqrt(3)\n",
    "sphere = Sphere(radius)\n",
    "data.append(sphere.gObject())"
   ]
  },
  {
   "cell_type": "code",
   "execution_count": null,
   "metadata": {
    "collapsed": true,
    "scrolled": false
   },
   "outputs": [],
   "source": [
    "layout=dict(width=1000, height=500,\n",
    "            hovermode='closest',\n",
    "            margin=dict(l=0,r=0,t=0,b=0),\n",
    "            updatemenus=[dict(x=-0.05,\n",
    "                              y=0.15,\n",
    "                              yanchor=\"top\",\n",
    "                              xanchor=\"right\",\n",
    "                              showactive=False,\n",
    "                              type=\"buttons\",\n",
    "                              pad={\"t\": 87, \"r\": 10},\n",
    "                              buttons=[dict(method=\"animate\",\n",
    "                                            args=[None,\n",
    "                                                  dict(fromcurrent=True,\n",
    "                                                       transition=dict(duration=50,\n",
    "                                                                       easing=\"quadratic-in-out\"\n",
    "                                                                      ),\n",
    "                                                       frame=dict(duration=50,\n",
    "                                                                  redraw=False\n",
    "                                                                 )\n",
    "                                                      )\n",
    "                                                 ],\n",
    "                                            label=\"Play\"\n",
    "                                           ),\n",
    "                                       dict(method=\"animate\",\n",
    "                                           args=[[None],\n",
    "                                                 dict(mode=\"immediate\",\n",
    "                                                      transition=dict(duration=0\n",
    "                                                                     ),\n",
    "                                                      frame=dict(duration=0,\n",
    "                                                                 redraw=False\n",
    "                                                                )\n",
    "                                                     )\n",
    "                                                ],\n",
    "                                            label=\"Pause\"\n",
    "                                           )\n",
    "                                      ]\n",
    "                             )\n",
    "                        ],\n",
    "            showlegend=False,\n",
    "            scene=dict(camera=dict(eye=dict(x=-0.8,y=-1.3,z=1))))"
   ]
  },
  {
   "cell_type": "markdown",
   "metadata": {},
   "source": [
    "### Transformation:\n",
    "\n",
    "Try changing \"roXaxis\" to \"roYaxis\" below. <br>\n",
    "Also try changing the values of \"theta\"."
   ]
  },
  {
   "cell_type": "code",
   "execution_count": null,
   "metadata": {},
   "outputs": [],
   "source": [
    "theta = np.pi/2\n",
    "frames = computeFrames(roXaxis, theta, initialPoint, frameSize)\n",
    "figure = dict(data=data, frames=frames, layout=layout)\n",
    "py.iplot(figure)"
   ]
  },
  {
   "cell_type": "markdown",
   "metadata": {},
   "source": [
    "Note that there is minor bug with Plotly animation where it will start playing, please ignore that."
   ]
  },
  {
   "cell_type": "markdown",
   "metadata": {},
   "source": [
    "Note that each of the rotations in $I\\!R^3$ have the same properties as those in $I\\!R^2$ except for one. <br>\n",
    "\n",
    "\\begin{align}\n",
    "    R_1(\\theta)R_2(\\theta) &= \\begin{pmatrix} 1 & 0 & 0 \\\\ 0 & \\cos\\theta & -\\sin\\theta \\\\ 0 & \\sin\\theta & \\cos\\theta \\end{pmatrix} \\begin{pmatrix} \\cos\\theta & 0 & \\sin\\theta \\\\ 0 & 1 & 0 \\\\ -\\sin\\theta & 0 & \\cos\\theta \\end{pmatrix}\\\\\n",
    "     &= \\begin{pmatrix} \\cos\\theta & 0 & \\sin\\theta \\\\ -\\sin^2\\theta & \\cos\\theta & -\\sin\\theta\\cos\\theta \\\\ -\\sin\\theta\\cos\\theta & \\sin\\theta & \\cos^2\\theta\\end{pmatrix},\n",
    "\\end{align}\n",
    "and compare it to,\n",
    "\\begin{align}\n",
    "    R_2(\\theta)R_1(\\theta) &= \\begin{pmatrix} \\cos\\theta & 0 & \\sin\\theta \\\\ 0 & 1 & 0 \\\\ -\\sin\\theta & 0 & \\cos\\theta \\end{pmatrix} \\begin{pmatrix} 1 & 0 & 0 \\\\ 0 & \\cos\\theta & -\\sin\\theta \\\\ 0 & \\sin\\theta & \\cos\\theta \\end{pmatrix}\\\\\n",
    "     &= \\begin{pmatrix} \\cos\\theta & \\sin^2\\theta & \\sin\\theta\\cos\\theta \\\\ 0 & \\cos\\theta & -\\sin\\theta \\\\ -\\sin\\theta & \\sin\\theta\\cos\\theta & \\cos^2\\theta\\end{pmatrix}.\n",
    "\\end{align}\n",
    "and you can see that\n",
    "$$\n",
    "    R_1(\\theta)R_2(\\theta) \\neq R_2(\\theta)R_1(\\theta)\n",
    "$$\n",
    "\n",
    "This shows that rotations in $I\\!R^3$ is not commutative. This property has important implications for quantum mechanical systems."
   ]
  },
  {
   "cell_type": "markdown",
   "metadata": {},
   "source": [
    "### Non-commutation of Rotations in $I\\!R^3$\n",
    "\n",
    "Try below visualisation to see above statement."
   ]
  },
  {
   "cell_type": "code",
   "execution_count": null,
   "metadata": {
    "collapsed": true
   },
   "outputs": [],
   "source": [
    "def computeCompositeFrames(rotation1, rotation2, theta, point, frames, color0, color1=\"rgb(210,64,0)\", color2=\"rgb(210,64,0)\"):\n",
    "    vecPoint = np.matrix([[point[0]],\n",
    "                          [point[1]],\n",
    "                          [point[2]]\n",
    "                         ])\n",
    "    t = np.linspace(0, theta, frames)\n",
    "    \n",
    "    lineList = [point]\n",
    "    output = []\n",
    "    for i in t:\n",
    "        newPoint = rotation1(i)*vecPoint\n",
    "        ptList = np.reshape(newPoint,(1,3)).tolist()[0]\n",
    "        lineList.append(ptList)\n",
    "        newVec = Line([[0,0,0],ptList])\n",
    "        output.append([newVec.gObject(color0),\n",
    "                       newVec.arrowHead(color0),\n",
    "                       Line(lineList).gObject(color1),\n",
    "                       Line([[0., 0., 0.], [0., 0., 0.]]).gObject()\n",
    "                      ])\n",
    "    lineList1 = [ptList]\n",
    "    for j in t[1:]:\n",
    "        newPoint2 = rotation2(j)*newPoint\n",
    "        ptList = np.reshape(newPoint2,(1,3)).tolist()[0]\n",
    "        lineList1.append(ptList)\n",
    "        newVec = Line([[0,0,0],ptList])\n",
    "        output.append([newVec.gObject(color0),\n",
    "                       newVec.arrowHead(color0),\n",
    "                       Line(lineList1).gObject(color2),\n",
    "                       Line(lineList).gObject(addOpacity(color1, \"0.7\"))\n",
    "                      ])\n",
    "        \n",
    "    return output"
   ]
  },
  {
   "cell_type": "code",
   "execution_count": null,
   "metadata": {
    "collapsed": true
   },
   "outputs": [],
   "source": [
    "data = []\n",
    "for i in range(16):\n",
    "    data.append({\"type\": \"scatter3d\"})\n",
    "        \n",
    "radius = 2*np.sqrt(3)\n",
    "sphere = Sphere(radius)\n",
    "data.append(sphere.gObject())\n",
    "\n",
    "frames = []\n",
    "frameList1 = computeCompositeFrames(roXaxis,roYaxis,\n",
    "                                    np.pi/2,\n",
    "                                    initialPoint, \n",
    "                                    frameSize,\n",
    "                                    \"rgb(0,0,0)\",\n",
    "                                    \"rgb(182,109,255)\",\n",
    "                                    \"rgb(219,209,0)\"\n",
    "                                   )\n",
    "frameList2 = computeCompositeFrames(roYaxis,roXaxis,\n",
    "                                    np.pi/2,\n",
    "                                    initialPoint, \n",
    "                                    frameSize,\n",
    "                                    \"rgb(255,255,255)\",\n",
    "                                    \"rgb(219,209,0)\",\n",
    "                                    \"rgb(182,109,255)\"\n",
    "                                   )\n",
    "for i in range(len(frameList1)):\n",
    "    frames.append(dict(data=[frameList1[i][0],\n",
    "                             frameList1[i][1],\n",
    "                             frameList1[i][2],\n",
    "                             frameList1[i][3],\n",
    "                             frameList2[i][0],\n",
    "                             frameList2[i][1],\n",
    "                             frameList2[i][2],\n",
    "                             frameList2[i][3],\n",
    "                            ], \n",
    "                       name=\"frame %i\" %i\n",
    "                      )\n",
    "                 )"
   ]
  },
  {
   "cell_type": "code",
   "execution_count": null,
   "metadata": {
    "collapsed": true,
    "scrolled": false
   },
   "outputs": [],
   "source": [
    "steps=[]\n",
    "for i in range(0,frameSize,1):\n",
    "    step = dict(label='R1',\n",
    "                method='animate',\n",
    "                args=[[\"frame %i\" %i],\n",
    "                      dict(mode=\"immediate\",\n",
    "                           transition=dict(duration=300\n",
    "                                          ),\n",
    "                           frame=dict(duration=300,\n",
    "                                      redraw=False\n",
    "                                     )\n",
    "                          )\n",
    "                     ]\n",
    "               )\n",
    "    steps.append(step)\n",
    "    \n",
    "for i in range(0,frameSize-1,1):\n",
    "    step = dict(label='R2',\n",
    "                method='animate',\n",
    "                args=[[\"frame %i\" %(i + frameSize)],\n",
    "                      dict(mode=\"immediate\",\n",
    "                           transition=dict(duration=300\n",
    "                                          ),\n",
    "                           frame=dict(duration=300,\n",
    "                                      redraw=False\n",
    "                                     )\n",
    "                          )\n",
    "                     ]\n",
    "               )\n",
    "    steps.append(step)\n",
    "\n",
    "sliders= [dict(\n",
    "    active=0,\n",
    "    pad={'t':2*frameSize},\n",
    "    steps=steps\n",
    ")]\n",
    "\n",
    "layout=dict(width=1000, height=500,\n",
    "            title='Non-Communativeness of 3D Rotations', \n",
    "            hovermode='closest',\n",
    "            margin=dict(l=0,r=0,t=25,b=0),\n",
    "            updatemenus=[dict(x=-0.05,\n",
    "                              y=0.15,\n",
    "                              yanchor=\"top\",\n",
    "                              xanchor=\"right\",\n",
    "                              showactive=False,\n",
    "                              type=\"buttons\",\n",
    "                              pad={\"t\": 87, \"r\": 10},\n",
    "                              buttons=[dict(method=\"animate\",\n",
    "                                            args=[None,\n",
    "                                                  dict(fromcurrent=True,\n",
    "                                                       transition=dict(duration=50,\n",
    "                                                                       easing=\"quadratic-in-out\"\n",
    "                                                                      ),\n",
    "                                                       frame=dict(duration=50,\n",
    "                                                                  redraw=False\n",
    "                                                                 )\n",
    "                                                      )\n",
    "                                                 ],\n",
    "                                            label=\"Play\"\n",
    "                                           ),\n",
    "                                       dict(method=\"animate\",\n",
    "                                           args=[[None],\n",
    "                                                 dict(mode=\"immediate\",\n",
    "                                                      transition=dict(duration=0\n",
    "                                                                     ),\n",
    "                                                      frame=dict(duration=0,\n",
    "                                                                 redraw=False\n",
    "                                                                )\n",
    "                                                     )\n",
    "                                                ],\n",
    "                                            label=\"Pause\"\n",
    "                                           )\n",
    "                                      ]\n",
    "                             )\n",
    "                        ],\n",
    "            showlegend=False,#This can be used to isolate individual trace\n",
    "            sliders=sliders)"
   ]
  },
  {
   "cell_type": "code",
   "execution_count": null,
   "metadata": {},
   "outputs": [],
   "source": [
    "figure = dict(data=data, frames=frames, layout=layout)\n",
    "py.iplot(figure)"
   ]
  },
  {
   "cell_type": "markdown",
   "metadata": {},
   "source": [
    "## 4. Reflection in $I\\!R^3$\n",
    "\n",
    "This tab explores reflections on three planes:\n",
    "1. Reflection on x = 0,\n",
    "2. Reflection on y = 0, and\n",
    "3. Reflection on z = 0."
   ]
  }
 ],
 "metadata": {
  "kernelspec": {
   "display_name": "Python 3",
   "language": "python",
   "name": "python3"
  },
  "language_info": {
   "codemirror_mode": {
    "name": "ipython",
    "version": 3
   },
   "file_extension": ".py",
   "mimetype": "text/x-python",
   "name": "python",
   "nbconvert_exporter": "python",
   "pygments_lexer": "ipython3",
   "version": "3.6.2"
  }
 },
 "nbformat": 4,
 "nbformat_minor": 2
}
