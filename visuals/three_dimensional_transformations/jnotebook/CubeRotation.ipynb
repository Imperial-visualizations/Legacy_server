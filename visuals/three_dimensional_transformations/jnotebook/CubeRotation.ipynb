{
 "cells": [
  {
   "cell_type": "markdown",
   "metadata": {},
   "source": [
    "# 3D Transformations\n",
    "\n",
    "Consider a point P, which, in cartesian coordinates is given by P(x,y,z).\n",
    "It can also be represented by a matrix in the form shown below:\n",
    "\n",
    "$\\begin{bmatrix} {x} \\\\{y} \\\\{z} \\end{bmatrix}$\n",
    "\n",
    "\n",
    "We can also represent a transformation A that transforms the point P into P'\n",
    "\n",
    "$$\n",
    "\\begin{equation}\n",
    "\\begin{bmatrix} {x'} \\\\{y'} \\\\{z'} \\end{bmatrix}\n",
    "= \n",
    "\\begin{bmatrix} {A1}&{A2}&{A3} \\\\{B1}&{B2}&{B3} \\\\{C1}&{C2}&{C3} \\end{bmatrix}\n",
    "\\begin{bmatrix} {x} \\\\{y} \\\\{z} \\end{bmatrix}\n",
    "\\end{equation}\n",
    "$$\n",
    "where the matrix A, given by \n",
    "\\begin{bmatrix} {A1}&{A2}&{A3} \\\\{B1}&{B2}&{B3} \\\\{C1}&{C2}&{C3} \\end{bmatrix}\n",
    "\n",
    "is known as the transformation matrix.\n",
    "The simplest transformation is the identity transformation, given by\n",
    "\\begin{bmatrix} {1}&{0}&{0} \\\\{0}&{1}&{0} \\\\{0}&{0}&{1} \\end{bmatrix}\n",
    "\n",
    "\n",
    "The determinant of the matrix indicates the factor by which the volume of the cube changes after the transformation. \n",
    "\n",
    "\n",
    "In the following notebook, we will see examples of transformation matrices."
   ]
  },
  {
   "cell_type": "code",
   "execution_count": 9,
   "metadata": {},
   "outputs": [
    {
     "data": {
      "text/html": [
       "<script>requirejs.config({paths: { 'plotly': ['https://cdn.plot.ly/plotly-latest.min']},});if(!window.Plotly) {{require(['plotly'],function(plotly) {window.Plotly=plotly;});}}</script>"
      ],
      "text/vnd.plotly.v1+html": [
       "<script>requirejs.config({paths: { 'plotly': ['https://cdn.plot.ly/plotly-latest.min']},});if(!window.Plotly) {{require(['plotly'],function(plotly) {window.Plotly=plotly;});}}</script>"
      ]
     },
     "metadata": {},
     "output_type": "display_data"
    }
   ],
   "source": [
    "import plotly\n",
    "import plotly.offline as py\n",
    "import plotly.graph_objs as go\n",
    "py.init_notebook_mode(connected=True)\n",
    "import numpy as np\n",
    "from plotly.graph_objs import Surface\n",
    "import json"
   ]
  },
  {
   "cell_type": "markdown",
   "metadata": {},
   "source": [
    "# Functions for Transformations"
   ]
  },
  {
   "cell_type": "markdown",
   "metadata": {},
   "source": [
    "## Rotation Transformations\n",
    "\n",
    "\n",
    "These Transformations rotate a point about a given axis of rotation, and each of them have a characteristic matrix associated with them, parameterized by the angle of rotation $ \\theta $\n",
    "For example,\n",
    "the rotation about the X axis is given by:\n",
    "\n",
    "\\begin{bmatrix} {1}&{0}&{0} \\\\{0}&{\\cos\\theta}&{-\\sin\\theta} \\\\{0}&{\\sin\\theta}&{\\cos\\theta} \\end{bmatrix}\n",
    "\n",
    "Notice that when the angle of rotation is 0, it reduces to the identity transformation.\n",
    "The determinant of the matrix is also independent of the angle of rotation and is always equal to 1.\n",
    "\n",
    "\n"
   ]
  },
  {
   "cell_type": "code",
   "execution_count": 10,
   "metadata": {
    "collapsed": true
   },
   "outputs": [],
   "source": [
    "'''\n",
    "All transformations in this code have the same structure. One line reshapes the input into the correct shape.\n",
    "M is the transformation matrix,and the output point is reshaped into a a 2D array.\n",
    "'''\n",
    "def rotXaxis(initPoint,theta):\n",
    "    initPoint = np.reshape(initPoint,(3,1))\n",
    "    M = np.matrix([[1, 0, 0],\n",
    "                   [0, np.cos(theta), -np.sin(theta)], \n",
    "                   [0, np.sin(theta), np.cos(theta)]\n",
    "                  ])\n",
    "    newPoint = M*initPoint\n",
    "    ptList = np.reshape(newPoint,(1,3)).tolist()[0]\n",
    "    xpoint = ptList[0] \n",
    "    ypoint = ptList[1] \n",
    "    zpoint = ptList[2] \n",
    "    return [xpoint, ypoint, zpoint]\n",
    "\n",
    "\n",
    "\n",
    "\n",
    "def rotYaxis(initPoint,theta):\n",
    "    initPoint = np.reshape(initPoint,(3,1))\n",
    "    M = np.matrix([[np.cos(theta), 0, np.sin(theta)],\n",
    "                   [0, 1, 0],\n",
    "                   [-np.sin(theta), 0, np.cos(theta)]\n",
    "                  ])\n",
    "    newPoint = M*initPoint\n",
    "    ptList = np.reshape(newPoint,(1,3)).tolist()[0]\n",
    "    xpoint = ptList[0] \n",
    "    ypoint = ptList[1] \n",
    "    zpoint = ptList[2] \n",
    "    return [xpoint, ypoint, zpoint]\n",
    "\n",
    "\n",
    "def rotZaxis(initPoint, theta):\n",
    "    initPoint = np.reshape(initPoint,(3,1))\n",
    "    M = np.matrix([[np.cos(theta), -np.sin(theta), 0],\n",
    "                   [np.sin(theta), np.cos(theta), 0],\n",
    "                   [0, 0 ,1]\n",
    "                  ])\n",
    "    newPoint = M*initPoint\n",
    "    ptList = np.reshape(newPoint,(1,3)).tolist()[0]\n",
    "    xpoint = ptList[0] \n",
    "    ypoint = ptList[1] \n",
    "    zpoint = ptList[2] \n",
    "    return (xpoint, ypoint, zpoint)"
   ]
  },
  {
   "cell_type": "markdown",
   "metadata": {},
   "source": [
    "## Skew Transformations"
   ]
  },
  {
   "cell_type": "markdown",
   "metadata": {},
   "source": [
    "A skew transformation, also called a shear transformation, converts a cube to a parallelepiped. An example of this is a deck of cards being pushed one way on the top, and the other at the bottom, causing the cards to slide. The angles too are parameterised by an angle of shear $\\theta $.\n",
    "Since the matrix too has a determinant of 1, it can be shown that the volume of the cube doesn't change, i.e the volume of a parallelepiped is independent of the angle of inclination. \n",
    "\n"
   ]
  },
  {
   "cell_type": "code",
   "execution_count": 11,
   "metadata": {
    "collapsed": true
   },
   "outputs": [],
   "source": [
    "def skewXaxis(initPoint, angle):\n",
    "    initPoint = np.reshape(initPoint,(3,1))\n",
    "    M = np.matrix([[1, np.tan(angle), 0],\n",
    "                   [0, 1, 0],\n",
    "                   [0, 0 ,1]\n",
    "                  ])\n",
    "    newPoint = M*initPoint\n",
    "    ptList = np.reshape(newPoint,(1,3)).tolist()[0]\n",
    "    xpoint = ptList[0] \n",
    "    ypoint = ptList[1] \n",
    "    zpoint = ptList[2] \n",
    "    return (xpoint, ypoint, zpoint)\n",
    "\n",
    "\n",
    "def skewYaxis(initPoint, angle):\n",
    "    initPoint = np.reshape(initPoint,(3,1))\n",
    "    M = np.matrix([[1, 0, 0],\n",
    "                   [np.tan(angle), 1, 0],\n",
    "                   [0, 0 ,1]\n",
    "                  ])\n",
    "    newPoint = M*initPoint\n",
    "    ptList = np.reshape(newPoint,(1,3)).tolist()[0]\n",
    "    xpoint = ptList[0] \n",
    "    ypoint = ptList[1] \n",
    "    zpoint = ptList[2] \n",
    "    return (xpoint, ypoint, zpoint)\n",
    "\n",
    "def skewZaxis(initPoint, angle):\n",
    "    initPoint = np.reshape(initPoint,(3,1))\n",
    "    M = np.matrix([[1, 0, 0],\n",
    "                   [0, 1, 0],\n",
    "                   [0, np.tan(angle) ,1]\n",
    "                  ])\n",
    "    newPoint = M*initPoint\n",
    "    ptList = np.reshape(newPoint,(1,3)).tolist()[0]\n",
    "    xpoint = ptList[0] \n",
    "    ypoint = ptList[1] \n",
    "    zpoint = ptList[2] \n",
    "    return (xpoint, ypoint, zpoint)"
   ]
  },
  {
   "cell_type": "markdown",
   "metadata": {
    "collapsed": true
   },
   "source": [
    "## Scale Transformations\n",
    "Scale transformations are matrices of the form \n",
    "\n",
    "$$\\begin{bmatrix} {\\lambda_1}&{0}&{0} \\\\{0}&{\\lambda_2}&{0} \\\\{0}&{0}&{\\lambda_3} \\end{bmatrix}$$\n",
    "\n",
    "where $\\lambda_1, \\lambda_2,\\lambda_3$ are the scaling factors on the X, Y and Z axes respectively. Hence, it is quite clear that the determinant, and hence, the volume changes by a factor of $\\lambda_1\\lambda_2\\lambda_3$.\n",
    "\n",
    "\n"
   ]
  },
  {
   "cell_type": "code",
   "execution_count": 12,
   "metadata": {
    "collapsed": true
   },
   "outputs": [],
   "source": [
    "def scaleXaxis(initPoint,scale):\n",
    "    initPoint = np.reshape(initPoint,(3,1))\n",
    "    M = np.matrix([[scale, 0, 0],\n",
    "                   [0, 1, 0],\n",
    "                   [0, 0 ,1]\n",
    "                  ])\n",
    "    newPoint = M*initPoint\n",
    "    ptList = np.reshape(newPoint,(1,3)).tolist()[0]\n",
    "    xpoint = ptList[0] \n",
    "    ypoint = ptList[1] \n",
    "    zpoint = ptList[2] \n",
    "    return (xpoint, ypoint, zpoint)\n",
    "\n",
    "def scaleYaxis(initPoint,scale):\n",
    "    initPoint = np.reshape(initPoint,(3,1))\n",
    "    M = np.matrix([[1, 0, 0],\n",
    "                   [0, scale, 0],\n",
    "                   [0, 0 ,1]\n",
    "                  ])\n",
    "    newPoint = M*initPoint\n",
    "    ptList = np.reshape(newPoint,(1,3)).tolist()[0]\n",
    "    xpoint = ptList[0] \n",
    "    ypoint = ptList[1] \n",
    "    zpoint = ptList[2] \n",
    "    return (xpoint, ypoint, zpoint)\n",
    "\n",
    "def scaleZaxis(initPoint,scale):\n",
    "    initPoint = np.reshape(initPoint,(3,1))\n",
    "    M = np.matrix([[1, 0, 0],\n",
    "                   [0, 1, 0],\n",
    "                   [0, 0 ,scale]\n",
    "                  ])\n",
    "    newPoint = M*initPoint\n",
    "    ptList = np.reshape(newPoint,(1,3)).tolist()[0]\n",
    "    xpoint = ptList[0] \n",
    "    ypoint = ptList[1] \n",
    "    zpoint = ptList[2] \n",
    "    return (xpoint, ypoint, zpoint)\n",
    "\n",
    "def scaleAllAxes(initPoint, scale):\n",
    "    initPoint = np.reshape(initPoint,(3,1))\n",
    "    M = np.matrix([[scale, 0, 0],\n",
    "                   [0, scale, 0],\n",
    "                   [0, 0 ,scale]\n",
    "                  ])\n",
    "    newPoint = M*initPoint\n",
    "    ptList = np.reshape(newPoint,(1,3)).tolist()[0]\n",
    "    xpoint = ptList[0] \n",
    "    ypoint = ptList[1] \n",
    "    zpoint = ptList[2] \n",
    "    return (xpoint, ypoint, zpoint)"
   ]
  },
  {
   "cell_type": "markdown",
   "metadata": {},
   "source": [
    "## Master Function (One function to run them all, and in  Plotly, bind them)\n"
   ]
  },
  {
   "cell_type": "code",
   "execution_count": 13,
   "metadata": {
    "collapsed": true
   },
   "outputs": [],
   "source": [
    "def master(transformation, initialParam, finalParam, xinit, yinit, zinit):\n",
    "    t = np.linspace(initialParam, finalParam, 10)\n",
    "    for i in range(10):\n",
    "        xTrans = []\n",
    "        yTrans = []\n",
    "        zTrans = []\n",
    "        \n",
    "        for j in range(8):\n",
    "            point = [xinit[j], yinit[j], zinit[j]]\n",
    "            pointOut = transformation(point, t[i])\n",
    "            if np.amax(pointOut) > 3:\n",
    "                xTrans = xinit\n",
    "                yTrans = yinit\n",
    "                zTrans = zinit\n",
    "                print(\"You've overshot the layout\")\n",
    "                return\n",
    "            else:\n",
    "                xTrans.append(pointOut[0])\n",
    "                yTrans.append(pointOut[1])\n",
    "                zTrans.append(pointOut[2])\n",
    "        cubeTrans = go.Mesh3d(\n",
    "        x = xTrans,\n",
    "        y = yTrans,\n",
    "        z = zTrans,\n",
    "        colorscale = [['0', 'rgb(255,255,255)'],['0.5','rgb(0,133,202) '], ['1', 'rgb(0,62,116)']],\n",
    "        intensity = [0, 0.142857142857143, 0.285714285714286, 0.428571428571429, 0.571428571428571, 0.714285714285714, 0.857142857142857, 1],\n",
    "        i = [7, 0, 0, 0, 4, 4, 6, 6, 4, 0, 3, 2],\n",
    "        j = [3, 4, 1, 2, 5, 6, 5, 2, 0, 1, 6, 3],\n",
    "        k = [0, 7, 2, 3, 6, 7, 1, 1, 5, 5, 7, 6],\n",
    "        name='y',\n",
    "        showscale=False\n",
    "        )\n",
    "        data.append(dict(cubeTrans, visible = False))\n",
    "    return\n",
    "\n",
    "        \n",
    "            \n"
   ]
  },
  {
   "cell_type": "markdown",
   "metadata": {},
   "source": [
    "## Generates layout"
   ]
  },
  {
   "cell_type": "code",
   "execution_count": 14,
   "metadata": {
    "collapsed": true
   },
   "outputs": [],
   "source": [
    "def generateLayout(data):\n",
    "    steps = []\n",
    "    for i in range(len(data)):\n",
    "        step = dict(\n",
    "            method = 'restyle',\n",
    "            args = ['visible', [False] * len(data)],\n",
    "        )\n",
    "        step['args'][1][i] = True \n",
    "        steps.append(step)\n",
    "\n",
    "    sliders = [dict(\n",
    "        active = 10,\n",
    "        pad = {\"t\": 50},\n",
    "        steps = steps\n",
    "    )]\n",
    "    layout = dict(\n",
    "        sliders = sliders,\n",
    "        width=600,height=600,\n",
    "        title='3D Transformation',\n",
    "        font = dict(family=\"Comic Sans MS\"),\n",
    "        scene = dict(\n",
    "            xaxis = dict(range=[-5, 5], autorange=False, zeroline=True),\n",
    "            yaxis = dict(range=[-5, 5], autorange=False, zeroline=True),\n",
    "            zaxis = dict(range=[-5, 5], autorange=False, zeroline=True),\n",
    "            aspectmode = 'cube',\n",
    "            camera = dict(center=dict(x=0,y=0,z=0),eye=dict(x=1,y=-1,z=1))\n",
    "                    ),\n",
    "        plot_bgcolor='rgb(255, 255, 255)'\n",
    "    )\n",
    "    figure = dict(data=data, layout=layout)\n",
    "    return figure\n",
    "    \n"
   ]
  },
  {
   "cell_type": "markdown",
   "metadata": {},
   "source": [
    "# Initalizations"
   ]
  },
  {
   "cell_type": "code",
   "execution_count": 15,
   "metadata": {
    "collapsed": true
   },
   "outputs": [],
   "source": [
    "xTrans = [-1., -1., 1., 1., -1., -1., 1., 1.];\n",
    "yTrans = [-1., 1., 1., -1., -1., 1., 1., -1.];\n",
    "zTrans = [-1., -1., -1., -1., 1., 1., 1., 1.];\n"
   ]
  },
  {
   "cell_type": "code",
   "execution_count": 16,
   "metadata": {},
   "outputs": [
    {
     "data": {
      "application/vnd.plotly.v1+json": {
       "data": [
        {
         "colorscale": [
          [
           "0",
           "rgb(255,255,255)"
          ],
          [
           "0.5",
           "rgb(0,133,202) "
          ],
          [
           "1",
           "rgb(0,62,116)"
          ]
         ],
         "i": [
          7,
          0,
          0,
          0,
          4,
          4,
          6,
          6,
          4,
          0,
          3,
          2
         ],
         "intensity": [
          0,
          0.142857142857143,
          0.285714285714286,
          0.428571428571429,
          0.571428571428571,
          0.714285714285714,
          0.857142857142857,
          1
         ],
         "j": [
          3,
          4,
          1,
          2,
          5,
          6,
          5,
          2,
          0,
          1,
          6,
          3
         ],
         "k": [
          0,
          7,
          2,
          3,
          6,
          7,
          1,
          1,
          5,
          5,
          7,
          6
         ],
         "name": "y",
         "showscale": false,
         "type": "mesh3d",
         "visible": false,
         "x": [
          -1,
          -1,
          1,
          1,
          -1,
          -1,
          1,
          1
         ],
         "y": [
          -1,
          1,
          1,
          -1,
          -1,
          1,
          1,
          -1
         ],
         "z": [
          -1,
          -1,
          -1,
          -1,
          1,
          1,
          1,
          1
         ]
        },
        {
         "colorscale": [
          [
           "0",
           "rgb(255,255,255)"
          ],
          [
           "0.5",
           "rgb(0,133,202) "
          ],
          [
           "1",
           "rgb(0,62,116)"
          ]
         ],
         "i": [
          7,
          0,
          0,
          0,
          4,
          4,
          6,
          6,
          4,
          0,
          3,
          2
         ],
         "intensity": [
          0,
          0.142857142857143,
          0.285714285714286,
          0.428571428571429,
          0.571428571428571,
          0.714285714285714,
          0.857142857142857,
          1
         ],
         "j": [
          3,
          4,
          1,
          2,
          5,
          6,
          5,
          2,
          0,
          1,
          6,
          3
         ],
         "k": [
          0,
          7,
          2,
          3,
          6,
          7,
          1,
          1,
          5,
          5,
          7,
          6
         ],
         "name": "y",
         "showscale": false,
         "type": "mesh3d",
         "visible": false,
         "x": [
          -1,
          -1,
          1,
          1,
          -1,
          -1,
          1,
          1
         ],
         "y": [
          -0.8111595753452777,
          1.1584559306791384,
          1.1584559306791384,
          -0.8111595753452777,
          -1.1584559306791384,
          0.8111595753452777,
          0.8111595753452777,
          -1.1584559306791384
         ],
         "z": [
          -1.1584559306791384,
          -0.8111595753452777,
          -0.8111595753452777,
          -1.1584559306791384,
          0.8111595753452777,
          1.1584559306791384,
          1.1584559306791384,
          0.8111595753452777
         ]
        },
        {
         "colorscale": [
          [
           "0",
           "rgb(255,255,255)"
          ],
          [
           "0.5",
           "rgb(0,133,202) "
          ],
          [
           "1",
           "rgb(0,62,116)"
          ]
         ],
         "i": [
          7,
          0,
          0,
          0,
          4,
          4,
          6,
          6,
          4,
          0,
          3,
          2
         ],
         "intensity": [
          0,
          0.142857142857143,
          0.285714285714286,
          0.428571428571429,
          0.571428571428571,
          0.714285714285714,
          0.857142857142857,
          1
         ],
         "j": [
          3,
          4,
          1,
          2,
          5,
          6,
          5,
          2,
          0,
          1,
          6,
          3
         ],
         "k": [
          0,
          7,
          2,
          3,
          6,
          7,
          1,
          1,
          5,
          5,
          7,
          6
         ],
         "name": "y",
         "showscale": false,
         "type": "mesh3d",
         "visible": false,
         "x": [
          -1,
          -1,
          1,
          1,
          -1,
          -1,
          1,
          1
         ],
         "y": [
          -0.5976724774602398,
          1.281712764111577,
          1.281712764111577,
          -0.5976724774602398,
          -1.281712764111577,
          0.5976724774602398,
          0.5976724774602398,
          -1.281712764111577
         ],
         "z": [
          -1.281712764111577,
          -0.5976724774602398,
          -0.5976724774602398,
          -1.281712764111577,
          0.5976724774602398,
          1.281712764111577,
          1.281712764111577,
          0.5976724774602398
         ]
        },
        {
         "colorscale": [
          [
           "0",
           "rgb(255,255,255)"
          ],
          [
           "0.5",
           "rgb(0,133,202) "
          ],
          [
           "1",
           "rgb(0,62,116)"
          ]
         ],
         "i": [
          7,
          0,
          0,
          0,
          4,
          4,
          6,
          6,
          4,
          0,
          3,
          2
         ],
         "intensity": [
          0,
          0.142857142857143,
          0.285714285714286,
          0.428571428571429,
          0.571428571428571,
          0.714285714285714,
          0.857142857142857,
          1
         ],
         "j": [
          3,
          4,
          1,
          2,
          5,
          6,
          5,
          2,
          0,
          1,
          6,
          3
         ],
         "k": [
          0,
          7,
          2,
          3,
          6,
          7,
          1,
          1,
          5,
          5,
          7,
          6
         ],
         "name": "y",
         "showscale": false,
         "type": "mesh3d",
         "visible": false,
         "x": [
          -1,
          -1,
          1,
          1,
          -1,
          -1,
          1,
          1
         ],
         "y": [
          -0.36602540378443876,
          1.3660254037844386,
          1.3660254037844386,
          -0.36602540378443876,
          -1.3660254037844386,
          0.36602540378443876,
          0.36602540378443876,
          -1.3660254037844386
         ],
         "z": [
          -1.3660254037844386,
          -0.36602540378443876,
          -0.36602540378443876,
          -1.3660254037844386,
          0.36602540378443876,
          1.3660254037844386,
          1.3660254037844386,
          0.36602540378443876
         ]
        },
        {
         "colorscale": [
          [
           "0",
           "rgb(255,255,255)"
          ],
          [
           "0.5",
           "rgb(0,133,202) "
          ],
          [
           "1",
           "rgb(0,62,116)"
          ]
         ],
         "i": [
          7,
          0,
          0,
          0,
          4,
          4,
          6,
          6,
          4,
          0,
          3,
          2
         ],
         "intensity": [
          0,
          0.142857142857143,
          0.285714285714286,
          0.428571428571429,
          0.571428571428571,
          0.714285714285714,
          0.857142857142857,
          1
         ],
         "j": [
          3,
          4,
          1,
          2,
          5,
          6,
          5,
          2,
          0,
          1,
          6,
          3
         ],
         "k": [
          0,
          7,
          2,
          3,
          6,
          7,
          1,
          1,
          5,
          5,
          7,
          6
         ],
         "name": "y",
         "showscale": false,
         "type": "mesh3d",
         "visible": false,
         "x": [
          -1,
          -1,
          1,
          1,
          -1,
          -1,
          1,
          1
         ],
         "y": [
          -0.12325683343243887,
          1.4088320528055174,
          1.4088320528055174,
          -0.12325683343243887,
          -1.4088320528055174,
          0.12325683343243887,
          0.12325683343243887,
          -1.4088320528055174
         ],
         "z": [
          -1.4088320528055174,
          -0.12325683343243887,
          -0.12325683343243887,
          -1.4088320528055174,
          0.12325683343243887,
          1.4088320528055174,
          1.4088320528055174,
          0.12325683343243887
         ]
        },
        {
         "colorscale": [
          [
           "0",
           "rgb(255,255,255)"
          ],
          [
           "0.5",
           "rgb(0,133,202) "
          ],
          [
           "1",
           "rgb(0,62,116)"
          ]
         ],
         "i": [
          7,
          0,
          0,
          0,
          4,
          4,
          6,
          6,
          4,
          0,
          3,
          2
         ],
         "intensity": [
          0,
          0.142857142857143,
          0.285714285714286,
          0.428571428571429,
          0.571428571428571,
          0.714285714285714,
          0.857142857142857,
          1
         ],
         "j": [
          3,
          4,
          1,
          2,
          5,
          6,
          5,
          2,
          0,
          1,
          6,
          3
         ],
         "k": [
          0,
          7,
          2,
          3,
          6,
          7,
          1,
          1,
          5,
          5,
          7,
          6
         ],
         "name": "y",
         "showscale": false,
         "type": "mesh3d",
         "visible": false,
         "x": [
          -1,
          -1,
          1,
          1,
          -1,
          -1,
          1,
          1
         ],
         "y": [
          0.12325683343243865,
          1.4088320528055174,
          1.4088320528055174,
          0.12325683343243865,
          -1.4088320528055174,
          -0.12325683343243865,
          -0.12325683343243865,
          -1.4088320528055174
         ],
         "z": [
          -1.4088320528055174,
          0.12325683343243865,
          0.12325683343243865,
          -1.4088320528055174,
          -0.12325683343243865,
          1.4088320528055174,
          1.4088320528055174,
          -0.12325683343243865
         ]
        },
        {
         "colorscale": [
          [
           "0",
           "rgb(255,255,255)"
          ],
          [
           "0.5",
           "rgb(0,133,202) "
          ],
          [
           "1",
           "rgb(0,62,116)"
          ]
         ],
         "i": [
          7,
          0,
          0,
          0,
          4,
          4,
          6,
          6,
          4,
          0,
          3,
          2
         ],
         "intensity": [
          0,
          0.142857142857143,
          0.285714285714286,
          0.428571428571429,
          0.571428571428571,
          0.714285714285714,
          0.857142857142857,
          1
         ],
         "j": [
          3,
          4,
          1,
          2,
          5,
          6,
          5,
          2,
          0,
          1,
          6,
          3
         ],
         "k": [
          0,
          7,
          2,
          3,
          6,
          7,
          1,
          1,
          5,
          5,
          7,
          6
         ],
         "name": "y",
         "showscale": false,
         "type": "mesh3d",
         "visible": false,
         "x": [
          -1,
          -1,
          1,
          1,
          -1,
          -1,
          1,
          1
         ],
         "y": [
          0.3660254037844385,
          1.3660254037844388,
          1.3660254037844388,
          0.3660254037844385,
          -1.3660254037844388,
          -0.3660254037844385,
          -0.3660254037844385,
          -1.3660254037844388
         ],
         "z": [
          -1.3660254037844388,
          0.3660254037844385,
          0.3660254037844385,
          -1.3660254037844388,
          -0.3660254037844385,
          1.3660254037844388,
          1.3660254037844388,
          -0.3660254037844385
         ]
        },
        {
         "colorscale": [
          [
           "0",
           "rgb(255,255,255)"
          ],
          [
           "0.5",
           "rgb(0,133,202) "
          ],
          [
           "1",
           "rgb(0,62,116)"
          ]
         ],
         "i": [
          7,
          0,
          0,
          0,
          4,
          4,
          6,
          6,
          4,
          0,
          3,
          2
         ],
         "intensity": [
          0,
          0.142857142857143,
          0.285714285714286,
          0.428571428571429,
          0.571428571428571,
          0.714285714285714,
          0.857142857142857,
          1
         ],
         "j": [
          3,
          4,
          1,
          2,
          5,
          6,
          5,
          2,
          0,
          1,
          6,
          3
         ],
         "k": [
          0,
          7,
          2,
          3,
          6,
          7,
          1,
          1,
          5,
          5,
          7,
          6
         ],
         "name": "y",
         "showscale": false,
         "type": "mesh3d",
         "visible": false,
         "x": [
          -1,
          -1,
          1,
          1,
          -1,
          -1,
          1,
          1
         ],
         "y": [
          0.5976724774602395,
          1.281712764111577,
          1.281712764111577,
          0.5976724774602395,
          -1.281712764111577,
          -0.5976724774602395,
          -0.5976724774602395,
          -1.281712764111577
         ],
         "z": [
          -1.281712764111577,
          0.5976724774602395,
          0.5976724774602395,
          -1.281712764111577,
          -0.5976724774602395,
          1.281712764111577,
          1.281712764111577,
          -0.5976724774602395
         ]
        },
        {
         "colorscale": [
          [
           "0",
           "rgb(255,255,255)"
          ],
          [
           "0.5",
           "rgb(0,133,202) "
          ],
          [
           "1",
           "rgb(0,62,116)"
          ]
         ],
         "i": [
          7,
          0,
          0,
          0,
          4,
          4,
          6,
          6,
          4,
          0,
          3,
          2
         ],
         "intensity": [
          0,
          0.142857142857143,
          0.285714285714286,
          0.428571428571429,
          0.571428571428571,
          0.714285714285714,
          0.857142857142857,
          1
         ],
         "j": [
          3,
          4,
          1,
          2,
          5,
          6,
          5,
          2,
          0,
          1,
          6,
          3
         ],
         "k": [
          0,
          7,
          2,
          3,
          6,
          7,
          1,
          1,
          5,
          5,
          7,
          6
         ],
         "name": "y",
         "showscale": false,
         "type": "mesh3d",
         "visible": false,
         "x": [
          -1,
          -1,
          1,
          1,
          -1,
          -1,
          1,
          1
         ],
         "y": [
          0.8111595753452776,
          1.1584559306791384,
          1.1584559306791384,
          0.8111595753452776,
          -1.1584559306791384,
          -0.8111595753452776,
          -0.8111595753452776,
          -1.1584559306791384
         ],
         "z": [
          -1.1584559306791384,
          0.8111595753452776,
          0.8111595753452776,
          -1.1584559306791384,
          -0.8111595753452776,
          1.1584559306791384,
          1.1584559306791384,
          -0.8111595753452776
         ]
        },
        {
         "colorscale": [
          [
           "0",
           "rgb(255,255,255)"
          ],
          [
           "0.5",
           "rgb(0,133,202) "
          ],
          [
           "1",
           "rgb(0,62,116)"
          ]
         ],
         "i": [
          7,
          0,
          0,
          0,
          4,
          4,
          6,
          6,
          4,
          0,
          3,
          2
         ],
         "intensity": [
          0,
          0.142857142857143,
          0.285714285714286,
          0.428571428571429,
          0.571428571428571,
          0.714285714285714,
          0.857142857142857,
          1
         ],
         "j": [
          3,
          4,
          1,
          2,
          5,
          6,
          5,
          2,
          0,
          1,
          6,
          3
         ],
         "k": [
          0,
          7,
          2,
          3,
          6,
          7,
          1,
          1,
          5,
          5,
          7,
          6
         ],
         "name": "y",
         "showscale": false,
         "type": "mesh3d",
         "visible": false,
         "x": [
          -1,
          -1,
          1,
          1,
          -1,
          -1,
          1,
          1
         ],
         "y": [
          0.9999999999999999,
          1,
          1,
          0.9999999999999999,
          -1,
          -0.9999999999999999,
          -0.9999999999999999,
          -1
         ],
         "z": [
          -1,
          0.9999999999999999,
          0.9999999999999999,
          -1,
          -0.9999999999999999,
          1,
          1,
          -0.9999999999999999
         ]
        },
        {
         "colorscale": [
          [
           "0",
           "rgb(255,255,255)"
          ],
          [
           "0.5",
           "rgb(0,133,202) "
          ],
          [
           "1",
           "rgb(0,62,116)"
          ]
         ],
         "i": [
          7,
          0,
          0,
          0,
          4,
          4,
          6,
          6,
          4,
          0,
          3,
          2
         ],
         "intensity": [
          0,
          0.142857142857143,
          0.285714285714286,
          0.428571428571429,
          0.571428571428571,
          0.714285714285714,
          0.857142857142857,
          1
         ],
         "j": [
          3,
          4,
          1,
          2,
          5,
          6,
          5,
          2,
          0,
          1,
          6,
          3
         ],
         "k": [
          0,
          7,
          2,
          3,
          6,
          7,
          1,
          1,
          5,
          5,
          7,
          6
         ],
         "name": "y",
         "showscale": false,
         "type": "mesh3d",
         "visible": false,
         "x": [
          -1,
          -1,
          1,
          1,
          -1,
          -1,
          1,
          1
         ],
         "y": [
          -1,
          1,
          1,
          -1,
          -1,
          1,
          1,
          -1
         ],
         "z": [
          -1,
          -1,
          -1,
          -1,
          1,
          1,
          1,
          1
         ]
        },
        {
         "colorscale": [
          [
           "0",
           "rgb(255,255,255)"
          ],
          [
           "0.5",
           "rgb(0,133,202) "
          ],
          [
           "1",
           "rgb(0,62,116)"
          ]
         ],
         "i": [
          7,
          0,
          0,
          0,
          4,
          4,
          6,
          6,
          4,
          0,
          3,
          2
         ],
         "intensity": [
          0,
          0.142857142857143,
          0.285714285714286,
          0.428571428571429,
          0.571428571428571,
          0.714285714285714,
          0.857142857142857,
          1
         ],
         "j": [
          3,
          4,
          1,
          2,
          5,
          6,
          5,
          2,
          0,
          1,
          6,
          3
         ],
         "k": [
          0,
          7,
          2,
          3,
          6,
          7,
          1,
          1,
          5,
          5,
          7,
          6
         ],
         "name": "y",
         "showscale": false,
         "type": "mesh3d",
         "visible": false,
         "x": [
          -1.1584559306791384,
          -1.1584559306791384,
          0.8111595753452777,
          0.8111595753452777,
          -0.8111595753452777,
          -0.8111595753452777,
          1.1584559306791384,
          1.1584559306791384
         ],
         "y": [
          -1,
          1,
          1,
          -1,
          -1,
          1,
          1,
          -1
         ],
         "z": [
          -0.8111595753452777,
          -0.8111595753452777,
          -1.1584559306791384,
          -1.1584559306791384,
          1.1584559306791384,
          1.1584559306791384,
          0.8111595753452777,
          0.8111595753452777
         ]
        },
        {
         "colorscale": [
          [
           "0",
           "rgb(255,255,255)"
          ],
          [
           "0.5",
           "rgb(0,133,202) "
          ],
          [
           "1",
           "rgb(0,62,116)"
          ]
         ],
         "i": [
          7,
          0,
          0,
          0,
          4,
          4,
          6,
          6,
          4,
          0,
          3,
          2
         ],
         "intensity": [
          0,
          0.142857142857143,
          0.285714285714286,
          0.428571428571429,
          0.571428571428571,
          0.714285714285714,
          0.857142857142857,
          1
         ],
         "j": [
          3,
          4,
          1,
          2,
          5,
          6,
          5,
          2,
          0,
          1,
          6,
          3
         ],
         "k": [
          0,
          7,
          2,
          3,
          6,
          7,
          1,
          1,
          5,
          5,
          7,
          6
         ],
         "name": "y",
         "showscale": false,
         "type": "mesh3d",
         "visible": false,
         "x": [
          -1.281712764111577,
          -1.281712764111577,
          0.5976724774602398,
          0.5976724774602398,
          -0.5976724774602398,
          -0.5976724774602398,
          1.281712764111577,
          1.281712764111577
         ],
         "y": [
          -1,
          1,
          1,
          -1,
          -1,
          1,
          1,
          -1
         ],
         "z": [
          -0.5976724774602398,
          -0.5976724774602398,
          -1.281712764111577,
          -1.281712764111577,
          1.281712764111577,
          1.281712764111577,
          0.5976724774602398,
          0.5976724774602398
         ]
        },
        {
         "colorscale": [
          [
           "0",
           "rgb(255,255,255)"
          ],
          [
           "0.5",
           "rgb(0,133,202) "
          ],
          [
           "1",
           "rgb(0,62,116)"
          ]
         ],
         "i": [
          7,
          0,
          0,
          0,
          4,
          4,
          6,
          6,
          4,
          0,
          3,
          2
         ],
         "intensity": [
          0,
          0.142857142857143,
          0.285714285714286,
          0.428571428571429,
          0.571428571428571,
          0.714285714285714,
          0.857142857142857,
          1
         ],
         "j": [
          3,
          4,
          1,
          2,
          5,
          6,
          5,
          2,
          0,
          1,
          6,
          3
         ],
         "k": [
          0,
          7,
          2,
          3,
          6,
          7,
          1,
          1,
          5,
          5,
          7,
          6
         ],
         "name": "y",
         "showscale": false,
         "type": "mesh3d",
         "visible": false,
         "x": [
          -1.3660254037844386,
          -1.3660254037844386,
          0.36602540378443876,
          0.36602540378443876,
          -0.36602540378443876,
          -0.36602540378443876,
          1.3660254037844386,
          1.3660254037844386
         ],
         "y": [
          -1,
          1,
          1,
          -1,
          -1,
          1,
          1,
          -1
         ],
         "z": [
          -0.36602540378443876,
          -0.36602540378443876,
          -1.3660254037844386,
          -1.3660254037844386,
          1.3660254037844386,
          1.3660254037844386,
          0.36602540378443876,
          0.36602540378443876
         ]
        },
        {
         "colorscale": [
          [
           "0",
           "rgb(255,255,255)"
          ],
          [
           "0.5",
           "rgb(0,133,202) "
          ],
          [
           "1",
           "rgb(0,62,116)"
          ]
         ],
         "i": [
          7,
          0,
          0,
          0,
          4,
          4,
          6,
          6,
          4,
          0,
          3,
          2
         ],
         "intensity": [
          0,
          0.142857142857143,
          0.285714285714286,
          0.428571428571429,
          0.571428571428571,
          0.714285714285714,
          0.857142857142857,
          1
         ],
         "j": [
          3,
          4,
          1,
          2,
          5,
          6,
          5,
          2,
          0,
          1,
          6,
          3
         ],
         "k": [
          0,
          7,
          2,
          3,
          6,
          7,
          1,
          1,
          5,
          5,
          7,
          6
         ],
         "name": "y",
         "showscale": false,
         "type": "mesh3d",
         "visible": false,
         "x": [
          -1.4088320528055174,
          -1.4088320528055174,
          0.12325683343243887,
          0.12325683343243887,
          -0.12325683343243887,
          -0.12325683343243887,
          1.4088320528055174,
          1.4088320528055174
         ],
         "y": [
          -1,
          1,
          1,
          -1,
          -1,
          1,
          1,
          -1
         ],
         "z": [
          -0.12325683343243887,
          -0.12325683343243887,
          -1.4088320528055174,
          -1.4088320528055174,
          1.4088320528055174,
          1.4088320528055174,
          0.12325683343243887,
          0.12325683343243887
         ]
        },
        {
         "colorscale": [
          [
           "0",
           "rgb(255,255,255)"
          ],
          [
           "0.5",
           "rgb(0,133,202) "
          ],
          [
           "1",
           "rgb(0,62,116)"
          ]
         ],
         "i": [
          7,
          0,
          0,
          0,
          4,
          4,
          6,
          6,
          4,
          0,
          3,
          2
         ],
         "intensity": [
          0,
          0.142857142857143,
          0.285714285714286,
          0.428571428571429,
          0.571428571428571,
          0.714285714285714,
          0.857142857142857,
          1
         ],
         "j": [
          3,
          4,
          1,
          2,
          5,
          6,
          5,
          2,
          0,
          1,
          6,
          3
         ],
         "k": [
          0,
          7,
          2,
          3,
          6,
          7,
          1,
          1,
          5,
          5,
          7,
          6
         ],
         "name": "y",
         "showscale": false,
         "type": "mesh3d",
         "visible": false,
         "x": [
          -1.4088320528055174,
          -1.4088320528055174,
          -0.12325683343243865,
          -0.12325683343243865,
          0.12325683343243865,
          0.12325683343243865,
          1.4088320528055174,
          1.4088320528055174
         ],
         "y": [
          -1,
          1,
          1,
          -1,
          -1,
          1,
          1,
          -1
         ],
         "z": [
          0.12325683343243865,
          0.12325683343243865,
          -1.4088320528055174,
          -1.4088320528055174,
          1.4088320528055174,
          1.4088320528055174,
          -0.12325683343243865,
          -0.12325683343243865
         ]
        },
        {
         "colorscale": [
          [
           "0",
           "rgb(255,255,255)"
          ],
          [
           "0.5",
           "rgb(0,133,202) "
          ],
          [
           "1",
           "rgb(0,62,116)"
          ]
         ],
         "i": [
          7,
          0,
          0,
          0,
          4,
          4,
          6,
          6,
          4,
          0,
          3,
          2
         ],
         "intensity": [
          0,
          0.142857142857143,
          0.285714285714286,
          0.428571428571429,
          0.571428571428571,
          0.714285714285714,
          0.857142857142857,
          1
         ],
         "j": [
          3,
          4,
          1,
          2,
          5,
          6,
          5,
          2,
          0,
          1,
          6,
          3
         ],
         "k": [
          0,
          7,
          2,
          3,
          6,
          7,
          1,
          1,
          5,
          5,
          7,
          6
         ],
         "name": "y",
         "showscale": false,
         "type": "mesh3d",
         "visible": false,
         "x": [
          -1.3660254037844388,
          -1.3660254037844388,
          -0.3660254037844385,
          -0.3660254037844385,
          0.3660254037844385,
          0.3660254037844385,
          1.3660254037844388,
          1.3660254037844388
         ],
         "y": [
          -1,
          1,
          1,
          -1,
          -1,
          1,
          1,
          -1
         ],
         "z": [
          0.3660254037844385,
          0.3660254037844385,
          -1.3660254037844388,
          -1.3660254037844388,
          1.3660254037844388,
          1.3660254037844388,
          -0.3660254037844385,
          -0.3660254037844385
         ]
        },
        {
         "colorscale": [
          [
           "0",
           "rgb(255,255,255)"
          ],
          [
           "0.5",
           "rgb(0,133,202) "
          ],
          [
           "1",
           "rgb(0,62,116)"
          ]
         ],
         "i": [
          7,
          0,
          0,
          0,
          4,
          4,
          6,
          6,
          4,
          0,
          3,
          2
         ],
         "intensity": [
          0,
          0.142857142857143,
          0.285714285714286,
          0.428571428571429,
          0.571428571428571,
          0.714285714285714,
          0.857142857142857,
          1
         ],
         "j": [
          3,
          4,
          1,
          2,
          5,
          6,
          5,
          2,
          0,
          1,
          6,
          3
         ],
         "k": [
          0,
          7,
          2,
          3,
          6,
          7,
          1,
          1,
          5,
          5,
          7,
          6
         ],
         "name": "y",
         "showscale": false,
         "type": "mesh3d",
         "visible": false,
         "x": [
          -1.281712764111577,
          -1.281712764111577,
          -0.5976724774602395,
          -0.5976724774602395,
          0.5976724774602395,
          0.5976724774602395,
          1.281712764111577,
          1.281712764111577
         ],
         "y": [
          -1,
          1,
          1,
          -1,
          -1,
          1,
          1,
          -1
         ],
         "z": [
          0.5976724774602395,
          0.5976724774602395,
          -1.281712764111577,
          -1.281712764111577,
          1.281712764111577,
          1.281712764111577,
          -0.5976724774602395,
          -0.5976724774602395
         ]
        },
        {
         "colorscale": [
          [
           "0",
           "rgb(255,255,255)"
          ],
          [
           "0.5",
           "rgb(0,133,202) "
          ],
          [
           "1",
           "rgb(0,62,116)"
          ]
         ],
         "i": [
          7,
          0,
          0,
          0,
          4,
          4,
          6,
          6,
          4,
          0,
          3,
          2
         ],
         "intensity": [
          0,
          0.142857142857143,
          0.285714285714286,
          0.428571428571429,
          0.571428571428571,
          0.714285714285714,
          0.857142857142857,
          1
         ],
         "j": [
          3,
          4,
          1,
          2,
          5,
          6,
          5,
          2,
          0,
          1,
          6,
          3
         ],
         "k": [
          0,
          7,
          2,
          3,
          6,
          7,
          1,
          1,
          5,
          5,
          7,
          6
         ],
         "name": "y",
         "showscale": false,
         "type": "mesh3d",
         "visible": false,
         "x": [
          -1.1584559306791384,
          -1.1584559306791384,
          -0.8111595753452776,
          -0.8111595753452776,
          0.8111595753452776,
          0.8111595753452776,
          1.1584559306791384,
          1.1584559306791384
         ],
         "y": [
          -1,
          1,
          1,
          -1,
          -1,
          1,
          1,
          -1
         ],
         "z": [
          0.8111595753452776,
          0.8111595753452776,
          -1.1584559306791384,
          -1.1584559306791384,
          1.1584559306791384,
          1.1584559306791384,
          -0.8111595753452776,
          -0.8111595753452776
         ]
        },
        {
         "colorscale": [
          [
           "0",
           "rgb(255,255,255)"
          ],
          [
           "0.5",
           "rgb(0,133,202) "
          ],
          [
           "1",
           "rgb(0,62,116)"
          ]
         ],
         "i": [
          7,
          0,
          0,
          0,
          4,
          4,
          6,
          6,
          4,
          0,
          3,
          2
         ],
         "intensity": [
          0,
          0.142857142857143,
          0.285714285714286,
          0.428571428571429,
          0.571428571428571,
          0.714285714285714,
          0.857142857142857,
          1
         ],
         "j": [
          3,
          4,
          1,
          2,
          5,
          6,
          5,
          2,
          0,
          1,
          6,
          3
         ],
         "k": [
          0,
          7,
          2,
          3,
          6,
          7,
          1,
          1,
          5,
          5,
          7,
          6
         ],
         "name": "y",
         "showscale": false,
         "type": "mesh3d",
         "visible": false,
         "x": [
          -1,
          -1,
          -0.9999999999999999,
          -0.9999999999999999,
          0.9999999999999999,
          0.9999999999999999,
          1,
          1
         ],
         "y": [
          -1,
          1,
          1,
          -1,
          -1,
          1,
          1,
          -1
         ],
         "z": [
          0.9999999999999999,
          0.9999999999999999,
          -1,
          -1,
          1,
          1,
          -0.9999999999999999,
          -0.9999999999999999
         ]
        }
       ],
       "layout": {
        "font": {
         "family": "Comic Sans MS"
        },
        "height": 600,
        "plot_bgcolor": "rgb(255, 255, 255)",
        "scene": {
         "aspectmode": "cube",
         "camera": {
          "center": {
           "x": 0,
           "y": 0,
           "z": 0
          },
          "eye": {
           "x": 1,
           "y": -1,
           "z": 1
          }
         },
         "xaxis": {
          "autorange": false,
          "range": [
           -5,
           5
          ],
          "zeroline": true
         },
         "yaxis": {
          "autorange": false,
          "range": [
           -5,
           5
          ],
          "zeroline": true
         },
         "zaxis": {
          "autorange": false,
          "range": [
           -5,
           5
          ],
          "zeroline": true
         }
        },
        "sliders": [
         {
          "active": 10,
          "pad": {
           "t": 50
          },
          "steps": [
           {
            "args": [
             "visible",
             [
              true,
              false,
              false,
              false,
              false,
              false,
              false,
              false,
              false,
              false,
              false,
              false,
              false,
              false,
              false,
              false,
              false,
              false,
              false,
              false
             ]
            ],
            "method": "restyle"
           },
           {
            "args": [
             "visible",
             [
              false,
              true,
              false,
              false,
              false,
              false,
              false,
              false,
              false,
              false,
              false,
              false,
              false,
              false,
              false,
              false,
              false,
              false,
              false,
              false
             ]
            ],
            "method": "restyle"
           },
           {
            "args": [
             "visible",
             [
              false,
              false,
              true,
              false,
              false,
              false,
              false,
              false,
              false,
              false,
              false,
              false,
              false,
              false,
              false,
              false,
              false,
              false,
              false,
              false
             ]
            ],
            "method": "restyle"
           },
           {
            "args": [
             "visible",
             [
              false,
              false,
              false,
              true,
              false,
              false,
              false,
              false,
              false,
              false,
              false,
              false,
              false,
              false,
              false,
              false,
              false,
              false,
              false,
              false
             ]
            ],
            "method": "restyle"
           },
           {
            "args": [
             "visible",
             [
              false,
              false,
              false,
              false,
              true,
              false,
              false,
              false,
              false,
              false,
              false,
              false,
              false,
              false,
              false,
              false,
              false,
              false,
              false,
              false
             ]
            ],
            "method": "restyle"
           },
           {
            "args": [
             "visible",
             [
              false,
              false,
              false,
              false,
              false,
              true,
              false,
              false,
              false,
              false,
              false,
              false,
              false,
              false,
              false,
              false,
              false,
              false,
              false,
              false
             ]
            ],
            "method": "restyle"
           },
           {
            "args": [
             "visible",
             [
              false,
              false,
              false,
              false,
              false,
              false,
              true,
              false,
              false,
              false,
              false,
              false,
              false,
              false,
              false,
              false,
              false,
              false,
              false,
              false
             ]
            ],
            "method": "restyle"
           },
           {
            "args": [
             "visible",
             [
              false,
              false,
              false,
              false,
              false,
              false,
              false,
              true,
              false,
              false,
              false,
              false,
              false,
              false,
              false,
              false,
              false,
              false,
              false,
              false
             ]
            ],
            "method": "restyle"
           },
           {
            "args": [
             "visible",
             [
              false,
              false,
              false,
              false,
              false,
              false,
              false,
              false,
              true,
              false,
              false,
              false,
              false,
              false,
              false,
              false,
              false,
              false,
              false,
              false
             ]
            ],
            "method": "restyle"
           },
           {
            "args": [
             "visible",
             [
              false,
              false,
              false,
              false,
              false,
              false,
              false,
              false,
              false,
              true,
              false,
              false,
              false,
              false,
              false,
              false,
              false,
              false,
              false,
              false
             ]
            ],
            "method": "restyle"
           },
           {
            "args": [
             "visible",
             [
              false,
              false,
              false,
              false,
              false,
              false,
              false,
              false,
              false,
              false,
              true,
              false,
              false,
              false,
              false,
              false,
              false,
              false,
              false,
              false
             ]
            ],
            "method": "restyle"
           },
           {
            "args": [
             "visible",
             [
              false,
              false,
              false,
              false,
              false,
              false,
              false,
              false,
              false,
              false,
              false,
              true,
              false,
              false,
              false,
              false,
              false,
              false,
              false,
              false
             ]
            ],
            "method": "restyle"
           },
           {
            "args": [
             "visible",
             [
              false,
              false,
              false,
              false,
              false,
              false,
              false,
              false,
              false,
              false,
              false,
              false,
              true,
              false,
              false,
              false,
              false,
              false,
              false,
              false
             ]
            ],
            "method": "restyle"
           },
           {
            "args": [
             "visible",
             [
              false,
              false,
              false,
              false,
              false,
              false,
              false,
              false,
              false,
              false,
              false,
              false,
              false,
              true,
              false,
              false,
              false,
              false,
              false,
              false
             ]
            ],
            "method": "restyle"
           },
           {
            "args": [
             "visible",
             [
              false,
              false,
              false,
              false,
              false,
              false,
              false,
              false,
              false,
              false,
              false,
              false,
              false,
              false,
              true,
              false,
              false,
              false,
              false,
              false
             ]
            ],
            "method": "restyle"
           },
           {
            "args": [
             "visible",
             [
              false,
              false,
              false,
              false,
              false,
              false,
              false,
              false,
              false,
              false,
              false,
              false,
              false,
              false,
              false,
              true,
              false,
              false,
              false,
              false
             ]
            ],
            "method": "restyle"
           },
           {
            "args": [
             "visible",
             [
              false,
              false,
              false,
              false,
              false,
              false,
              false,
              false,
              false,
              false,
              false,
              false,
              false,
              false,
              false,
              false,
              true,
              false,
              false,
              false
             ]
            ],
            "method": "restyle"
           },
           {
            "args": [
             "visible",
             [
              false,
              false,
              false,
              false,
              false,
              false,
              false,
              false,
              false,
              false,
              false,
              false,
              false,
              false,
              false,
              false,
              false,
              true,
              false,
              false
             ]
            ],
            "method": "restyle"
           },
           {
            "args": [
             "visible",
             [
              false,
              false,
              false,
              false,
              false,
              false,
              false,
              false,
              false,
              false,
              false,
              false,
              false,
              false,
              false,
              false,
              false,
              false,
              true,
              false
             ]
            ],
            "method": "restyle"
           },
           {
            "args": [
             "visible",
             [
              false,
              false,
              false,
              false,
              false,
              false,
              false,
              false,
              false,
              false,
              false,
              false,
              false,
              false,
              false,
              false,
              false,
              false,
              false,
              true
             ]
            ],
            "method": "restyle"
           }
          ]
         }
        ],
        "title": "3D Transformation",
        "width": 600
       }
      },
      "text/html": [
       "<div id=\"5b2faeba-3106-4b7c-a698-5029ec5ac4cf\" style=\"height: 600px; width: 600px;\" class=\"plotly-graph-div\"></div><script type=\"text/javascript\">require([\"plotly\"], function(Plotly) { window.PLOTLYENV=window.PLOTLYENV || {};window.PLOTLYENV.BASE_URL=\"https://plot.ly\";Plotly.newPlot(\"5b2faeba-3106-4b7c-a698-5029ec5ac4cf\", [{\"type\": \"mesh3d\", \"x\": [-1.0, -1.0, 1.0, 1.0, -1.0, -1.0, 1.0, 1.0], \"y\": [-1.0, 1.0, 1.0, -1.0, -1.0, 1.0, 1.0, -1.0], \"z\": [-1.0, -1.0, -1.0, -1.0, 1.0, 1.0, 1.0, 1.0], \"colorscale\": [[\"0\", \"rgb(255,255,255)\"], [\"0.5\", \"rgb(0,133,202) \"], [\"1\", \"rgb(0,62,116)\"]], \"intensity\": [0, 0.142857142857143, 0.285714285714286, 0.428571428571429, 0.571428571428571, 0.714285714285714, 0.857142857142857, 1], \"i\": [7, 0, 0, 0, 4, 4, 6, 6, 4, 0, 3, 2], \"j\": [3, 4, 1, 2, 5, 6, 5, 2, 0, 1, 6, 3], \"k\": [0, 7, 2, 3, 6, 7, 1, 1, 5, 5, 7, 6], \"name\": \"y\", \"showscale\": false, \"visible\": false}, {\"type\": \"mesh3d\", \"x\": [-1.0, -1.0, 1.0, 1.0, -1.0, -1.0, 1.0, 1.0], \"y\": [-0.8111595753452777, 1.1584559306791384, 1.1584559306791384, -0.8111595753452777, -1.1584559306791384, 0.8111595753452777, 0.8111595753452777, -1.1584559306791384], \"z\": [-1.1584559306791384, -0.8111595753452777, -0.8111595753452777, -1.1584559306791384, 0.8111595753452777, 1.1584559306791384, 1.1584559306791384, 0.8111595753452777], \"colorscale\": [[\"0\", \"rgb(255,255,255)\"], [\"0.5\", \"rgb(0,133,202) \"], [\"1\", \"rgb(0,62,116)\"]], \"intensity\": [0, 0.142857142857143, 0.285714285714286, 0.428571428571429, 0.571428571428571, 0.714285714285714, 0.857142857142857, 1], \"i\": [7, 0, 0, 0, 4, 4, 6, 6, 4, 0, 3, 2], \"j\": [3, 4, 1, 2, 5, 6, 5, 2, 0, 1, 6, 3], \"k\": [0, 7, 2, 3, 6, 7, 1, 1, 5, 5, 7, 6], \"name\": \"y\", \"showscale\": false, \"visible\": false}, {\"type\": \"mesh3d\", \"x\": [-1.0, -1.0, 1.0, 1.0, -1.0, -1.0, 1.0, 1.0], \"y\": [-0.5976724774602398, 1.281712764111577, 1.281712764111577, -0.5976724774602398, -1.281712764111577, 0.5976724774602398, 0.5976724774602398, -1.281712764111577], \"z\": [-1.281712764111577, -0.5976724774602398, -0.5976724774602398, -1.281712764111577, 0.5976724774602398, 1.281712764111577, 1.281712764111577, 0.5976724774602398], \"colorscale\": [[\"0\", \"rgb(255,255,255)\"], [\"0.5\", \"rgb(0,133,202) \"], [\"1\", \"rgb(0,62,116)\"]], \"intensity\": [0, 0.142857142857143, 0.285714285714286, 0.428571428571429, 0.571428571428571, 0.714285714285714, 0.857142857142857, 1], \"i\": [7, 0, 0, 0, 4, 4, 6, 6, 4, 0, 3, 2], \"j\": [3, 4, 1, 2, 5, 6, 5, 2, 0, 1, 6, 3], \"k\": [0, 7, 2, 3, 6, 7, 1, 1, 5, 5, 7, 6], \"name\": \"y\", \"showscale\": false, \"visible\": false}, {\"type\": \"mesh3d\", \"x\": [-1.0, -1.0, 1.0, 1.0, -1.0, -1.0, 1.0, 1.0], \"y\": [-0.36602540378443876, 1.3660254037844386, 1.3660254037844386, -0.36602540378443876, -1.3660254037844386, 0.36602540378443876, 0.36602540378443876, -1.3660254037844386], \"z\": [-1.3660254037844386, -0.36602540378443876, -0.36602540378443876, -1.3660254037844386, 0.36602540378443876, 1.3660254037844386, 1.3660254037844386, 0.36602540378443876], \"colorscale\": [[\"0\", \"rgb(255,255,255)\"], [\"0.5\", \"rgb(0,133,202) \"], [\"1\", \"rgb(0,62,116)\"]], \"intensity\": [0, 0.142857142857143, 0.285714285714286, 0.428571428571429, 0.571428571428571, 0.714285714285714, 0.857142857142857, 1], \"i\": [7, 0, 0, 0, 4, 4, 6, 6, 4, 0, 3, 2], \"j\": [3, 4, 1, 2, 5, 6, 5, 2, 0, 1, 6, 3], \"k\": [0, 7, 2, 3, 6, 7, 1, 1, 5, 5, 7, 6], \"name\": \"y\", \"showscale\": false, \"visible\": false}, {\"type\": \"mesh3d\", \"x\": [-1.0, -1.0, 1.0, 1.0, -1.0, -1.0, 1.0, 1.0], \"y\": [-0.12325683343243887, 1.4088320528055174, 1.4088320528055174, -0.12325683343243887, -1.4088320528055174, 0.12325683343243887, 0.12325683343243887, -1.4088320528055174], \"z\": [-1.4088320528055174, -0.12325683343243887, -0.12325683343243887, -1.4088320528055174, 0.12325683343243887, 1.4088320528055174, 1.4088320528055174, 0.12325683343243887], \"colorscale\": [[\"0\", \"rgb(255,255,255)\"], [\"0.5\", \"rgb(0,133,202) \"], [\"1\", \"rgb(0,62,116)\"]], \"intensity\": [0, 0.142857142857143, 0.285714285714286, 0.428571428571429, 0.571428571428571, 0.714285714285714, 0.857142857142857, 1], \"i\": [7, 0, 0, 0, 4, 4, 6, 6, 4, 0, 3, 2], \"j\": [3, 4, 1, 2, 5, 6, 5, 2, 0, 1, 6, 3], \"k\": [0, 7, 2, 3, 6, 7, 1, 1, 5, 5, 7, 6], \"name\": \"y\", \"showscale\": false, \"visible\": false}, {\"type\": \"mesh3d\", \"x\": [-1.0, -1.0, 1.0, 1.0, -1.0, -1.0, 1.0, 1.0], \"y\": [0.12325683343243865, 1.4088320528055174, 1.4088320528055174, 0.12325683343243865, -1.4088320528055174, -0.12325683343243865, -0.12325683343243865, -1.4088320528055174], \"z\": [-1.4088320528055174, 0.12325683343243865, 0.12325683343243865, -1.4088320528055174, -0.12325683343243865, 1.4088320528055174, 1.4088320528055174, -0.12325683343243865], \"colorscale\": [[\"0\", \"rgb(255,255,255)\"], [\"0.5\", \"rgb(0,133,202) \"], [\"1\", \"rgb(0,62,116)\"]], \"intensity\": [0, 0.142857142857143, 0.285714285714286, 0.428571428571429, 0.571428571428571, 0.714285714285714, 0.857142857142857, 1], \"i\": [7, 0, 0, 0, 4, 4, 6, 6, 4, 0, 3, 2], \"j\": [3, 4, 1, 2, 5, 6, 5, 2, 0, 1, 6, 3], \"k\": [0, 7, 2, 3, 6, 7, 1, 1, 5, 5, 7, 6], \"name\": \"y\", \"showscale\": false, \"visible\": false}, {\"type\": \"mesh3d\", \"x\": [-1.0, -1.0, 1.0, 1.0, -1.0, -1.0, 1.0, 1.0], \"y\": [0.3660254037844385, 1.3660254037844388, 1.3660254037844388, 0.3660254037844385, -1.3660254037844388, -0.3660254037844385, -0.3660254037844385, -1.3660254037844388], \"z\": [-1.3660254037844388, 0.3660254037844385, 0.3660254037844385, -1.3660254037844388, -0.3660254037844385, 1.3660254037844388, 1.3660254037844388, -0.3660254037844385], \"colorscale\": [[\"0\", \"rgb(255,255,255)\"], [\"0.5\", \"rgb(0,133,202) \"], [\"1\", \"rgb(0,62,116)\"]], \"intensity\": [0, 0.142857142857143, 0.285714285714286, 0.428571428571429, 0.571428571428571, 0.714285714285714, 0.857142857142857, 1], \"i\": [7, 0, 0, 0, 4, 4, 6, 6, 4, 0, 3, 2], \"j\": [3, 4, 1, 2, 5, 6, 5, 2, 0, 1, 6, 3], \"k\": [0, 7, 2, 3, 6, 7, 1, 1, 5, 5, 7, 6], \"name\": \"y\", \"showscale\": false, \"visible\": false}, {\"type\": \"mesh3d\", \"x\": [-1.0, -1.0, 1.0, 1.0, -1.0, -1.0, 1.0, 1.0], \"y\": [0.5976724774602395, 1.281712764111577, 1.281712764111577, 0.5976724774602395, -1.281712764111577, -0.5976724774602395, -0.5976724774602395, -1.281712764111577], \"z\": [-1.281712764111577, 0.5976724774602395, 0.5976724774602395, -1.281712764111577, -0.5976724774602395, 1.281712764111577, 1.281712764111577, -0.5976724774602395], \"colorscale\": [[\"0\", \"rgb(255,255,255)\"], [\"0.5\", \"rgb(0,133,202) \"], [\"1\", \"rgb(0,62,116)\"]], \"intensity\": [0, 0.142857142857143, 0.285714285714286, 0.428571428571429, 0.571428571428571, 0.714285714285714, 0.857142857142857, 1], \"i\": [7, 0, 0, 0, 4, 4, 6, 6, 4, 0, 3, 2], \"j\": [3, 4, 1, 2, 5, 6, 5, 2, 0, 1, 6, 3], \"k\": [0, 7, 2, 3, 6, 7, 1, 1, 5, 5, 7, 6], \"name\": \"y\", \"showscale\": false, \"visible\": false}, {\"type\": \"mesh3d\", \"x\": [-1.0, -1.0, 1.0, 1.0, -1.0, -1.0, 1.0, 1.0], \"y\": [0.8111595753452776, 1.1584559306791384, 1.1584559306791384, 0.8111595753452776, -1.1584559306791384, -0.8111595753452776, -0.8111595753452776, -1.1584559306791384], \"z\": [-1.1584559306791384, 0.8111595753452776, 0.8111595753452776, -1.1584559306791384, -0.8111595753452776, 1.1584559306791384, 1.1584559306791384, -0.8111595753452776], \"colorscale\": [[\"0\", \"rgb(255,255,255)\"], [\"0.5\", \"rgb(0,133,202) \"], [\"1\", \"rgb(0,62,116)\"]], \"intensity\": [0, 0.142857142857143, 0.285714285714286, 0.428571428571429, 0.571428571428571, 0.714285714285714, 0.857142857142857, 1], \"i\": [7, 0, 0, 0, 4, 4, 6, 6, 4, 0, 3, 2], \"j\": [3, 4, 1, 2, 5, 6, 5, 2, 0, 1, 6, 3], \"k\": [0, 7, 2, 3, 6, 7, 1, 1, 5, 5, 7, 6], \"name\": \"y\", \"showscale\": false, \"visible\": false}, {\"type\": \"mesh3d\", \"x\": [-1.0, -1.0, 1.0, 1.0, -1.0, -1.0, 1.0, 1.0], \"y\": [0.9999999999999999, 1.0, 1.0, 0.9999999999999999, -1.0, -0.9999999999999999, -0.9999999999999999, -1.0], \"z\": [-1.0, 0.9999999999999999, 0.9999999999999999, -1.0, -0.9999999999999999, 1.0, 1.0, -0.9999999999999999], \"colorscale\": [[\"0\", \"rgb(255,255,255)\"], [\"0.5\", \"rgb(0,133,202) \"], [\"1\", \"rgb(0,62,116)\"]], \"intensity\": [0, 0.142857142857143, 0.285714285714286, 0.428571428571429, 0.571428571428571, 0.714285714285714, 0.857142857142857, 1], \"i\": [7, 0, 0, 0, 4, 4, 6, 6, 4, 0, 3, 2], \"j\": [3, 4, 1, 2, 5, 6, 5, 2, 0, 1, 6, 3], \"k\": [0, 7, 2, 3, 6, 7, 1, 1, 5, 5, 7, 6], \"name\": \"y\", \"showscale\": false, \"visible\": false}, {\"type\": \"mesh3d\", \"x\": [-1.0, -1.0, 1.0, 1.0, -1.0, -1.0, 1.0, 1.0], \"y\": [-1.0, 1.0, 1.0, -1.0, -1.0, 1.0, 1.0, -1.0], \"z\": [-1.0, -1.0, -1.0, -1.0, 1.0, 1.0, 1.0, 1.0], \"colorscale\": [[\"0\", \"rgb(255,255,255)\"], [\"0.5\", \"rgb(0,133,202) \"], [\"1\", \"rgb(0,62,116)\"]], \"intensity\": [0, 0.142857142857143, 0.285714285714286, 0.428571428571429, 0.571428571428571, 0.714285714285714, 0.857142857142857, 1], \"i\": [7, 0, 0, 0, 4, 4, 6, 6, 4, 0, 3, 2], \"j\": [3, 4, 1, 2, 5, 6, 5, 2, 0, 1, 6, 3], \"k\": [0, 7, 2, 3, 6, 7, 1, 1, 5, 5, 7, 6], \"name\": \"y\", \"showscale\": false, \"visible\": false}, {\"type\": \"mesh3d\", \"x\": [-1.1584559306791384, -1.1584559306791384, 0.8111595753452777, 0.8111595753452777, -0.8111595753452777, -0.8111595753452777, 1.1584559306791384, 1.1584559306791384], \"y\": [-1.0, 1.0, 1.0, -1.0, -1.0, 1.0, 1.0, -1.0], \"z\": [-0.8111595753452777, -0.8111595753452777, -1.1584559306791384, -1.1584559306791384, 1.1584559306791384, 1.1584559306791384, 0.8111595753452777, 0.8111595753452777], \"colorscale\": [[\"0\", \"rgb(255,255,255)\"], [\"0.5\", \"rgb(0,133,202) \"], [\"1\", \"rgb(0,62,116)\"]], \"intensity\": [0, 0.142857142857143, 0.285714285714286, 0.428571428571429, 0.571428571428571, 0.714285714285714, 0.857142857142857, 1], \"i\": [7, 0, 0, 0, 4, 4, 6, 6, 4, 0, 3, 2], \"j\": [3, 4, 1, 2, 5, 6, 5, 2, 0, 1, 6, 3], \"k\": [0, 7, 2, 3, 6, 7, 1, 1, 5, 5, 7, 6], \"name\": \"y\", \"showscale\": false, \"visible\": false}, {\"type\": \"mesh3d\", \"x\": [-1.281712764111577, -1.281712764111577, 0.5976724774602398, 0.5976724774602398, -0.5976724774602398, -0.5976724774602398, 1.281712764111577, 1.281712764111577], \"y\": [-1.0, 1.0, 1.0, -1.0, -1.0, 1.0, 1.0, -1.0], \"z\": [-0.5976724774602398, -0.5976724774602398, -1.281712764111577, -1.281712764111577, 1.281712764111577, 1.281712764111577, 0.5976724774602398, 0.5976724774602398], \"colorscale\": [[\"0\", \"rgb(255,255,255)\"], [\"0.5\", \"rgb(0,133,202) \"], [\"1\", \"rgb(0,62,116)\"]], \"intensity\": [0, 0.142857142857143, 0.285714285714286, 0.428571428571429, 0.571428571428571, 0.714285714285714, 0.857142857142857, 1], \"i\": [7, 0, 0, 0, 4, 4, 6, 6, 4, 0, 3, 2], \"j\": [3, 4, 1, 2, 5, 6, 5, 2, 0, 1, 6, 3], \"k\": [0, 7, 2, 3, 6, 7, 1, 1, 5, 5, 7, 6], \"name\": \"y\", \"showscale\": false, \"visible\": false}, {\"type\": \"mesh3d\", \"x\": [-1.3660254037844386, -1.3660254037844386, 0.36602540378443876, 0.36602540378443876, -0.36602540378443876, -0.36602540378443876, 1.3660254037844386, 1.3660254037844386], \"y\": [-1.0, 1.0, 1.0, -1.0, -1.0, 1.0, 1.0, -1.0], \"z\": [-0.36602540378443876, -0.36602540378443876, -1.3660254037844386, -1.3660254037844386, 1.3660254037844386, 1.3660254037844386, 0.36602540378443876, 0.36602540378443876], \"colorscale\": [[\"0\", \"rgb(255,255,255)\"], [\"0.5\", \"rgb(0,133,202) \"], [\"1\", \"rgb(0,62,116)\"]], \"intensity\": [0, 0.142857142857143, 0.285714285714286, 0.428571428571429, 0.571428571428571, 0.714285714285714, 0.857142857142857, 1], \"i\": [7, 0, 0, 0, 4, 4, 6, 6, 4, 0, 3, 2], \"j\": [3, 4, 1, 2, 5, 6, 5, 2, 0, 1, 6, 3], \"k\": [0, 7, 2, 3, 6, 7, 1, 1, 5, 5, 7, 6], \"name\": \"y\", \"showscale\": false, \"visible\": false}, {\"type\": \"mesh3d\", \"x\": [-1.4088320528055174, -1.4088320528055174, 0.12325683343243887, 0.12325683343243887, -0.12325683343243887, -0.12325683343243887, 1.4088320528055174, 1.4088320528055174], \"y\": [-1.0, 1.0, 1.0, -1.0, -1.0, 1.0, 1.0, -1.0], \"z\": [-0.12325683343243887, -0.12325683343243887, -1.4088320528055174, -1.4088320528055174, 1.4088320528055174, 1.4088320528055174, 0.12325683343243887, 0.12325683343243887], \"colorscale\": [[\"0\", \"rgb(255,255,255)\"], [\"0.5\", \"rgb(0,133,202) \"], [\"1\", \"rgb(0,62,116)\"]], \"intensity\": [0, 0.142857142857143, 0.285714285714286, 0.428571428571429, 0.571428571428571, 0.714285714285714, 0.857142857142857, 1], \"i\": [7, 0, 0, 0, 4, 4, 6, 6, 4, 0, 3, 2], \"j\": [3, 4, 1, 2, 5, 6, 5, 2, 0, 1, 6, 3], \"k\": [0, 7, 2, 3, 6, 7, 1, 1, 5, 5, 7, 6], \"name\": \"y\", \"showscale\": false, \"visible\": false}, {\"type\": \"mesh3d\", \"x\": [-1.4088320528055174, -1.4088320528055174, -0.12325683343243865, -0.12325683343243865, 0.12325683343243865, 0.12325683343243865, 1.4088320528055174, 1.4088320528055174], \"y\": [-1.0, 1.0, 1.0, -1.0, -1.0, 1.0, 1.0, -1.0], \"z\": [0.12325683343243865, 0.12325683343243865, -1.4088320528055174, -1.4088320528055174, 1.4088320528055174, 1.4088320528055174, -0.12325683343243865, -0.12325683343243865], \"colorscale\": [[\"0\", \"rgb(255,255,255)\"], [\"0.5\", \"rgb(0,133,202) \"], [\"1\", \"rgb(0,62,116)\"]], \"intensity\": [0, 0.142857142857143, 0.285714285714286, 0.428571428571429, 0.571428571428571, 0.714285714285714, 0.857142857142857, 1], \"i\": [7, 0, 0, 0, 4, 4, 6, 6, 4, 0, 3, 2], \"j\": [3, 4, 1, 2, 5, 6, 5, 2, 0, 1, 6, 3], \"k\": [0, 7, 2, 3, 6, 7, 1, 1, 5, 5, 7, 6], \"name\": \"y\", \"showscale\": false, \"visible\": false}, {\"type\": \"mesh3d\", \"x\": [-1.3660254037844388, -1.3660254037844388, -0.3660254037844385, -0.3660254037844385, 0.3660254037844385, 0.3660254037844385, 1.3660254037844388, 1.3660254037844388], \"y\": [-1.0, 1.0, 1.0, -1.0, -1.0, 1.0, 1.0, -1.0], \"z\": [0.3660254037844385, 0.3660254037844385, -1.3660254037844388, -1.3660254037844388, 1.3660254037844388, 1.3660254037844388, -0.3660254037844385, -0.3660254037844385], \"colorscale\": [[\"0\", \"rgb(255,255,255)\"], [\"0.5\", \"rgb(0,133,202) \"], [\"1\", \"rgb(0,62,116)\"]], \"intensity\": [0, 0.142857142857143, 0.285714285714286, 0.428571428571429, 0.571428571428571, 0.714285714285714, 0.857142857142857, 1], \"i\": [7, 0, 0, 0, 4, 4, 6, 6, 4, 0, 3, 2], \"j\": [3, 4, 1, 2, 5, 6, 5, 2, 0, 1, 6, 3], \"k\": [0, 7, 2, 3, 6, 7, 1, 1, 5, 5, 7, 6], \"name\": \"y\", \"showscale\": false, \"visible\": false}, {\"type\": \"mesh3d\", \"x\": [-1.281712764111577, -1.281712764111577, -0.5976724774602395, -0.5976724774602395, 0.5976724774602395, 0.5976724774602395, 1.281712764111577, 1.281712764111577], \"y\": [-1.0, 1.0, 1.0, -1.0, -1.0, 1.0, 1.0, -1.0], \"z\": [0.5976724774602395, 0.5976724774602395, -1.281712764111577, -1.281712764111577, 1.281712764111577, 1.281712764111577, -0.5976724774602395, -0.5976724774602395], \"colorscale\": [[\"0\", \"rgb(255,255,255)\"], [\"0.5\", \"rgb(0,133,202) \"], [\"1\", \"rgb(0,62,116)\"]], \"intensity\": [0, 0.142857142857143, 0.285714285714286, 0.428571428571429, 0.571428571428571, 0.714285714285714, 0.857142857142857, 1], \"i\": [7, 0, 0, 0, 4, 4, 6, 6, 4, 0, 3, 2], \"j\": [3, 4, 1, 2, 5, 6, 5, 2, 0, 1, 6, 3], \"k\": [0, 7, 2, 3, 6, 7, 1, 1, 5, 5, 7, 6], \"name\": \"y\", \"showscale\": false, \"visible\": false}, {\"type\": \"mesh3d\", \"x\": [-1.1584559306791384, -1.1584559306791384, -0.8111595753452776, -0.8111595753452776, 0.8111595753452776, 0.8111595753452776, 1.1584559306791384, 1.1584559306791384], \"y\": [-1.0, 1.0, 1.0, -1.0, -1.0, 1.0, 1.0, -1.0], \"z\": [0.8111595753452776, 0.8111595753452776, -1.1584559306791384, -1.1584559306791384, 1.1584559306791384, 1.1584559306791384, -0.8111595753452776, -0.8111595753452776], \"colorscale\": [[\"0\", \"rgb(255,255,255)\"], [\"0.5\", \"rgb(0,133,202) \"], [\"1\", \"rgb(0,62,116)\"]], \"intensity\": [0, 0.142857142857143, 0.285714285714286, 0.428571428571429, 0.571428571428571, 0.714285714285714, 0.857142857142857, 1], \"i\": [7, 0, 0, 0, 4, 4, 6, 6, 4, 0, 3, 2], \"j\": [3, 4, 1, 2, 5, 6, 5, 2, 0, 1, 6, 3], \"k\": [0, 7, 2, 3, 6, 7, 1, 1, 5, 5, 7, 6], \"name\": \"y\", \"showscale\": false, \"visible\": false}, {\"type\": \"mesh3d\", \"x\": [-1.0, -1.0, -0.9999999999999999, -0.9999999999999999, 0.9999999999999999, 0.9999999999999999, 1.0, 1.0], \"y\": [-1.0, 1.0, 1.0, -1.0, -1.0, 1.0, 1.0, -1.0], \"z\": [0.9999999999999999, 0.9999999999999999, -1.0, -1.0, 1.0, 1.0, -0.9999999999999999, -0.9999999999999999], \"colorscale\": [[\"0\", \"rgb(255,255,255)\"], [\"0.5\", \"rgb(0,133,202) \"], [\"1\", \"rgb(0,62,116)\"]], \"intensity\": [0, 0.142857142857143, 0.285714285714286, 0.428571428571429, 0.571428571428571, 0.714285714285714, 0.857142857142857, 1], \"i\": [7, 0, 0, 0, 4, 4, 6, 6, 4, 0, 3, 2], \"j\": [3, 4, 1, 2, 5, 6, 5, 2, 0, 1, 6, 3], \"k\": [0, 7, 2, 3, 6, 7, 1, 1, 5, 5, 7, 6], \"name\": \"y\", \"showscale\": false, \"visible\": false}], {\"sliders\": [{\"active\": 10, \"pad\": {\"t\": 50}, \"steps\": [{\"method\": \"restyle\", \"args\": [\"visible\", [true, false, false, false, false, false, false, false, false, false, false, false, false, false, false, false, false, false, false, false]]}, {\"method\": \"restyle\", \"args\": [\"visible\", [false, true, false, false, false, false, false, false, false, false, false, false, false, false, false, false, false, false, false, false]]}, {\"method\": \"restyle\", \"args\": [\"visible\", [false, false, true, false, false, false, false, false, false, false, false, false, false, false, false, false, false, false, false, false]]}, {\"method\": \"restyle\", \"args\": [\"visible\", [false, false, false, true, false, false, false, false, false, false, false, false, false, false, false, false, false, false, false, false]]}, {\"method\": \"restyle\", \"args\": [\"visible\", [false, false, false, false, true, false, false, false, false, false, false, false, false, false, false, false, false, false, false, false]]}, {\"method\": \"restyle\", \"args\": [\"visible\", [false, false, false, false, false, true, false, false, false, false, false, false, false, false, false, false, false, false, false, false]]}, {\"method\": \"restyle\", \"args\": [\"visible\", [false, false, false, false, false, false, true, false, false, false, false, false, false, false, false, false, false, false, false, false]]}, {\"method\": \"restyle\", \"args\": [\"visible\", [false, false, false, false, false, false, false, true, false, false, false, false, false, false, false, false, false, false, false, false]]}, {\"method\": \"restyle\", \"args\": [\"visible\", [false, false, false, false, false, false, false, false, true, false, false, false, false, false, false, false, false, false, false, false]]}, {\"method\": \"restyle\", \"args\": [\"visible\", [false, false, false, false, false, false, false, false, false, true, false, false, false, false, false, false, false, false, false, false]]}, {\"method\": \"restyle\", \"args\": [\"visible\", [false, false, false, false, false, false, false, false, false, false, true, false, false, false, false, false, false, false, false, false]]}, {\"method\": \"restyle\", \"args\": [\"visible\", [false, false, false, false, false, false, false, false, false, false, false, true, false, false, false, false, false, false, false, false]]}, {\"method\": \"restyle\", \"args\": [\"visible\", [false, false, false, false, false, false, false, false, false, false, false, false, true, false, false, false, false, false, false, false]]}, {\"method\": \"restyle\", \"args\": [\"visible\", [false, false, false, false, false, false, false, false, false, false, false, false, false, true, false, false, false, false, false, false]]}, {\"method\": \"restyle\", \"args\": [\"visible\", [false, false, false, false, false, false, false, false, false, false, false, false, false, false, true, false, false, false, false, false]]}, {\"method\": \"restyle\", \"args\": [\"visible\", [false, false, false, false, false, false, false, false, false, false, false, false, false, false, false, true, false, false, false, false]]}, {\"method\": \"restyle\", \"args\": [\"visible\", [false, false, false, false, false, false, false, false, false, false, false, false, false, false, false, false, true, false, false, false]]}, {\"method\": \"restyle\", \"args\": [\"visible\", [false, false, false, false, false, false, false, false, false, false, false, false, false, false, false, false, false, true, false, false]]}, {\"method\": \"restyle\", \"args\": [\"visible\", [false, false, false, false, false, false, false, false, false, false, false, false, false, false, false, false, false, false, true, false]]}, {\"method\": \"restyle\", \"args\": [\"visible\", [false, false, false, false, false, false, false, false, false, false, false, false, false, false, false, false, false, false, false, true]]}]}], \"width\": 600, \"height\": 600, \"title\": \"3D Transformation\", \"font\": {\"family\": \"Comic Sans MS\"}, \"scene\": {\"xaxis\": {\"range\": [-5, 5], \"autorange\": false, \"zeroline\": true}, \"yaxis\": {\"range\": [-5, 5], \"autorange\": false, \"zeroline\": true}, \"zaxis\": {\"range\": [-5, 5], \"autorange\": false, \"zeroline\": true}, \"aspectmode\": \"cube\", \"camera\": {\"center\": {\"x\": 0, \"y\": 0, \"z\": 0}, \"eye\": {\"x\": 1, \"y\": -1, \"z\": 1}}}, \"plot_bgcolor\": \"rgb(255, 255, 255)\"}, {\"showLink\": true, \"linkText\": \"Export to plot.ly\"})});</script>"
      ],
      "text/vnd.plotly.v1+html": [
       "<div id=\"5b2faeba-3106-4b7c-a698-5029ec5ac4cf\" style=\"height: 600px; width: 600px;\" class=\"plotly-graph-div\"></div><script type=\"text/javascript\">require([\"plotly\"], function(Plotly) { window.PLOTLYENV=window.PLOTLYENV || {};window.PLOTLYENV.BASE_URL=\"https://plot.ly\";Plotly.newPlot(\"5b2faeba-3106-4b7c-a698-5029ec5ac4cf\", [{\"type\": \"mesh3d\", \"x\": [-1.0, -1.0, 1.0, 1.0, -1.0, -1.0, 1.0, 1.0], \"y\": [-1.0, 1.0, 1.0, -1.0, -1.0, 1.0, 1.0, -1.0], \"z\": [-1.0, -1.0, -1.0, -1.0, 1.0, 1.0, 1.0, 1.0], \"colorscale\": [[\"0\", \"rgb(255,255,255)\"], [\"0.5\", \"rgb(0,133,202) \"], [\"1\", \"rgb(0,62,116)\"]], \"intensity\": [0, 0.142857142857143, 0.285714285714286, 0.428571428571429, 0.571428571428571, 0.714285714285714, 0.857142857142857, 1], \"i\": [7, 0, 0, 0, 4, 4, 6, 6, 4, 0, 3, 2], \"j\": [3, 4, 1, 2, 5, 6, 5, 2, 0, 1, 6, 3], \"k\": [0, 7, 2, 3, 6, 7, 1, 1, 5, 5, 7, 6], \"name\": \"y\", \"showscale\": false, \"visible\": false}, {\"type\": \"mesh3d\", \"x\": [-1.0, -1.0, 1.0, 1.0, -1.0, -1.0, 1.0, 1.0], \"y\": [-0.8111595753452777, 1.1584559306791384, 1.1584559306791384, -0.8111595753452777, -1.1584559306791384, 0.8111595753452777, 0.8111595753452777, -1.1584559306791384], \"z\": [-1.1584559306791384, -0.8111595753452777, -0.8111595753452777, -1.1584559306791384, 0.8111595753452777, 1.1584559306791384, 1.1584559306791384, 0.8111595753452777], \"colorscale\": [[\"0\", \"rgb(255,255,255)\"], [\"0.5\", \"rgb(0,133,202) \"], [\"1\", \"rgb(0,62,116)\"]], \"intensity\": [0, 0.142857142857143, 0.285714285714286, 0.428571428571429, 0.571428571428571, 0.714285714285714, 0.857142857142857, 1], \"i\": [7, 0, 0, 0, 4, 4, 6, 6, 4, 0, 3, 2], \"j\": [3, 4, 1, 2, 5, 6, 5, 2, 0, 1, 6, 3], \"k\": [0, 7, 2, 3, 6, 7, 1, 1, 5, 5, 7, 6], \"name\": \"y\", \"showscale\": false, \"visible\": false}, {\"type\": \"mesh3d\", \"x\": [-1.0, -1.0, 1.0, 1.0, -1.0, -1.0, 1.0, 1.0], \"y\": [-0.5976724774602398, 1.281712764111577, 1.281712764111577, -0.5976724774602398, -1.281712764111577, 0.5976724774602398, 0.5976724774602398, -1.281712764111577], \"z\": [-1.281712764111577, -0.5976724774602398, -0.5976724774602398, -1.281712764111577, 0.5976724774602398, 1.281712764111577, 1.281712764111577, 0.5976724774602398], \"colorscale\": [[\"0\", \"rgb(255,255,255)\"], [\"0.5\", \"rgb(0,133,202) \"], [\"1\", \"rgb(0,62,116)\"]], \"intensity\": [0, 0.142857142857143, 0.285714285714286, 0.428571428571429, 0.571428571428571, 0.714285714285714, 0.857142857142857, 1], \"i\": [7, 0, 0, 0, 4, 4, 6, 6, 4, 0, 3, 2], \"j\": [3, 4, 1, 2, 5, 6, 5, 2, 0, 1, 6, 3], \"k\": [0, 7, 2, 3, 6, 7, 1, 1, 5, 5, 7, 6], \"name\": \"y\", \"showscale\": false, \"visible\": false}, {\"type\": \"mesh3d\", \"x\": [-1.0, -1.0, 1.0, 1.0, -1.0, -1.0, 1.0, 1.0], \"y\": [-0.36602540378443876, 1.3660254037844386, 1.3660254037844386, -0.36602540378443876, -1.3660254037844386, 0.36602540378443876, 0.36602540378443876, -1.3660254037844386], \"z\": [-1.3660254037844386, -0.36602540378443876, -0.36602540378443876, -1.3660254037844386, 0.36602540378443876, 1.3660254037844386, 1.3660254037844386, 0.36602540378443876], \"colorscale\": [[\"0\", \"rgb(255,255,255)\"], [\"0.5\", \"rgb(0,133,202) \"], [\"1\", \"rgb(0,62,116)\"]], \"intensity\": [0, 0.142857142857143, 0.285714285714286, 0.428571428571429, 0.571428571428571, 0.714285714285714, 0.857142857142857, 1], \"i\": [7, 0, 0, 0, 4, 4, 6, 6, 4, 0, 3, 2], \"j\": [3, 4, 1, 2, 5, 6, 5, 2, 0, 1, 6, 3], \"k\": [0, 7, 2, 3, 6, 7, 1, 1, 5, 5, 7, 6], \"name\": \"y\", \"showscale\": false, \"visible\": false}, {\"type\": \"mesh3d\", \"x\": [-1.0, -1.0, 1.0, 1.0, -1.0, -1.0, 1.0, 1.0], \"y\": [-0.12325683343243887, 1.4088320528055174, 1.4088320528055174, -0.12325683343243887, -1.4088320528055174, 0.12325683343243887, 0.12325683343243887, -1.4088320528055174], \"z\": [-1.4088320528055174, -0.12325683343243887, -0.12325683343243887, -1.4088320528055174, 0.12325683343243887, 1.4088320528055174, 1.4088320528055174, 0.12325683343243887], \"colorscale\": [[\"0\", \"rgb(255,255,255)\"], [\"0.5\", \"rgb(0,133,202) \"], [\"1\", \"rgb(0,62,116)\"]], \"intensity\": [0, 0.142857142857143, 0.285714285714286, 0.428571428571429, 0.571428571428571, 0.714285714285714, 0.857142857142857, 1], \"i\": [7, 0, 0, 0, 4, 4, 6, 6, 4, 0, 3, 2], \"j\": [3, 4, 1, 2, 5, 6, 5, 2, 0, 1, 6, 3], \"k\": [0, 7, 2, 3, 6, 7, 1, 1, 5, 5, 7, 6], \"name\": \"y\", \"showscale\": false, \"visible\": false}, {\"type\": \"mesh3d\", \"x\": [-1.0, -1.0, 1.0, 1.0, -1.0, -1.0, 1.0, 1.0], \"y\": [0.12325683343243865, 1.4088320528055174, 1.4088320528055174, 0.12325683343243865, -1.4088320528055174, -0.12325683343243865, -0.12325683343243865, -1.4088320528055174], \"z\": [-1.4088320528055174, 0.12325683343243865, 0.12325683343243865, -1.4088320528055174, -0.12325683343243865, 1.4088320528055174, 1.4088320528055174, -0.12325683343243865], \"colorscale\": [[\"0\", \"rgb(255,255,255)\"], [\"0.5\", \"rgb(0,133,202) \"], [\"1\", \"rgb(0,62,116)\"]], \"intensity\": [0, 0.142857142857143, 0.285714285714286, 0.428571428571429, 0.571428571428571, 0.714285714285714, 0.857142857142857, 1], \"i\": [7, 0, 0, 0, 4, 4, 6, 6, 4, 0, 3, 2], \"j\": [3, 4, 1, 2, 5, 6, 5, 2, 0, 1, 6, 3], \"k\": [0, 7, 2, 3, 6, 7, 1, 1, 5, 5, 7, 6], \"name\": \"y\", \"showscale\": false, \"visible\": false}, {\"type\": \"mesh3d\", \"x\": [-1.0, -1.0, 1.0, 1.0, -1.0, -1.0, 1.0, 1.0], \"y\": [0.3660254037844385, 1.3660254037844388, 1.3660254037844388, 0.3660254037844385, -1.3660254037844388, -0.3660254037844385, -0.3660254037844385, -1.3660254037844388], \"z\": [-1.3660254037844388, 0.3660254037844385, 0.3660254037844385, -1.3660254037844388, -0.3660254037844385, 1.3660254037844388, 1.3660254037844388, -0.3660254037844385], \"colorscale\": [[\"0\", \"rgb(255,255,255)\"], [\"0.5\", \"rgb(0,133,202) \"], [\"1\", \"rgb(0,62,116)\"]], \"intensity\": [0, 0.142857142857143, 0.285714285714286, 0.428571428571429, 0.571428571428571, 0.714285714285714, 0.857142857142857, 1], \"i\": [7, 0, 0, 0, 4, 4, 6, 6, 4, 0, 3, 2], \"j\": [3, 4, 1, 2, 5, 6, 5, 2, 0, 1, 6, 3], \"k\": [0, 7, 2, 3, 6, 7, 1, 1, 5, 5, 7, 6], \"name\": \"y\", \"showscale\": false, \"visible\": false}, {\"type\": \"mesh3d\", \"x\": [-1.0, -1.0, 1.0, 1.0, -1.0, -1.0, 1.0, 1.0], \"y\": [0.5976724774602395, 1.281712764111577, 1.281712764111577, 0.5976724774602395, -1.281712764111577, -0.5976724774602395, -0.5976724774602395, -1.281712764111577], \"z\": [-1.281712764111577, 0.5976724774602395, 0.5976724774602395, -1.281712764111577, -0.5976724774602395, 1.281712764111577, 1.281712764111577, -0.5976724774602395], \"colorscale\": [[\"0\", \"rgb(255,255,255)\"], [\"0.5\", \"rgb(0,133,202) \"], [\"1\", \"rgb(0,62,116)\"]], \"intensity\": [0, 0.142857142857143, 0.285714285714286, 0.428571428571429, 0.571428571428571, 0.714285714285714, 0.857142857142857, 1], \"i\": [7, 0, 0, 0, 4, 4, 6, 6, 4, 0, 3, 2], \"j\": [3, 4, 1, 2, 5, 6, 5, 2, 0, 1, 6, 3], \"k\": [0, 7, 2, 3, 6, 7, 1, 1, 5, 5, 7, 6], \"name\": \"y\", \"showscale\": false, \"visible\": false}, {\"type\": \"mesh3d\", \"x\": [-1.0, -1.0, 1.0, 1.0, -1.0, -1.0, 1.0, 1.0], \"y\": [0.8111595753452776, 1.1584559306791384, 1.1584559306791384, 0.8111595753452776, -1.1584559306791384, -0.8111595753452776, -0.8111595753452776, -1.1584559306791384], \"z\": [-1.1584559306791384, 0.8111595753452776, 0.8111595753452776, -1.1584559306791384, -0.8111595753452776, 1.1584559306791384, 1.1584559306791384, -0.8111595753452776], \"colorscale\": [[\"0\", \"rgb(255,255,255)\"], [\"0.5\", \"rgb(0,133,202) \"], [\"1\", \"rgb(0,62,116)\"]], \"intensity\": [0, 0.142857142857143, 0.285714285714286, 0.428571428571429, 0.571428571428571, 0.714285714285714, 0.857142857142857, 1], \"i\": [7, 0, 0, 0, 4, 4, 6, 6, 4, 0, 3, 2], \"j\": [3, 4, 1, 2, 5, 6, 5, 2, 0, 1, 6, 3], \"k\": [0, 7, 2, 3, 6, 7, 1, 1, 5, 5, 7, 6], \"name\": \"y\", \"showscale\": false, \"visible\": false}, {\"type\": \"mesh3d\", \"x\": [-1.0, -1.0, 1.0, 1.0, -1.0, -1.0, 1.0, 1.0], \"y\": [0.9999999999999999, 1.0, 1.0, 0.9999999999999999, -1.0, -0.9999999999999999, -0.9999999999999999, -1.0], \"z\": [-1.0, 0.9999999999999999, 0.9999999999999999, -1.0, -0.9999999999999999, 1.0, 1.0, -0.9999999999999999], \"colorscale\": [[\"0\", \"rgb(255,255,255)\"], [\"0.5\", \"rgb(0,133,202) \"], [\"1\", \"rgb(0,62,116)\"]], \"intensity\": [0, 0.142857142857143, 0.285714285714286, 0.428571428571429, 0.571428571428571, 0.714285714285714, 0.857142857142857, 1], \"i\": [7, 0, 0, 0, 4, 4, 6, 6, 4, 0, 3, 2], \"j\": [3, 4, 1, 2, 5, 6, 5, 2, 0, 1, 6, 3], \"k\": [0, 7, 2, 3, 6, 7, 1, 1, 5, 5, 7, 6], \"name\": \"y\", \"showscale\": false, \"visible\": false}, {\"type\": \"mesh3d\", \"x\": [-1.0, -1.0, 1.0, 1.0, -1.0, -1.0, 1.0, 1.0], \"y\": [-1.0, 1.0, 1.0, -1.0, -1.0, 1.0, 1.0, -1.0], \"z\": [-1.0, -1.0, -1.0, -1.0, 1.0, 1.0, 1.0, 1.0], \"colorscale\": [[\"0\", \"rgb(255,255,255)\"], [\"0.5\", \"rgb(0,133,202) \"], [\"1\", \"rgb(0,62,116)\"]], \"intensity\": [0, 0.142857142857143, 0.285714285714286, 0.428571428571429, 0.571428571428571, 0.714285714285714, 0.857142857142857, 1], \"i\": [7, 0, 0, 0, 4, 4, 6, 6, 4, 0, 3, 2], \"j\": [3, 4, 1, 2, 5, 6, 5, 2, 0, 1, 6, 3], \"k\": [0, 7, 2, 3, 6, 7, 1, 1, 5, 5, 7, 6], \"name\": \"y\", \"showscale\": false, \"visible\": false}, {\"type\": \"mesh3d\", \"x\": [-1.1584559306791384, -1.1584559306791384, 0.8111595753452777, 0.8111595753452777, -0.8111595753452777, -0.8111595753452777, 1.1584559306791384, 1.1584559306791384], \"y\": [-1.0, 1.0, 1.0, -1.0, -1.0, 1.0, 1.0, -1.0], \"z\": [-0.8111595753452777, -0.8111595753452777, -1.1584559306791384, -1.1584559306791384, 1.1584559306791384, 1.1584559306791384, 0.8111595753452777, 0.8111595753452777], \"colorscale\": [[\"0\", \"rgb(255,255,255)\"], [\"0.5\", \"rgb(0,133,202) \"], [\"1\", \"rgb(0,62,116)\"]], \"intensity\": [0, 0.142857142857143, 0.285714285714286, 0.428571428571429, 0.571428571428571, 0.714285714285714, 0.857142857142857, 1], \"i\": [7, 0, 0, 0, 4, 4, 6, 6, 4, 0, 3, 2], \"j\": [3, 4, 1, 2, 5, 6, 5, 2, 0, 1, 6, 3], \"k\": [0, 7, 2, 3, 6, 7, 1, 1, 5, 5, 7, 6], \"name\": \"y\", \"showscale\": false, \"visible\": false}, {\"type\": \"mesh3d\", \"x\": [-1.281712764111577, -1.281712764111577, 0.5976724774602398, 0.5976724774602398, -0.5976724774602398, -0.5976724774602398, 1.281712764111577, 1.281712764111577], \"y\": [-1.0, 1.0, 1.0, -1.0, -1.0, 1.0, 1.0, -1.0], \"z\": [-0.5976724774602398, -0.5976724774602398, -1.281712764111577, -1.281712764111577, 1.281712764111577, 1.281712764111577, 0.5976724774602398, 0.5976724774602398], \"colorscale\": [[\"0\", \"rgb(255,255,255)\"], [\"0.5\", \"rgb(0,133,202) \"], [\"1\", \"rgb(0,62,116)\"]], \"intensity\": [0, 0.142857142857143, 0.285714285714286, 0.428571428571429, 0.571428571428571, 0.714285714285714, 0.857142857142857, 1], \"i\": [7, 0, 0, 0, 4, 4, 6, 6, 4, 0, 3, 2], \"j\": [3, 4, 1, 2, 5, 6, 5, 2, 0, 1, 6, 3], \"k\": [0, 7, 2, 3, 6, 7, 1, 1, 5, 5, 7, 6], \"name\": \"y\", \"showscale\": false, \"visible\": false}, {\"type\": \"mesh3d\", \"x\": [-1.3660254037844386, -1.3660254037844386, 0.36602540378443876, 0.36602540378443876, -0.36602540378443876, -0.36602540378443876, 1.3660254037844386, 1.3660254037844386], \"y\": [-1.0, 1.0, 1.0, -1.0, -1.0, 1.0, 1.0, -1.0], \"z\": [-0.36602540378443876, -0.36602540378443876, -1.3660254037844386, -1.3660254037844386, 1.3660254037844386, 1.3660254037844386, 0.36602540378443876, 0.36602540378443876], \"colorscale\": [[\"0\", \"rgb(255,255,255)\"], [\"0.5\", \"rgb(0,133,202) \"], [\"1\", \"rgb(0,62,116)\"]], \"intensity\": [0, 0.142857142857143, 0.285714285714286, 0.428571428571429, 0.571428571428571, 0.714285714285714, 0.857142857142857, 1], \"i\": [7, 0, 0, 0, 4, 4, 6, 6, 4, 0, 3, 2], \"j\": [3, 4, 1, 2, 5, 6, 5, 2, 0, 1, 6, 3], \"k\": [0, 7, 2, 3, 6, 7, 1, 1, 5, 5, 7, 6], \"name\": \"y\", \"showscale\": false, \"visible\": false}, {\"type\": \"mesh3d\", \"x\": [-1.4088320528055174, -1.4088320528055174, 0.12325683343243887, 0.12325683343243887, -0.12325683343243887, -0.12325683343243887, 1.4088320528055174, 1.4088320528055174], \"y\": [-1.0, 1.0, 1.0, -1.0, -1.0, 1.0, 1.0, -1.0], \"z\": [-0.12325683343243887, -0.12325683343243887, -1.4088320528055174, -1.4088320528055174, 1.4088320528055174, 1.4088320528055174, 0.12325683343243887, 0.12325683343243887], \"colorscale\": [[\"0\", \"rgb(255,255,255)\"], [\"0.5\", \"rgb(0,133,202) \"], [\"1\", \"rgb(0,62,116)\"]], \"intensity\": [0, 0.142857142857143, 0.285714285714286, 0.428571428571429, 0.571428571428571, 0.714285714285714, 0.857142857142857, 1], \"i\": [7, 0, 0, 0, 4, 4, 6, 6, 4, 0, 3, 2], \"j\": [3, 4, 1, 2, 5, 6, 5, 2, 0, 1, 6, 3], \"k\": [0, 7, 2, 3, 6, 7, 1, 1, 5, 5, 7, 6], \"name\": \"y\", \"showscale\": false, \"visible\": false}, {\"type\": \"mesh3d\", \"x\": [-1.4088320528055174, -1.4088320528055174, -0.12325683343243865, -0.12325683343243865, 0.12325683343243865, 0.12325683343243865, 1.4088320528055174, 1.4088320528055174], \"y\": [-1.0, 1.0, 1.0, -1.0, -1.0, 1.0, 1.0, -1.0], \"z\": [0.12325683343243865, 0.12325683343243865, -1.4088320528055174, -1.4088320528055174, 1.4088320528055174, 1.4088320528055174, -0.12325683343243865, -0.12325683343243865], \"colorscale\": [[\"0\", \"rgb(255,255,255)\"], [\"0.5\", \"rgb(0,133,202) \"], [\"1\", \"rgb(0,62,116)\"]], \"intensity\": [0, 0.142857142857143, 0.285714285714286, 0.428571428571429, 0.571428571428571, 0.714285714285714, 0.857142857142857, 1], \"i\": [7, 0, 0, 0, 4, 4, 6, 6, 4, 0, 3, 2], \"j\": [3, 4, 1, 2, 5, 6, 5, 2, 0, 1, 6, 3], \"k\": [0, 7, 2, 3, 6, 7, 1, 1, 5, 5, 7, 6], \"name\": \"y\", \"showscale\": false, \"visible\": false}, {\"type\": \"mesh3d\", \"x\": [-1.3660254037844388, -1.3660254037844388, -0.3660254037844385, -0.3660254037844385, 0.3660254037844385, 0.3660254037844385, 1.3660254037844388, 1.3660254037844388], \"y\": [-1.0, 1.0, 1.0, -1.0, -1.0, 1.0, 1.0, -1.0], \"z\": [0.3660254037844385, 0.3660254037844385, -1.3660254037844388, -1.3660254037844388, 1.3660254037844388, 1.3660254037844388, -0.3660254037844385, -0.3660254037844385], \"colorscale\": [[\"0\", \"rgb(255,255,255)\"], [\"0.5\", \"rgb(0,133,202) \"], [\"1\", \"rgb(0,62,116)\"]], \"intensity\": [0, 0.142857142857143, 0.285714285714286, 0.428571428571429, 0.571428571428571, 0.714285714285714, 0.857142857142857, 1], \"i\": [7, 0, 0, 0, 4, 4, 6, 6, 4, 0, 3, 2], \"j\": [3, 4, 1, 2, 5, 6, 5, 2, 0, 1, 6, 3], \"k\": [0, 7, 2, 3, 6, 7, 1, 1, 5, 5, 7, 6], \"name\": \"y\", \"showscale\": false, \"visible\": false}, {\"type\": \"mesh3d\", \"x\": [-1.281712764111577, -1.281712764111577, -0.5976724774602395, -0.5976724774602395, 0.5976724774602395, 0.5976724774602395, 1.281712764111577, 1.281712764111577], \"y\": [-1.0, 1.0, 1.0, -1.0, -1.0, 1.0, 1.0, -1.0], \"z\": [0.5976724774602395, 0.5976724774602395, -1.281712764111577, -1.281712764111577, 1.281712764111577, 1.281712764111577, -0.5976724774602395, -0.5976724774602395], \"colorscale\": [[\"0\", \"rgb(255,255,255)\"], [\"0.5\", \"rgb(0,133,202) \"], [\"1\", \"rgb(0,62,116)\"]], \"intensity\": [0, 0.142857142857143, 0.285714285714286, 0.428571428571429, 0.571428571428571, 0.714285714285714, 0.857142857142857, 1], \"i\": [7, 0, 0, 0, 4, 4, 6, 6, 4, 0, 3, 2], \"j\": [3, 4, 1, 2, 5, 6, 5, 2, 0, 1, 6, 3], \"k\": [0, 7, 2, 3, 6, 7, 1, 1, 5, 5, 7, 6], \"name\": \"y\", \"showscale\": false, \"visible\": false}, {\"type\": \"mesh3d\", \"x\": [-1.1584559306791384, -1.1584559306791384, -0.8111595753452776, -0.8111595753452776, 0.8111595753452776, 0.8111595753452776, 1.1584559306791384, 1.1584559306791384], \"y\": [-1.0, 1.0, 1.0, -1.0, -1.0, 1.0, 1.0, -1.0], \"z\": [0.8111595753452776, 0.8111595753452776, -1.1584559306791384, -1.1584559306791384, 1.1584559306791384, 1.1584559306791384, -0.8111595753452776, -0.8111595753452776], \"colorscale\": [[\"0\", \"rgb(255,255,255)\"], [\"0.5\", \"rgb(0,133,202) \"], [\"1\", \"rgb(0,62,116)\"]], \"intensity\": [0, 0.142857142857143, 0.285714285714286, 0.428571428571429, 0.571428571428571, 0.714285714285714, 0.857142857142857, 1], \"i\": [7, 0, 0, 0, 4, 4, 6, 6, 4, 0, 3, 2], \"j\": [3, 4, 1, 2, 5, 6, 5, 2, 0, 1, 6, 3], \"k\": [0, 7, 2, 3, 6, 7, 1, 1, 5, 5, 7, 6], \"name\": \"y\", \"showscale\": false, \"visible\": false}, {\"type\": \"mesh3d\", \"x\": [-1.0, -1.0, -0.9999999999999999, -0.9999999999999999, 0.9999999999999999, 0.9999999999999999, 1.0, 1.0], \"y\": [-1.0, 1.0, 1.0, -1.0, -1.0, 1.0, 1.0, -1.0], \"z\": [0.9999999999999999, 0.9999999999999999, -1.0, -1.0, 1.0, 1.0, -0.9999999999999999, -0.9999999999999999], \"colorscale\": [[\"0\", \"rgb(255,255,255)\"], [\"0.5\", \"rgb(0,133,202) \"], [\"1\", \"rgb(0,62,116)\"]], \"intensity\": [0, 0.142857142857143, 0.285714285714286, 0.428571428571429, 0.571428571428571, 0.714285714285714, 0.857142857142857, 1], \"i\": [7, 0, 0, 0, 4, 4, 6, 6, 4, 0, 3, 2], \"j\": [3, 4, 1, 2, 5, 6, 5, 2, 0, 1, 6, 3], \"k\": [0, 7, 2, 3, 6, 7, 1, 1, 5, 5, 7, 6], \"name\": \"y\", \"showscale\": false, \"visible\": false}], {\"sliders\": [{\"active\": 10, \"pad\": {\"t\": 50}, \"steps\": [{\"method\": \"restyle\", \"args\": [\"visible\", [true, false, false, false, false, false, false, false, false, false, false, false, false, false, false, false, false, false, false, false]]}, {\"method\": \"restyle\", \"args\": [\"visible\", [false, true, false, false, false, false, false, false, false, false, false, false, false, false, false, false, false, false, false, false]]}, {\"method\": \"restyle\", \"args\": [\"visible\", [false, false, true, false, false, false, false, false, false, false, false, false, false, false, false, false, false, false, false, false]]}, {\"method\": \"restyle\", \"args\": [\"visible\", [false, false, false, true, false, false, false, false, false, false, false, false, false, false, false, false, false, false, false, false]]}, {\"method\": \"restyle\", \"args\": [\"visible\", [false, false, false, false, true, false, false, false, false, false, false, false, false, false, false, false, false, false, false, false]]}, {\"method\": \"restyle\", \"args\": [\"visible\", [false, false, false, false, false, true, false, false, false, false, false, false, false, false, false, false, false, false, false, false]]}, {\"method\": \"restyle\", \"args\": [\"visible\", [false, false, false, false, false, false, true, false, false, false, false, false, false, false, false, false, false, false, false, false]]}, {\"method\": \"restyle\", \"args\": [\"visible\", [false, false, false, false, false, false, false, true, false, false, false, false, false, false, false, false, false, false, false, false]]}, {\"method\": \"restyle\", \"args\": [\"visible\", [false, false, false, false, false, false, false, false, true, false, false, false, false, false, false, false, false, false, false, false]]}, {\"method\": \"restyle\", \"args\": [\"visible\", [false, false, false, false, false, false, false, false, false, true, false, false, false, false, false, false, false, false, false, false]]}, {\"method\": \"restyle\", \"args\": [\"visible\", [false, false, false, false, false, false, false, false, false, false, true, false, false, false, false, false, false, false, false, false]]}, {\"method\": \"restyle\", \"args\": [\"visible\", [false, false, false, false, false, false, false, false, false, false, false, true, false, false, false, false, false, false, false, false]]}, {\"method\": \"restyle\", \"args\": [\"visible\", [false, false, false, false, false, false, false, false, false, false, false, false, true, false, false, false, false, false, false, false]]}, {\"method\": \"restyle\", \"args\": [\"visible\", [false, false, false, false, false, false, false, false, false, false, false, false, false, true, false, false, false, false, false, false]]}, {\"method\": \"restyle\", \"args\": [\"visible\", [false, false, false, false, false, false, false, false, false, false, false, false, false, false, true, false, false, false, false, false]]}, {\"method\": \"restyle\", \"args\": [\"visible\", [false, false, false, false, false, false, false, false, false, false, false, false, false, false, false, true, false, false, false, false]]}, {\"method\": \"restyle\", \"args\": [\"visible\", [false, false, false, false, false, false, false, false, false, false, false, false, false, false, false, false, true, false, false, false]]}, {\"method\": \"restyle\", \"args\": [\"visible\", [false, false, false, false, false, false, false, false, false, false, false, false, false, false, false, false, false, true, false, false]]}, {\"method\": \"restyle\", \"args\": [\"visible\", [false, false, false, false, false, false, false, false, false, false, false, false, false, false, false, false, false, false, true, false]]}, {\"method\": \"restyle\", \"args\": [\"visible\", [false, false, false, false, false, false, false, false, false, false, false, false, false, false, false, false, false, false, false, true]]}]}], \"width\": 600, \"height\": 600, \"title\": \"3D Transformation\", \"font\": {\"family\": \"Comic Sans MS\"}, \"scene\": {\"xaxis\": {\"range\": [-5, 5], \"autorange\": false, \"zeroline\": true}, \"yaxis\": {\"range\": [-5, 5], \"autorange\": false, \"zeroline\": true}, \"zaxis\": {\"range\": [-5, 5], \"autorange\": false, \"zeroline\": true}, \"aspectmode\": \"cube\", \"camera\": {\"center\": {\"x\": 0, \"y\": 0, \"z\": 0}, \"eye\": {\"x\": 1, \"y\": -1, \"z\": 1}}}, \"plot_bgcolor\": \"rgb(255, 255, 255)\"}, {\"showLink\": true, \"linkText\": \"Export to plot.ly\"})});</script>"
      ]
     },
     "metadata": {},
     "output_type": "display_data"
    }
   ],
   "source": [
    "data = []\n",
    "master(rotXaxis,0,(np.pi/2),xTrans, yTrans, zTrans)\n",
    "master(rotYaxis,0,(np.pi/2),xTrans, yTrans, zTrans)\n",
    "figure = generateLayout(data)\n",
    "py.iplot(figure)"
   ]
  },
  {
   "cell_type": "code",
   "execution_count": null,
   "metadata": {
    "collapsed": true
   },
   "outputs": [],
   "source": []
  },
  {
   "cell_type": "code",
   "execution_count": null,
   "metadata": {
    "collapsed": true
   },
   "outputs": [],
   "source": []
  }
 ],
 "metadata": {
  "kernelspec": {
   "display_name": "Python 3",
   "language": "python",
   "name": "python3"
  },
  "language_info": {
   "codemirror_mode": {
    "name": "ipython",
    "version": 3
   },
   "file_extension": ".py",
   "mimetype": "text/x-python",
   "name": "python",
   "nbconvert_exporter": "python",
   "pygments_lexer": "ipython3",
   "version": "3.6.2"
  }
 },
 "nbformat": 4,
 "nbformat_minor": 2
}
