{
 "cells": [
  {
   "cell_type": "markdown",
   "metadata": {},
   "source": [
    "<img src=\"imperial_logo.png\" width=\"275\" align=\"left\">\n",
    "<p style=\"text-align: right\">\n",
    "    Created by Dong-Woo (Dom) Ko<br>Email: dk1713@ic.ac.uk<br><a>HTML Version (This will be a link)</a>\n",
    "</p>\n",
    "<br>\n",
    "# VC: Basis Vectors in different Coordinate Systems\n",
    "\n",
    "## Learning Objectives\n",
    "* To aid in visualisation of basis vectors in different coordinate systems of $I\\!R^3$.\n",
    "\n",
    "## Table of Contents\n",
    "1. Introduction\n",
    "2. Cartesian\n",
    "3. Cylindrical\n",
    "4. Spherical"
   ]
  },
  {
   "cell_type": "markdown",
   "metadata": {},
   "source": [
    "## 1. Introduction\n",
    "We can repesent $I\\!R^3$ in different coordinate systems. We will explore these systems using basis vectors.\n",
    "\n",
    "Note:\n",
    "- These basis vectors are orthogonal (perpendicular to each other).\n",
    "- Unlike Cartesian Coordinates system, one thing you need to note about the basis vectors in Cylindrical and Spherical Coordinate Systems is that the basis vectors in these systems do <b>not</b> have <b>fixed orientations</b>."
   ]
  },
  {
   "cell_type": "markdown",
   "metadata": {},
   "source": [
    "## 2. Cartesian"
   ]
  },
  {
   "cell_type": "markdown",
   "metadata": {},
   "source": [
    "### Cartesian Vector:\n",
    "$$\n",
    "    {\\bf{r}} = \\left(\\begin{matrix} x \\\\ y \\\\ z \\end{matrix}\\right)\n",
    "$$\n",
    "\n",
    "Note that this form is important in deriving basis vectors for each coordinate systems."
   ]
  },
  {
   "cell_type": "markdown",
   "metadata": {},
   "source": [
    "### Basis Vectors:\n",
    "$$\n",
    "    \\widehat{x} \\equiv \\frac{\\frac{d\\bf{r}}{dx}}{\\left|\\frac{d\\bf{r}}{dx}\\right|} = \\left(\\begin{matrix} 1 \\\\ 0 \\\\ 0 \\end{matrix}\\right),\\quad\n",
    "    \\widehat{y} \\equiv \\frac{\\frac{d\\bf{r}}{dy}}{\\left|\\frac{d\\bf{r}}{dy}\\right|} = \\left(\\begin{matrix} 0 \\\\ 1 \\\\ 0 \\end{matrix}\\right),\\quad\n",
    "    \\widehat{z} \\equiv \\frac{\\frac{d\\bf{r}}{dz}}{\\left|\\frac{d\\bf{r}}{dz}\\right|} = \\left(\\begin{matrix} 0 \\\\ 0 \\\\ 1 \\end{matrix}\\right).\n",
    "$$"
   ]
  },
  {
   "cell_type": "markdown",
   "metadata": {},
   "source": [
    "## 3. Cylindrical\n",
    "This coordinate system comprises of (rho, phi, z): <br>\n",
    "&emsp;&emsp; $\\rho$ = radial coordinates ($\\rho \\geq 0$), <br>\n",
    "&emsp;&emsp; $\\phi$ = azimuthal coordinates ($0 \\leq \\phi \\leq 2\\pi$), <br>\n",
    "&emsp;&emsp; z = vertical coordinates ($z \\geq 0$)."
   ]
  },
  {
   "cell_type": "markdown",
   "metadata": {},
   "source": [
    "### In terms of cartesian coordinate (x, y, z):\n",
    "\\begin{align}\n",
    "    \\rho &= \\sqrt{x^2 + y^2},\\\\\n",
    "    \\phi &= \\tan^{-1}\\left(\\frac{y}{x}\\right),\\\\\n",
    "    z &= z.\n",
    "\\end{align}"
   ]
  },
  {
   "cell_type": "markdown",
   "metadata": {},
   "source": [
    "### Cartesian Vector:\n",
    "$$\n",
    "    {\\bf{r}} \\equiv \\left(\\begin{matrix} x \\\\ y \\\\ z \\end{matrix}\\right) \n",
    "    = \\left(\\begin{matrix} \\rho\\cos\\phi \\\\ \\rho\\sin\\phi \\\\ z \\end{matrix}\\right)\n",
    "$$"
   ]
  },
  {
   "cell_type": "markdown",
   "metadata": {},
   "source": [
    "### Basis Vectors:\n",
    "$$\n",
    "    \\widehat{\\rho} \\equiv \\frac{\\frac{d\\bf{r}}{d\\rho}}{\\left|\\frac{d\\bf{r}}{d\\rho}\\right|} = \\left(\\begin{matrix} \\cos\\phi \\\\ \\sin\\phi \\\\ 0 \\end{matrix}\\right), \\quad\n",
    "    \\widehat{\\phi} \\equiv \\frac{\\frac{d\\bf{r}}{d\\phi}}{\\left|\\frac{d\\bf{r}}{d\\phi}\\right|} = \\left(\\begin{matrix} -\\sin\\phi \\\\ \\cos\\phi \\\\ 0 \\end{matrix}\\right), \\quad\n",
    "    \\widehat{z} \\equiv \\frac{\\frac{d\\bf{r}}{dz}}{\\left|\\frac{d\\bf{r}}{dz}\\right|} = \\left(\\begin{matrix} 0 \\\\ 0 \\\\ 1 \\end{matrix}\\right).\n",
    "$$"
   ]
  },
  {
   "cell_type": "markdown",
   "metadata": {},
   "source": [
    "## 4. Spherical\n",
    "This coordinate system comprises of (r, theta, phi): <br>\n",
    "&emsp;&emsp; r = radial coordinates ($r \\geq 0$), <br>\n",
    "&emsp;&emsp; $\\theta$ = polar coordinates ($0 \\leq \\theta \\leq \\pi$), <br>\n",
    "&emsp;&emsp; $\\phi$ = azimuthal coordinates ($0 \\leq \\phi \\leq 2\\pi$)."
   ]
  },
  {
   "cell_type": "markdown",
   "metadata": {},
   "source": [
    "### In terms of cartesian coordinate (x, y, z):\n",
    "\\begin{align}\n",
    "    r &= \\sqrt{x^2 + y^2 + z^2},\\\\\n",
    "    \\theta &= \\cos^{-1}\\left(\\frac{z}{r}\\right),\\\\\n",
    "    \\phi &= \\tan^{-1}\\left(\\frac{y}{x}\\right).\n",
    "\\end{align}"
   ]
  },
  {
   "cell_type": "markdown",
   "metadata": {},
   "source": [
    "### Cartesian Vector:\n",
    "$$\n",
    "    {\\bf{r}} \\equiv \\left(\\begin{matrix} x \\\\ y \\\\ z \\end{matrix}\\right) \n",
    "    = \\left(\\begin{matrix} r\\cos\\phi\\sin\\theta \\\\ r\\sin\\phi\\sin\\theta \\\\ r\\cos\\theta \\end{matrix}\\right)\n",
    "$$"
   ]
  },
  {
   "cell_type": "markdown",
   "metadata": {},
   "source": [
    "### Basis Vectors:\n",
    "$$\n",
    "    \\widehat{r} \\equiv \\frac{\\frac{d\\bf{r}}{dr}}{\\left|\\frac{d\\bf{r}}{dr}\\right|} \n",
    "    = \\left(\\begin{matrix} \\cos\\phi\\sin\\theta \\\\ \\sin\\phi\\sin\\theta \\\\ \\cos\\theta \\end{matrix}\\right), \\quad\n",
    "    \\widehat{\\theta} \\equiv \\frac{\\frac{d\\bf{r}}{d\\theta}}{\\left|\\frac{d\\bf{r}}{d\\theta}\\right|} \n",
    "    = \\left(\\begin{matrix} \\cos\\phi\\cos\\theta \\\\ \\sin\\phi\\cos\\theta \\\\ -\\sin\\theta \\end{matrix}\\right), \\quad\n",
    "    \\widehat{\\phi} \\equiv \\frac{\\frac{d\\bf{r}}{d\\phi}}{\\left|\\frac{d\\bf{r}}{d\\phi}\\right|} \n",
    "    = \\left(\\begin{matrix} -\\sin\\phi \\\\ \\cos\\phi \\\\ 0 \\end{matrix}\\right).\n",
    "$$"
   ]
  }
 ],
 "metadata": {
  "kernelspec": {
   "display_name": "Python 3",
   "language": "python",
   "name": "python3"
  },
  "language_info": {
   "codemirror_mode": {
    "name": "ipython",
    "version": 3
   },
   "file_extension": ".py",
   "mimetype": "text/x-python",
   "name": "python",
   "nbconvert_exporter": "python",
   "pygments_lexer": "ipython3",
   "version": "3.6.2"
  }
 },
 "nbformat": 4,
 "nbformat_minor": 2
}
