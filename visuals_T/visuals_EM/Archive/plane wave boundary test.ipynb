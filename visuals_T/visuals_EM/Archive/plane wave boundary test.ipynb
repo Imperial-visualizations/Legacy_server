{
 "cells": [
  {
   "cell_type": "code",
   "execution_count": null,
   "metadata": {},
   "outputs": [],
   "source": [
    "%matplotlib notebook\n",
    "import numpy as np\n",
    "import matplotlib.pyplot as plt\n",
    "import matplotlib.animation as animation"
   ]
  },
  {
   "cell_type": "code",
   "execution_count": null,
   "metadata": {},
   "outputs": [],
   "source": [
    "phase = 0\n",
    "class Thing:\n",
    "    def __init__(self):\n",
    "        self.phase = 0\n",
    "        self.wave1 = self.create_wave(n=1)\n",
    "        self.wave2 = self.create_wave(n=2)\n",
    "    \n",
    "    def create_wave(self, n):\n",
    "#         global phase\n",
    "        x = np.linspace(-1, 1, 100)\n",
    "        if n == 1:\n",
    "            y = np.linspace(-1, 0, 50)\n",
    "        else:\n",
    "            y = np.linspace(0, 1, 50)\n",
    "        xx, yy = np.meshgrid(x, y)\n",
    "        return {\n",
    "            \"x\": x,\n",
    "            \"y\": y,\n",
    "            \"zz\": self.plane_wave(xx, yy, 20, self.phase)\n",
    "        }\n",
    "    \n",
    "    def plane_wave(self, xx, yy, angle, phase):\n",
    "        return np.sin((np.cos(np.deg2rad(angle)) * 8*np.pi * (xx - phase)) + (np.sin(np.deg2rad(angle)) * 8*np.pi * (yy - phase)))\n",
    "\n",
    "    def plot(self):\n",
    "        fig = plt.figure()\n",
    "        \n",
    "        im1 = plt.pcolormesh(self.wave1[\"x\"], self.wave1[\"y\"], self.wave1[\"zz\"], vmax=1)# animated=True)\n",
    "        im2 = plt.pcolormesh(self.wave2[\"x\"], self.wave2[\"y\"], self.wave2[\"zz\"], vmax=1)#, animated=True)\n",
    "\n",
    "        def updatefig(*args):\n",
    "            im1.set_array(self.create_wave(n=1)[\"zz\"][:-1,:-1].ravel())\n",
    "            im2.set_array(self.create_wave(n=2)[\"zz\"][:-1,:-1].ravel())\n",
    "            self.phase += 0.005\n",
    "            return im1, im2\n",
    "        \n",
    "        ani = animation.FuncAnimation(fig, updatefig, interval=50, blit=True)\n",
    "#         plt.show()\n",
    "        return ani\n",
    "\n",
    "       "
   ]
  },
  {
   "cell_type": "code",
   "execution_count": null,
   "metadata": {},
   "outputs": [],
   "source": [
    "A = Thing()\n",
    "ani = A.plot()\n",
    "plt.show()"
   ]
  },
  {
   "cell_type": "code",
   "execution_count": null,
   "metadata": {},
   "outputs": [],
   "source": []
  }
 ],
 "metadata": {
  "kernelspec": {
   "display_name": "Python 3",
   "language": "python",
   "name": "python3"
  },
  "language_info": {
   "codemirror_mode": {
    "name": "ipython",
    "version": 3
   },
   "file_extension": ".py",
   "mimetype": "text/x-python",
   "name": "python",
   "nbconvert_exporter": "python",
   "pygments_lexer": "ipython3",
   "version": "3.6.1"
  }
 },
 "nbformat": 4,
 "nbformat_minor": 2
}
