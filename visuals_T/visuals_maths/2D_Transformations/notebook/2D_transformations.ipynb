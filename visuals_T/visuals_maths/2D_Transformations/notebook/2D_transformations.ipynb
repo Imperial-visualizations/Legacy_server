{
 "cells": [
  {
   "cell_type": "markdown",
   "metadata": {},
   "source": [
    "<img src=\"imperial_logo.png\" width=\"275\" align=\"left\"><p style=\"text-align: right\">Created by Ryo Kurashina<br>Email: rk2014@ic.ac.uk<br><a>HTML Version (This will be a link)</a></p><br>\n",
    "# 2D Transformations\n",
    "## Learning Objectives:\n",
    "\n",
    "* Understand basic types of matrix transformations.\n",
    "* Be able to implement these transformations on `Python` to create animations on `Plotly`.\n",
    "\n",
    "\n",
    "## Table of Contents\n",
    "1. Introduction\n",
    "2. Rotation Matrices\n",
    "3. Scaling Matrices\n",
    "3. Custom Matrices\n",
    "4. Skew Matrices\n",
    "5. Determinants"
   ]
  },
  {
   "cell_type": "markdown",
   "metadata": {},
   "source": [
    "# 1. Introduction\n",
    "A general matrix transformation in 2D can be written as: $$A:I\\!R^2 \\mapsto I\\!R^2$$<br>$$A \\begin{pmatrix}x\\\\y\\end{pmatrix}=\\begin{pmatrix}a&b\\\\c&d\\end{pmatrix}\\begin{pmatrix}x\\\\y\\end{pmatrix}=\n",
    "\\begin{pmatrix}ax+by\\\\cx+dy\\end{pmatrix}$$<br>\n",
    "On this `IPython Notebook` we will be looking at particular cases of these matrix transformations and how they transform vectors from a geometric point of view.\n"
   ]
  },
  {
   "cell_type": "markdown",
   "metadata": {},
   "source": [
    "# 2. Rotation Matrices\n",
    "If we consider any point in the $x$-$y$ plane to be written in terms of its $\\mathbf{\\hat{i}},\\,\\mathbf{\\hat{j}}$ unit vectors: \n",
    "<br><br>\n",
    "$$ \\begin{pmatrix}x \\\\ y \\end{pmatrix} = x\\begin{pmatrix} 1 \\\\ 0 \\end{pmatrix} + y\\begin{pmatrix} 0 \\\\ 1 \\end{pmatrix} \\qquad (1)$$\n",
    "<br>\n",
    "Then rotation of both of these unit vectors by an amount $\\theta$ would lead to the unit vectors being mapped to:\n",
    "<br><br>\n",
    "$$ R_{\\theta} : \\begin{pmatrix} 1 \\\\ 0 \\end{pmatrix} \\mapsto \\begin{pmatrix} \\cos\\theta \\\\ \\sin\\theta\\end{pmatrix}, \n",
    "\\; R_{\\theta} : \\begin{pmatrix} 0 \\\\ 1 \\end{pmatrix} \\mapsto \\begin{pmatrix} -\\sin\\theta \\\\ \\cos\\theta\\end{pmatrix} \\qquad (2)$$\n",
    "<br> \n",
    "Now, if we want to rotate an arbitrary vector by an amount $\\theta$ then we can combine $(1)$ and $(2)$ to get:\n",
    "<br><br>\n",
    "$$ R_{\\theta} : \\begin{pmatrix} x \\\\ y \\end{pmatrix} \\mapsto x\\begin{pmatrix} \\cos\\theta \\\\ \\sin\\theta\\end{pmatrix} +y\\begin{pmatrix} -\\sin\\theta \\\\ \\cos\\theta\\end{pmatrix} $$ \n",
    "<br>\n",
    "Which is equivalent to the matrix or <b>linear</b> transformation:\n",
    "<br><br>\n",
    "$$ R_{\\theta} \\begin{pmatrix} x \\\\ y \\end{pmatrix} = \\begin{pmatrix} \\cos\\theta & -\\sin\\theta \\\\ \\sin\\theta & \\cos\\theta\\end{pmatrix}\\begin{pmatrix} x \\\\ y \\end{pmatrix} $$"
   ]
  },
  {
   "cell_type": "code",
   "execution_count": null,
   "metadata": {},
   "outputs": [],
   "source": [
    "# Import libraries/packages to be used (HIT SHIFT + ENTER TO RUN CELL)\n",
    "import numpy as np\n",
    "import math as ma \n",
    "import plotly.figure_factory as ff\n",
    "from plotly.offline import download_plotlyjs,init_notebook_mode,plot,iplot\n",
    "import plotly.graph_objs as go\n",
    "init_notebook_mode(connected=True)"
   ]
  },
  {
   "cell_type": "markdown",
   "metadata": {},
   "source": [
    "Now, let's apply the theory of rotation matrices to write some code which will rotate a vector by amount $\\theta$. The function `rotmat(th)` returns the rotation matrix."
   ]
  },
  {
   "cell_type": "code",
   "execution_count": null,
   "metadata": {
    "collapsed": true
   },
   "outputs": [],
   "source": [
    "def rotmat(th):\n",
    "    rotator = np.array([[ma.cos(th), -ma.sin(th)],[ma.sin(th), ma.cos(th)]])\n",
    "    return rotator"
   ]
  },
  {
   "cell_type": "markdown",
   "metadata": {},
   "source": [
    "This function `rotation(th, vec)` takes in a rotation angle and vector input and returns a tuple of numpy arrays which can be animated to create a \"smooth transition\" of the rotation using `Plotly Animate`. "
   ]
  },
  {
   "cell_type": "code",
   "execution_count": null,
   "metadata": {
    "collapsed": true
   },
   "outputs": [],
   "source": [
    "def rotation(th, vec):\n",
    "    # Parameters \n",
    "    t = np.linspace(0,1,50)\n",
    "    tt = th*t\n",
    "    # Rotation matrix\n",
    "    BigR = np.identity(2)\n",
    "    for i in range(len(tt)-1):\n",
    "        BigR = np.vstack((BigR,rotmat(tt[i+1])))\n",
    "    newvec = np.matmul(BigR,vec)\n",
    "    x = newvec[::2]\n",
    "    y = newvec[1::2]\n",
    "    return (x,y)"
   ]
  },
  {
   "cell_type": "markdown",
   "metadata": {},
   "source": [
    "In the cell below, enter a rotation angle and vector inside the `rotation()` function which has some inputs inside already and hit shift enter to generate an animation of the rotation! (<b>N.B. Don't worry too much if you're not familiar with the plotly syntax, it's more important you understand what the matrices are doing, the cell will run itself after you choose the input arguments and hit `Shift` + `Enter`</b>)"
   ]
  },
  {
   "cell_type": "code",
   "execution_count": null,
   "metadata": {
    "scrolled": false
   },
   "outputs": [],
   "source": [
    "# Enter a 2D vector here...\n",
    "vec = [1,0]\n",
    "# Enter rotation angle here...\n",
    "th = 4\n",
    "(x0,y0) = rotation(th, vec)\n",
    "x0 = list(x0)\n",
    "y0 = list(y0)\n",
    "\n",
    "# Syntax for plotly, see documentation for more info\n",
    "data = [{\"x\": [x0[i],0], \"y\": [y0[i],0], \"frame\": i} for i in range(len(x0))]\n",
    "\n",
    "figure = {'data': [{'x': data[0]['x'], 'y': data[0]['y']}],\n",
    "          'layout': {'xaxis': {'range': [-2, 2], 'autorange': False},\n",
    "                     'yaxis': {'range': [-2, 2], 'autorange': False},\n",
    "                     'height': 600,\n",
    "                     'width': 600,\n",
    "                     'title': 'Rotation Animation',\n",
    "                     'updatemenus': [{'type': 'buttons',\n",
    "                                      'buttons': [{'label': 'Play',\n",
    "                                                   'method': 'animate',\n",
    "                                                   'args': [None, dict(frame=dict(duration=50, redraw=False), \n",
    "                                                               transition=dict(duration=50),\n",
    "                                                               fromcurrent=True,\n",
    "                                                               mode='immediate')]}]}]\n",
    "                    },\n",
    "          'frames': [{'data': [{'x': data[i]['x'], 'y': data[i]['y']}]} for i in range(len(x0))]\n",
    "         }\n",
    "# Plot\n",
    "iplot(figure)"
   ]
  },
  {
   "cell_type": "markdown",
   "metadata": {},
   "source": [
    "# 3. Scaling Matrices\n",
    "Now we are familiar with rotation matrices, we will move onto another type of matrix transformation known as a \"scaling\" matrix. Scaling matrices have the form:\n",
    "<br>\n",
    "<br>\n",
    "$$ \\text{Scale} = \\begin{pmatrix} s1 & 0 \\\\ 0 & s2 \\end{pmatrix} $$\n",
    "<br>\n",
    "Now let's look at what this matrix does to an arbitrary vector $(x, y)$:\n",
    "<br><br>\n",
    "$$ \\begin{pmatrix} s1 & 0 \\\\ 0 & s2 \\end{pmatrix}\\begin{pmatrix} x \\\\ y\\end{pmatrix} = s1\\begin{pmatrix}x\\\\0\\end{pmatrix}+s2\\begin{pmatrix}0\\\\y\\end{pmatrix}$$\n",
    "<br>\n",
    "As we can see, this \"scale\" matrix scales the vector in the $x$-direction by a factor $s1$ and scales the vector in the $y$-direction by a factor s2. Now we write a function `scale(vec, *args)` which takes in a vector input as well as an additional 1 OR 2 arguments. If one is given, then a matrix which scales both $x$ and $y$ directions equally is returned while if 2 are given then a matrix which scales by the arguments given is returned."
   ]
  },
  {
   "cell_type": "code",
   "execution_count": null,
   "metadata": {
    "collapsed": true
   },
   "outputs": [],
   "source": [
    "# Input vector, scale 1, scale 2 as arguments\n",
    "def scale(vec, *args):\n",
    "    assert len(vec)==2, \"Please provide a 2D vector for the first argument\"\n",
    "    assert len(args)==1 or len(args)==2, \"Please provide 1 or 2 scale arguments\"\n",
    "    t = np.linspace(1,args[0],50)\n",
    "    # If only one scale argument given then scale in both directions by same amount\n",
    "    if len(args) == 1:\n",
    "        x = vec[0]*t\n",
    "        y = vec[1]*t\n",
    "        return(x,y)\n",
    "    # If two scale arguments given then scale individual directions\n",
    "    else:\n",
    "        s = np.linspace(1,args[1],50)\n",
    "        x = vec[0]*t\n",
    "        y = vec[1]*s\n",
    "        return(x,y)"
   ]
  },
  {
   "cell_type": "markdown",
   "metadata": {},
   "source": [
    "Now try it for yourself by running the function with your own inputs, by default 2 scale arguments have been inputted but you can try 1 if you like as well."
   ]
  },
  {
   "cell_type": "code",
   "execution_count": null,
   "metadata": {},
   "outputs": [],
   "source": [
    "# Again input vector here\n",
    "vec = [1,1]\n",
    "# Arguments here\n",
    "s1 = 2\n",
    "s2 = 3\n",
    "(x1,y1) = scale(vec, s1, s2)\n",
    "x1 = list(x1)\n",
    "y1 = list(y1)\n",
    "\n",
    "# Plotly syntax again\n",
    "data = [{\"x\": [x1[i],0], \"y\": [y1[i],0], \"frame\": i} for i in range(len(x1))]\n",
    "\n",
    "figure = {'data': [{'x': data[0]['x'], 'y': data[0]['y']}],\n",
    "          'layout': {'xaxis': {'range': [-2, 2], 'autorange': False},\n",
    "                     'yaxis': {'range': [-2, 2], 'autorange': False},\n",
    "                     'height': 600,\n",
    "                     'width': 600,\n",
    "                     'title': 'Scale Animation',\n",
    "                     'updatemenus': [{'type': 'buttons',\n",
    "                                      'buttons': [{'label': 'Play',\n",
    "                                                   'method': 'animate',\n",
    "                                                   'args': [None, dict(frame=dict(duration=50, redraw=False), \n",
    "                                                               transition=dict(duration=50),\n",
    "                                                               fromcurrent=True,\n",
    "                                                               mode='immediate')]}]}]\n",
    "                    },\n",
    "          'frames': [{'data': [{'x': data[i]['x'], 'y': data[i]['y']}]} for i in range(len(x1))]\n",
    "         }\n",
    "\n",
    "iplot(figure)"
   ]
  },
  {
   "cell_type": "markdown",
   "metadata": {},
   "source": [
    "# 4. Custom Matrix\n",
    "Now we have explained some basic matrix transformations, feel free to use the following code to create your own 2x2 matrix transformations.\n"
   ]
  },
  {
   "cell_type": "code",
   "execution_count": null,
   "metadata": {
    "collapsed": true
   },
   "outputs": [],
   "source": [
    "# Custom 2D transformation\n",
    "def custom(vec):\n",
    "    print(\"Enter values for 2x2 matrix [[a,b],[c,d]] \")\n",
    "    a = input(\"Enter a value for a: \")\n",
    "    b = input(\"Enter a value for b: \")\n",
    "    c = input(\"Enter a value for c: \")\n",
    "    d = input(\"Enter a value for d: \")\n",
    "    try:\n",
    "        a = float(a)\n",
    "    except ValueError:\n",
    "        print(\"Enter a float or integer for a\")\n",
    "    try:\n",
    "        b = float(b)\n",
    "    except ValueError:\n",
    "        print(\"Enter a float or integer for b\")\n",
    "    try:\n",
    "        c = float(c)\n",
    "    except ValueError:\n",
    "        print(\"Enter a float or integer for c\")\n",
    "    try:\n",
    "        d = float(d)\n",
    "    except ValueError:\n",
    "        print(\"Enter a float or integer for d\")\n",
    "    \n",
    "    A = [[a,b],[c,d]]\n",
    "    t = np.linspace(0,1,50)\n",
    "    w = np.matmul(A,vec)-vec\n",
    "    x = [vec[0]+tt*w[0] for tt in t]\n",
    "    y = [vec[1]+tt*w[1] for tt in t]\n",
    "    \n",
    "    return(x,y)"
   ]
  },
  {
   "cell_type": "code",
   "execution_count": null,
   "metadata": {},
   "outputs": [],
   "source": [
    "(x2,y2) = custom([1,1])\n",
    "x2 = list(x2)\n",
    "y2 = list(y2)\n",
    "\n",
    "data = [{\"x\": [x2[i],0], \"y\": [y2[i],0], \"frame\": i} for i in range(len(x2))]\n",
    "\n",
    "figure = {'data': [{'x': data[0]['x'], 'y': data[0]['y']}],\n",
    "          'layout': {'xaxis': {'range': [-2, 2], 'autorange': False},\n",
    "                     'yaxis': {'range': [-2, 2], 'autorange': False},\n",
    "                     'height': 600,\n",
    "                     'width': 600,\n",
    "                     'title': 'Custom Animation',\n",
    "                     'updatemenus': [{'type': 'buttons',\n",
    "                                      'buttons': [{'label': 'Play',\n",
    "                                                   'method': 'animate',\n",
    "                                                   'args': [None, dict(frame=dict(duration=50, redraw=False), \n",
    "                                                               transition=dict(duration=50),\n",
    "                                                               fromcurrent=True,\n",
    "                                                               mode='immediate')]}]}]\n",
    "                    },\n",
    "          'frames': [{'data': [{'x': data[i]['x'], 'y': data[i]['y']}]} for i in range(len(x2))]\n",
    "         }\n",
    "\n",
    "iplot(figure)"
   ]
  },
  {
   "cell_type": "markdown",
   "metadata": {},
   "source": [
    "# 5. Skew Matrices\n",
    "For the next matrix we will use a slightly different approach to visualize what this transformation does. Instead of taking one vector and following what the matrix does to it, we will take 3 vectors ((1, 0), (1, 1) and (0, 1)) and look at what the matrix does to the entire area captured between these 3 points and the origin (i.e. the unit box). Why is this? <br>\n",
    "Well, matrix transformations are linear transformations and any point inside the box is a linear combination of $\\mathbf{\\hat{i}},\\,\\mathbf{\\hat{j}}$ unit vectors. Consider a matrix $A$ acting upon a vector (x,y). <br><br>\n",
    "$$ A \\begin{pmatrix}x\\\\y\\end{pmatrix} = \\begin{pmatrix}a&b\\\\c&d\\end{pmatrix}\\begin{pmatrix}x\\\\y\\end{pmatrix} =\n",
    "x\\begin{pmatrix}a\\\\c\\end{pmatrix}+y\\begin{pmatrix}b\\\\d\\end{pmatrix}\n",
    "$$ <br>\n",
    "As we can see, the $\\mathbf{\\hat{i}},\\,\\mathbf{\\hat{j}}$ unit vectors are mapped to vectors $(a,\\,c)$ and $(b,\\,d)$ , respectively, so any points inside the unit square are mapped inside the parallelogram formed by the 2 vectors $(a,\\,c)$ and $(b,\\,d)$, (see the <b>Parallelipiped</b> visualization for more info). To visualize this, let's write a function which returns a skew matrix and see how it deforms the unit square. It's okay if you're not sure what a skew matrix is or what it does as you'll see what happens when we make the animation."
   ]
  },
  {
   "cell_type": "code",
   "execution_count": null,
   "metadata": {
    "collapsed": true
   },
   "outputs": [],
   "source": [
    "def skew(axis, vec):\n",
    "    t = np.linspace(0,1,50)\n",
    "    # Skew in x-direction\n",
    "    if axis == 0:\n",
    "        A = [[1,1],[0,1]]\n",
    "        w = np.matmul(A,vec)-vec\n",
    "        x = [vec[0]+tt*w[0] for tt in t]\n",
    "        y = [vec[1]+tt*w[1] for tt in t]\n",
    "        return(x, y)\n",
    "    # Skew in y-direction\n",
    "    elif axis == 1:\n",
    "        A = [[1,0],[1,1]]\n",
    "        w = np.matmul(A,vec)-vec\n",
    "        x = [vec[0]+tt*w[0] for tt in t]\n",
    "        y = [vec[1]+tt*w[1] for tt in t]\n",
    "        return(x, y)\n",
    "    else: \n",
    "        return ValueError('Axis must be 0 or 1')"
   ]
  },
  {
   "cell_type": "markdown",
   "metadata": {},
   "source": [
    "Now we write a function which will take 6 arrays in total (2 for (1, 0), 2 for (0, 1) and 2 for (1, 1)) and shows an animation of how the 3 vectors are transformed. Remember that we can forget about the origin as it is always mapped to itself (this is a standard property of linear transformations)."
   ]
  },
  {
   "cell_type": "code",
   "execution_count": null,
   "metadata": {
    "collapsed": true
   },
   "outputs": [],
   "source": [
    "# Function that returns data in a format to be used by plotly and then plots it \n",
    "def sqtransformation(x0,x1,x2,y0,y1,y2):\n",
    "    data = [{\"x\": [0,x0[i],x1[i],x2[i],0], \"y\": [0,y0[i],y1[i],y2[i],0], \"frame\": i} for i in range(len(x0))]\n",
    "\n",
    "    figure = {'data': [{'x': data[0]['x'], 'y': data[0]['y'], 'fill':'tonexty'}],\n",
    "              'layout': {'xaxis': {'range': [-2, 2], 'autorange': False},\n",
    "                         'yaxis': {'range': [-2, 2], 'autorange': False},\n",
    "                         'height': 600,\n",
    "                         'width': 600,\n",
    "                         'title': 'Square Animation',\n",
    "                         'updatemenus': [{'type': 'buttons',\n",
    "                                          'buttons': [{'label': 'Play',\n",
    "                                                       'method': 'animate',\n",
    "                                                       'args': [None, dict(frame=dict(duration=50, redraw=False), \n",
    "                                                                   transition=dict(duration=50),\n",
    "                                                                   fromcurrent=True,\n",
    "                                                                   mode='immediate')]}]}]\n",
    "                        },\n",
    "              'frames': [{'data': [{'x': data[i]['x'], 'y': data[i]['y']}]} for i in range(len(x0))]\n",
    "             }\n",
    "\n",
    "    iplot(figure)"
   ]
  },
  {
   "cell_type": "code",
   "execution_count": null,
   "metadata": {},
   "outputs": [],
   "source": [
    "# Transform the 3 vectors that form the unit box. \n",
    "(x0,y0) = skew(1,[1,0])\n",
    "(x1,y1) = skew(1,[1,1])\n",
    "(x2,y2) = skew(1,[0,1])\n",
    "\n",
    "sqtransformation(x0,x1,x2,y0,y1,y2)"
   ]
  },
  {
   "cell_type": "markdown",
   "metadata": {},
   "source": [
    "So a skew transformation in 2D can be seen as a \"shear\" where the box is pushed into a parallelogram."
   ]
  },
  {
   "cell_type": "markdown",
   "metadata": {
    "collapsed": true
   },
   "source": [
    "A good exercise might be to combine the above script as well as the functions we have already written into making one wrapper function which will transform a square using any of the transformations we have discussed above (see html version of this pynb)."
   ]
  },
  {
   "cell_type": "markdown",
   "metadata": {
    "collapsed": true
   },
   "source": [
    "# 6. Determinants\n",
    "The determinant of a 2 x 2 matrix is defined to be:\n",
    "\n",
    "$$ |A| = \\begin{vmatrix}a_1&a_2\\\\b_1&b_2\\end{vmatrix} = a_1b_2-a_2b_1$$ <br>\n",
    "Now if we take the magnitude of the curl of two 3D vectors $\\vec{a}=(a_1,\\,a_2,\\,0)$ and $\\vec{b}=(b_1,\\,b_2,\\,0)$ with a zero $z$-component, recall that this is the area of a parallelogram formed by $\\vec{a}$ and $\\vec{b}$ (see Parallelipiped visualisation), then we get: \n",
    "\n",
    "$$ \\mid\\vec{a}\\times\\vec{b}\\mid = \\begin{vmatrix}\\mathbf{\\hat{i}}&\\mathbf{\\hat{j}}&\\mathbf{\\hat{k}}\\\\a_1&a_2&0\\\\b_1&b_2&0\\end{vmatrix} = a_1b_2-a_2b_1 $$ <br>\n",
    "So for two vectors which lie on the $x-y$ plane we get the absolute value of the cross product of 2 vectors is equal to the area of the parallelogram formed. However, any two vectors in 3D are always coplanar so this result is always true for two general 3D vectors, since we can always rotate coordinate systems such that the two vectors lie on the $x-y$ plane (`Google` isometries for more info), without changing the area of the parallelogram."
   ]
  },
  {
   "cell_type": "code",
   "execution_count": null,
   "metadata": {
    "collapsed": true
   },
   "outputs": [],
   "source": []
  }
 ],
 "metadata": {
  "kernelspec": {
   "display_name": "Python 3",
   "language": "python",
   "name": "python3"
  },
  "language_info": {
   "codemirror_mode": {
    "name": "ipython",
    "version": 3
   },
   "file_extension": ".py",
   "mimetype": "text/x-python",
   "name": "python",
   "nbconvert_exporter": "python",
   "pygments_lexer": "ipython3",
   "version": "3.6.2"
  }
 },
 "nbformat": 4,
 "nbformat_minor": 1
}
