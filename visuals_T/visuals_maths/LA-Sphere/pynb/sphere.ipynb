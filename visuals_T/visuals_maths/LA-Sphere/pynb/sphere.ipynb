{
 "cells": [
  {
   "cell_type": "markdown",
   "metadata": {},
   "source": [
    "<img src=\"imperial_logo.png\" width=\"275\" align=\"left\">\n",
    "<p style=\"text-align: right\">\n",
    "    Created by Dong-Woo (Dom) Ko<br>Email: dk1713@ic.ac.uk<br><a>HTML Version (This will be a link)</a>\n",
    "</p>\n",
    "<br>\n",
    "# 3D Linear Transformation (Sphere)\n",
    "\n",
    "## Learning Objectives\n",
    "* To aid in visualisation of 3D linear transformation (Matrix transformation)\n",
    "* To show that commutation is not obvious in 3D transformation.\n",
    "\n",
    "## Table of Contents\n",
    "1. Introduction\n",
    "2. Common Features\n",
    "    1. Buttons\n",
    "    2. Equation\n",
    "3. Rotation in $I\\!R^3$\n",
    "4. Reflection"
   ]
  },
  {
   "cell_type": "markdown",
   "metadata": {},
   "source": [
    "## 1. Introduction\n",
    "We live in 3 Dimensions but that doesn't mean it is a simple matter to visualise 3D transformations. Our aim is to relieve you of that problem by providing you with this visualisation tool. We hope this will help you get a first class.\n",
    "\n",
    "By plotting a sphere, we are illustrating one of the features of orthogonal linear functions:\n",
    "     Matrix determinant = 1.\n",
    "     \n",
    "This tool is equipped with two 3D orthogonal linear transformations:\n",
    "1. Rotations and,\n",
    "2. Reflections"
   ]
  },
  {
   "cell_type": "markdown",
   "metadata": {},
   "source": [
    "## 2. Common Features"
   ]
  },
  {
   "cell_type": "markdown",
   "metadata": {},
   "source": [
    "### 2.A. Buttons\n",
    "Each tab has three buttons\n",
    "1. [Play] - \"plays\" the transformation animation,\n",
    "2. [Undo] - \"undos\" the applied transformation, and\n",
    "3. [Reset to (-2,-2,2)] - \"resets\" the visualisation."
   ]
  },
  {
   "cell_type": "markdown",
   "metadata": {},
   "source": [
    "### 2.B. Equation\n",
    "Shows Matrix equation showing initial $(x_0, y_0, z_0)$ and transformed vectors $(x, y, z)$, and Matrix of transformation.\n",
    "\n",
    "$$\n",
    "\\begin{pmatrix} x \\\\ y \\\\ z \\end{pmatrix} = \\begin{pmatrix} a & b & c \\\\ d & e & f \\\\ g & h & i\\end{pmatrix}\\begin{pmatrix} x_0 \\\\ y_0 \\\\ z_0 \\end{pmatrix}\n",
    "$$"
   ]
  },
  {
   "cell_type": "markdown",
   "metadata": {},
   "source": [
    "## 3. Rotation in $I\\!R^3$\n",
    "\n",
    "This tab only explores the rotations about the three cartesian coordinate axes. This is sufficient to illustrate the difference between rotations in $I\\!R^3$ and $I\\!R^2$."
   ]
  },
  {
   "cell_type": "markdown",
   "metadata": {},
   "source": [
    "### Rotational Matrices:\n",
    "$$\n",
    "    R_1 = \\begin{pmatrix} 1 & 0 & 0 \\\\ 0 & \\cos\\theta & -\\sin\\theta \\\\ 0 & \\sin\\theta & \\cos\\theta \\end{pmatrix}, \\quad\n",
    "    R_2 = \\begin{pmatrix} \\cos\\theta & 0 & \\sin\\theta \\\\ 0 & 1 & 0 \\\\ -\\sin\\theta & 0 & \\cos\\theta \\end{pmatrix}, \\quad\n",
    "    R_3 = \\begin{pmatrix} \\cos\\theta & -\\sin\\theta & 0 \\\\ \\sin\\theta & \\cos\\theta & 0 \\\\ 0 & 0 & 1\\end{pmatrix},\n",
    "$$"
   ]
  },
  {
   "cell_type": "markdown",
   "metadata": {},
   "source": [
    "### 3.B. Angle Slider\n",
    "Sliders allows to change the angle of rotation. The angle is shown in both radian and degree for better intuitivity."
   ]
  },
  {
   "cell_type": "markdown",
   "metadata": {},
   "source": [
    "### 3.C. Commute?\n",
    "It will show you the \"commute?\" options."
   ]
  },
  {
   "cell_type": "markdown",
   "metadata": {},
   "source": [
    "## 4. Reflect\n",
    "\n",
    "This rotate tab has three reflection:\n",
    "1. Reflection on x = 0,\n",
    "2. Reflection on y = 0, and\n",
    "3. Reflection on z = 0"
   ]
  }
 ],
 "metadata": {
  "kernelspec": {
   "display_name": "Python 3",
   "language": "python",
   "name": "python3"
  },
  "language_info": {
   "codemirror_mode": {
    "name": "ipython",
    "version": 3
   },
   "file_extension": ".py",
   "mimetype": "text/x-python",
   "name": "python",
   "nbconvert_exporter": "python",
   "pygments_lexer": "ipython3",
   "version": "3.6.2"
  }
 },
 "nbformat": 4,
 "nbformat_minor": 2
}
