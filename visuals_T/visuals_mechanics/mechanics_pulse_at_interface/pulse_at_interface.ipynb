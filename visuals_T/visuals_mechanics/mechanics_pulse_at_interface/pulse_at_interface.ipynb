{
 "cells": [
  {
   "cell_type": "markdown",
   "metadata": {
    "collapsed": true
   },
   "source": [
    "<img src=\"imperial_logo.png\" width=\"300\" align=\"left\"><p style=\"text-align: right\">Created by Celie Valentiny<br>Email: cmv13@ic.ac.uk<br><a>HTML Version (This will be a link)</a></p><br>\n",
    "# Pulse at Interface\n",
    "## Learning Objectives:\n",
    "\n",
    "* Understand the transmission and reflection of a pulse at a boundary between two mediums. \n",
    "* Be able to show this phenomenon on `Python` by creating animations with Plotly`.\n",
    "\n",
    "\n",
    "## Table of Contents\n",
    "1. Introduction\n",
    "2. Reflection and Transmission"
   ]
  },
  {
   "cell_type": "markdown",
   "metadata": {},
   "source": [
    "##  1. Introduction \n",
    "When a wave approaches a boundary between two different mediums which have different propagation speeds some of its energy passes into the second medium and some of its energy is reflected from the boundary and remains in the first medium."
   ]
  },
  {
   "cell_type": "code",
   "execution_count": null,
   "metadata": {
    "scrolled": true
   },
   "outputs": [],
   "source": []
  },
  {
   "cell_type": "code",
   "execution_count": 125,
   "metadata": {},
   "outputs": [
    {
     "ename": "NameError",
     "evalue": "name 'NotebookApp' is not defined",
     "output_type": "error",
     "traceback": [
      "\u001b[1;31m---------------------------------------------------------------------------\u001b[0m",
      "\u001b[1;31mNameError\u001b[0m                                 Traceback (most recent call last)",
      "\u001b[1;32m<ipython-input-125-b1bfb10b9f35>\u001b[0m in \u001b[0;36m<module>\u001b[1;34m()\u001b[0m\n\u001b[1;32m----> 1\u001b[1;33m \u001b[0mNotebookApp\u001b[0m\u001b[1;33m.\u001b[0m\u001b[0miopub_data_rate_limit\u001b[0m\u001b[1;33m=\u001b[0m\u001b[1;36m1.0e10\u001b[0m\u001b[1;33m\u001b[0m\u001b[0m\n\u001b[0m\u001b[0;32m      2\u001b[0m \u001b[1;31m# import libraries/packages to be used\u001b[0m\u001b[1;33m\u001b[0m\u001b[1;33m\u001b[0m\u001b[0m\n\u001b[0;32m      3\u001b[0m \u001b[1;32mimport\u001b[0m \u001b[0mplotly\u001b[0m\u001b[1;33m.\u001b[0m\u001b[0mfigure_factory\u001b[0m \u001b[1;32mas\u001b[0m \u001b[0mff\u001b[0m\u001b[1;33m\u001b[0m\u001b[0m\n\u001b[0;32m      4\u001b[0m \u001b[1;32mfrom\u001b[0m \u001b[0mplotly\u001b[0m\u001b[1;33m.\u001b[0m\u001b[0moffline\u001b[0m \u001b[1;32mimport\u001b[0m \u001b[0mdownload_plotlyjs\u001b[0m\u001b[1;33m,\u001b[0m\u001b[0minit_notebook_mode\u001b[0m\u001b[1;33m,\u001b[0m\u001b[0mplot\u001b[0m\u001b[1;33m,\u001b[0m\u001b[0miplot\u001b[0m\u001b[1;33m\u001b[0m\u001b[0m\n\u001b[0;32m      5\u001b[0m \u001b[1;32mimport\u001b[0m \u001b[0mplotly\u001b[0m\u001b[1;33m.\u001b[0m\u001b[0mgraph_objs\u001b[0m \u001b[1;32mas\u001b[0m \u001b[0mgo\u001b[0m\u001b[1;33m\u001b[0m\u001b[0m\n",
      "\u001b[1;31mNameError\u001b[0m: name 'NotebookApp' is not defined"
     ]
    }
   ],
   "source": [
    "\n",
    "# import libraries/packages to be used\n",
    "import plotly.figure_factory as ff\n",
    "from plotly.offline import download_plotlyjs,init_notebook_mode,plot,iplot\n",
    "import plotly.graph_objs as go\n",
    "init_notebook_mode(connected=True)\n",
    "import numpy as np"
   ]
  },
  {
   "cell_type": "raw",
   "metadata": {},
   "source": [
    "The code below defines the different variables for the plot. You can modify some of these variables to obtain a different plot:\n",
    "-v1: this is the velocity of the incident wave\n",
    "-alpha: it is ratio of the velocity in the second medium and the velocity in the first medium. Changing alpha will therefore change the velocity of the second medium\n"
   ]
  },
  {
   "cell_type": "code",
   "execution_count": null,
   "metadata": {
    "collapsed": true
   },
   "outputs": [],
   "source": [
    "# Variables\n",
    "# x-coordinates\n",
    "n = 200\n",
    "x = np.linspace(-10, 10, n)\n",
    "# Initialise incident, reflected and transmitted waves\n",
    "y_i = [0]*n\n",
    "y_r = [0]*n\n",
    "y_t = [0]*n\n",
    "# Velocity of incident wave\n",
    "v1 = 10\n",
    "# Velocity of transmitted wave\n",
    "alpha = 0.5\n",
    "v2 = alpha*v1\n",
    "# Time\n",
    "t_end = 19/v1 if v1 < v2 else (9 / v1 + 10 / v2)\n",
    "times = np.linspace(0, t_end, 80)\n",
    "# Transmitted and reflected equation constants\n",
    "A = (v2-v1)/(v1+v2)\n",
    "B = 2*v1/(v1+v2)"
   ]
  },
  {
   "cell_type": "markdown",
   "metadata": {},
   "source": [
    "The code snippet below is the equation for the pulse at time t=0, so prior to reaching the interface. "
   ]
  },
  {
   "cell_type": "code",
   "execution_count": null,
   "metadata": {
    "collapsed": true
   },
   "outputs": [],
   "source": [
    "# Initialise incident wave\n",
    "for i in range(n):\n",
    "    y_i[i] = (x[i] + 6) * np.exp(-1*((x[i] + 6) * (x[i] + 6)) + (x[i] + 6))\n"
   ]
  },
  {
   "cell_type": "code",
   "execution_count": null,
   "metadata": {
    "collapsed": true
   },
   "outputs": [],
   "source": [
    "# Data: Initial plot\n",
    "incident = dict(x=x, y=y_i,\n",
    "                name=\"incident\",\n",
    "                mode=\"line\",\n",
    "                line=dict(width=2, color=\"#960078\", simplify=False))\n",
    "\n",
    "\n",
    "reflected = dict(x=x, y=y_r,\n",
    "                 name=\"reflected\",\n",
    "                 mode=\"line\",\n",
    "                 line=dict(width=2, color='#E40043', simplify=False))\n",
    "\n",
    "\n",
    "transmitted = dict(x=x, y=y_t,\n",
    "                   name=\"transmitted\",\n",
    "                   mode=\"line\",\n",
    "                   line=dict(width=2, color='#00ACD7', simplify=False))\n",
    "\n",
    "\n",
    "boundary = dict(x=[0, 0], y=[-4, 4],\n",
    "                name=\"boundary\",\n",
    "                mode=\"line\",\n",
    "                line=dict(width=2, color='black', simplify=False))\n",
    "\n",
    "\n",
    "xline = dict(x=[-15, 15], y=[0, 0],\n",
    "             showlegend=False,\n",
    "             mode=\"line\",\n",
    "             line=dict(width=2, color='black', simplify=False))\n",
    "\n",
    "data = [incident, transmitted, reflected, boundary, xline]\n"
   ]
  },
  {
   "cell_type": "raw",
   "metadata": {},
   "source": [
    "The cell below is mainly plotly syntax to define the layout of the plot, there is no need to fully understand this bit of code, the most important is to understand the physical concept. "
   ]
  },
  {
   "cell_type": "code",
   "execution_count": null,
   "metadata": {
    "collapsed": true
   },
   "outputs": [],
   "source": [
    "# Plot layout\n",
    "layout = dict(width=800, height=600,margin=dict(l=50,r=50,b=100,t=100, pad=4),\n",
    "              xaxis=dict(range=[-10, 10], autorange=False, zeroline=False),\n",
    "              yaxis=dict(range=[-1.5, 1.5], autorange=False, zeroline=False),\n",
    "              title='Travelling pulse at an interface', hovermode='closest', font=dict(family='Lato',size=18,color='#003E74'),\n",
    "              updatemenus=[{'buttons': [\n",
    "                            {\n",
    "                                'args': [None, {'frame': {'duration': 500, 'redraw': False},\n",
    "                                                'fromcurrent': True,\n",
    "                                                'transition': {'duration': 300, 'easing': 'quadratic-in-out'}}],\n",
    "                                'label': 'Play',\n",
    "                                'method': 'animate'\n",
    "                            },\n",
    "                            {\n",
    "                                'args': [[None], {'frame': {'duration': 0, 'redraw': False}, 'mode': 'immediate',\n",
    "                                                  'transition': {'duration': 0}}],\n",
    "                                'label': 'Pause',\n",
    "                                'method': 'animate'\n",
    "                            }\n",
    "                                    ],\n",
    "                        'direction': 'right',\n",
    "                        'pad': {'r': 10, 't': 87},\n",
    "                        'showactive': False,\n",
    "                        'type': 'buttons',\n",
    "                        'x': 5,\n",
    "                        'xanchor': 'right',\n",
    "                        'y': 0,\n",
    "                        'yanchor': 'top'}])"
   ]
  },
  {
   "cell_type": "markdown",
   "metadata": {},
   "source": [
    "The functions below are used to compute the frames that show the travelling of the wave. "
   ]
  },
  {
   "cell_type": "code",
   "execution_count": null,
   "metadata": {
    "collapsed": true
   },
   "outputs": [],
   "source": [
    "# Data update functions over time\n",
    "def compute_i(t):\n",
    "    for j in range(n):\n",
    "        if x[j] < 0:\n",
    "            y_i[j] = (x[j] + 6 - v1 * t) * np.exp(-1*((x[j] + 6 - v1 * t) * (x[j] + 6 - v1 * t)) + (x[j] + 6 - v1 * t))\n",
    "        else:\n",
    "            y_i[j] = 0\n",
    "    return y_i[:]\n",
    "\n",
    "\n",
    "def compute_r(t):\n",
    "    for k in range(n):\n",
    "        if x[k] < 0:\n",
    "            y_r[k] = A * (-1*x[k] + 6 - v1 * t) * np.exp(-1*((-1*x[k] + 6 - v1 * t) * (-1*x[k] + 6 - v1 * t)) + (-1*x[k] + 6 - v1 * t))\n",
    "        else:\n",
    "            y_r[k] = 0\n",
    "    return y_r[:]\n",
    "\n",
    "\n",
    "def compute_t(t):\n",
    "    for l in range(n):\n",
    "        if x[l] > 0:\n",
    "            y_t[l] = B * (v1 / v2 * x[l] + 6 - v1 * t) * np.exp(-1*((v1 / v2 * x[l] + 6 - v1 * t) * (v1 / v2 * x[l] + 6 - v1 * t)) + (v1 / v2 * x[l] + 6 - v1 * t))\n",
    "        else:\n",
    "            y_t[l] = 0\n",
    "    return y_t[:]\n",
    "\n",
    "frames = [dict(data=[dict(x=x,\n",
    "                          y=compute_i(time),\n",
    "                          mode='lines',\n",
    "                          line=dict(color=\"#960078\", width=2)),\n",
    "                     dict(x=x,\n",
    "                          y=compute_t(time),\n",
    "                          mode='lines',\n",
    "                          line=dict(color='#00ACD7', width=2)),\n",
    "                     dict(x=x,\n",
    "                          y=compute_r(time),\n",
    "                          mode='lines',\n",
    "                          line=dict(color='#E40043', width=2))\n",
    "                     ]) for time in times]"
   ]
  },
  {
   "cell_type": "code",
   "execution_count": null,
   "metadata": {},
   "outputs": [],
   "source": [
    "figure = dict(data=data, layout=layout, frames=frames)\n",
    "iplot(figure)\n"
   ]
  }
 ],
 "metadata": {
  "kernelspec": {
   "display_name": "Python 3",
   "language": "python",
   "name": "python3"
  },
  "language_info": {
   "codemirror_mode": {
    "name": "ipython",
    "version": 3
   },
   "file_extension": ".py",
   "mimetype": "text/x-python",
   "name": "python",
   "nbconvert_exporter": "python",
   "pygments_lexer": "ipython3",
   "version": "3.6.1"
  }
 },
 "nbformat": 4,
 "nbformat_minor": 2
}
